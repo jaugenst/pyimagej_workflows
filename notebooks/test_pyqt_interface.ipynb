{
 "cells": [
  {
   "cell_type": "code",
   "execution_count": 2,
   "id": "e31770c1-9cbf-45dd-afae-d70a8294c14e",
   "metadata": {},
   "outputs": [],
   "source": [
    "import sys\n",
    "\n",
    "# 1. Import QApplication and all the required widgets\n",
    "from PyQt5.QtWidgets import QApplication, QLabel, QWidget"
   ]
  },
  {
   "cell_type": "code",
   "execution_count": 3,
   "id": "4b58206d-3149-4e51-988b-086812f2d4f4",
   "metadata": {},
   "outputs": [],
   "source": [
    "app = QApplication([])"
   ]
  },
  {
   "cell_type": "code",
   "execution_count": 4,
   "id": "1fd20343-803e-479d-bcd2-6faa7fa09207",
   "metadata": {},
   "outputs": [],
   "source": [
    "window = QWidget()\n",
    "window.setWindowTitle(\"PyQt App\")\n",
    "window.setGeometry(100, 100, 280, 80)\n",
    "helloMsg = QLabel(\"<h1>Hello, World!</h1>\", parent=window)\n",
    "helloMsg.move(60, 15)"
   ]
  },
  {
   "cell_type": "code",
   "execution_count": 5,
   "id": "3a42f092-4a6e-45a6-9937-683870fa2330",
   "metadata": {},
   "outputs": [],
   "source": [
    "window.show()"
   ]
  },
  {
   "cell_type": "code",
   "execution_count": 6,
   "id": "455d9750-5161-421e-a724-173e6bacdede",
   "metadata": {},
   "outputs": [
    {
     "ename": "SystemExit",
     "evalue": "0",
     "output_type": "error",
     "traceback": [
      "An exception has occurred, use %tb to see the full traceback.\n",
      "\u001b[0;31mSystemExit\u001b[0m\u001b[0;31m:\u001b[0m 0\n"
     ]
    },
    {
     "name": "stderr",
     "output_type": "stream",
     "text": [
      "/home/saka/sw/local/fiji/2023/lib/python3.10/site-packages/IPython/core/interactiveshell.py:3468: UserWarning: To exit: use 'exit', 'quit', or Ctrl-D.\n",
      "  warn(\"To exit: use 'exit', 'quit', or Ctrl-D.\", stacklevel=1)\n"
     ]
    }
   ],
   "source": [
    "sys.exit(app.exec())"
   ]
  },
  {
   "cell_type": "code",
   "execution_count": null,
   "id": "502a719c-132b-4c92-8b5b-9ab7eba9927f",
   "metadata": {},
   "outputs": [],
   "source": []
  }
 ],
 "metadata": {
  "kernelspec": {
   "display_name": "Python 3 (ipykernel)",
   "language": "python",
   "name": "python3"
  },
  "language_info": {
   "codemirror_mode": {
    "name": "ipython",
    "version": 3
   },
   "file_extension": ".py",
   "mimetype": "text/x-python",
   "name": "python",
   "nbconvert_exporter": "python",
   "pygments_lexer": "ipython3",
   "version": "3.10.12"
  }
 },
 "nbformat": 4,
 "nbformat_minor": 5
}
