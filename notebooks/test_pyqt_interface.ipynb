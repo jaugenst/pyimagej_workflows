{
 "cells": [
  {
   "cell_type": "code",
   "execution_count": 3,
   "id": "e31770c1-9cbf-45dd-afae-d70a8294c14e",
   "metadata": {},
   "outputs": [],
   "source": [
    "import sys\n",
    "import os\n",
    "import glob\n",
    "# 1. Import QApplication and all the required widgets\n",
    "from PyQt5.QtWidgets import QApplication, QLabel, QWidget"
   ]
  },
  {
   "cell_type": "code",
   "execution_count": 4,
   "id": "d73cf3cd-5ee8-49b0-88a7-863435875e81",
   "metadata": {},
   "outputs": [],
   "source": [
    "file_pattern = os.path.join(\"/home/saka/Documents/Lab_stuff/confocal/20230427_thp1lc3_gal3_alix/gal3/measurement\", \"*.tif\")\n",
    "file_list = glob.glob(file_pattern)"
   ]
  },
  {
   "cell_type": "code",
   "execution_count": 5,
   "id": "4b58206d-3149-4e51-988b-086812f2d4f4",
   "metadata": {},
   "outputs": [],
   "source": [
    "app = QApplication([])"
   ]
  },
  {
   "cell_type": "code",
   "execution_count": 7,
   "id": "1fd20343-803e-479d-bcd2-6faa7fa09207",
   "metadata": {},
   "outputs": [
    {
     "ename": "SystemExit",
     "evalue": "0",
     "output_type": "error",
     "traceback": [
      "An exception has occurred, use %tb to see the full traceback.\n",
      "\u001b[0;31mSystemExit\u001b[0m\u001b[0;31m:\u001b[0m 0\n"
     ]
    },
    {
     "name": "stderr",
     "output_type": "stream",
     "text": [
      "/home/saka/sw/local/fiji/2023/lib/python3.10/site-packages/IPython/core/interactiveshell.py:3468: UserWarning: To exit: use 'exit', 'quit', or Ctrl-D.\n",
      "  warn(\"To exit: use 'exit', 'quit', or Ctrl-D.\", stacklevel=1)\n"
     ]
    }
   ],
   "source": [
    "window = QWidget()\n",
    "window.setWindowTitle(\"PyQt App\")\n",
    "window.setGeometry(100, 100, 280, 80)\n",
    "helloMsg = QLabel(\"<h1>Hello, World!</h1>\", parent=window)\n",
    "helloMsg.move(60, 15)\n",
    "window.show()\n",
    "sys.exit(app.exec())"
   ]
  },
  {
   "cell_type": "code",
   "execution_count": null,
   "id": "502a719c-132b-4c92-8b5b-9ab7eba9927f",
   "metadata": {},
   "outputs": [],
   "source": [
    "import os\n",
    "from PyQt5 import QtCore, QtGui, QtWidgets\n",
    "\n",
    "class MainWindow(QtWidgets.QMainWindow):\n",
    "    def __init__(self, parent=None):\n",
    "        super(MainWindow, self).__init__(parent)\n",
    "        #url = # ...\n",
    "        #highlight_dir = url + '\\\\highlighted'\n",
    "\n",
    "        self.scrollArea = QtWidgets.QScrollArea(widgetResizable=True)\n",
    "        self.setCentralWidget(self.scrollArea)\n",
    "        content_widget = QtWidgets.QWidget()\n",
    "        self.scrollArea.setWidget(content_widget)\n",
    "        self._lay = QtWidgets.QVBoxLayout(content_widget)\n",
    "\n",
    "        self.files_it = iter([os.path.join(directory_path, file) for file in os.listdir(directory_path)])\n",
    "\n",
    "        self._timer = QtCore.QTimer(self, interval=1)\n",
    "        self._timer.timeout.connect(self.on_timeout)\n",
    "        self._timer.start()\n",
    "\n",
    "    def on_timeout(self):\n",
    "        try:\n",
    "            file = next(self.files_it)\n",
    "            pixmap = QtGui.QPixmap(file)\n",
    "            self.add_pixmap(pixmap)\n",
    "        except StopIteration:\n",
    "            self._timer.stop()\n",
    "\n",
    "    def add_pixmap(self, pixmap):\n",
    "        if not pixmap.isNull():\n",
    "            label = QtWidgets.QLabel(pixmap=pixmap)\n",
    "            self._lay.addWidget(label)\n",
    "\n",
    "if __name__ == '__main__':\n",
    "    import sys\n",
    "    app = QtWidgets.QApplication(sys.argv)\n",
    "    w = MainWindow()\n",
    "    w.show()\n",
    "    sys.exit(app.exec_()) \n"
   ]
  }
 ],
 "metadata": {
  "kernelspec": {
   "display_name": "Python 3 (ipykernel)",
   "language": "python",
   "name": "python3"
  },
  "language_info": {
   "codemirror_mode": {
    "name": "ipython",
    "version": 3
   },
   "file_extension": ".py",
   "mimetype": "text/x-python",
   "name": "python",
   "nbconvert_exporter": "python",
   "pygments_lexer": "ipython3",
   "version": "3.10.12"
  }
 },
 "nbformat": 4,
 "nbformat_minor": 5
}
