{
 "cells": [
  {
   "cell_type": "code",
   "execution_count": null,
   "id": "74c96ec4-6bdc-434d-8853-0017753fb45f",
   "metadata": {
    "tags": []
   },
   "outputs": [],
   "source": [
    "from cellpose import models, io\n",
    "from cellpose.io import *\n",
    "from collections import defaultdict\n",
    "import geopandas\n",
    "import glob\n",
    "import imagej\n",
    "from jpype import JArray, JInt\n",
    "import matplotlib.pyplot as plt\n",
    "import multiprocessing as mp\n",
    "import numpy as np\n",
    "import os\n",
    "import re\n",
    "import pandas\n",
    "from pandas import DataFrame\n",
    "from pathlib import Path\n",
    "import scyjava\n",
    "import seaborn\n",
    "import shutil\n",
    "import tkinter as tk\n",
    "from tkinter import filedialog\n",
    "from PIL import Image"
   ]
  },
  {
   "cell_type": "code",
   "execution_count": null,
   "id": "9fb0d30c-c249-41da-8d3c-27b0ac5d2271",
   "metadata": {
    "tags": []
   },
   "outputs": [],
   "source": [
    "scyjava.config.add_option('-Xmx30g')\n",
    "start_dir = os.getcwd()\n",
    "#ij = imagej.init('sc.fiji:fiji', mode='interactive')\n",
    "ij = imagej.init('/home/saka/sw/local/fiji/2023', mode='interactive')\n",
    "## Something about this init() function changes the current working directory.\n",
    "ij.getApp().getInfo(True)\n",
    "ij.ui().showUI()\n",
    "os.chdir(start_dir)\n",
    "ij.getVersion() #This is to make sure ImageJ/Fiji opened properly. In case of error, it could display '2.9.0/inactive' instead of the full version number"
   ]
  },
  {
   "cell_type": "code",
   "execution_count": null,
   "id": "0d3d98e4-f7cf-4b64-b7a4-e911feac5b7e",
   "metadata": {
    "tags": []
   },
   "outputs": [],
   "source": [
    "showPolygonRoi = scyjava.jimport('ij.gui.PolygonRoi')\n",
    "Overlay = scyjava.jimport('ij.gui.Overlay')\n",
    "Regions = scyjava.jimport('net.imglib2.roi.Regions')\n",
    "LabelRegions = scyjava.jimport('net.imglib2.roi.labeling.LabelRegions')\n",
    "ZProjector = scyjava.jimport('ij.plugin.ZProjector')()\n",
    "Duplicator = scyjava.jimport('ij.plugin.Duplicator')()\n",
    "TrackMate = scyjava.jimport('fiji.plugin.trackmate.TrackMate')\n",
    "ov = Overlay()"
   ]
  },
  {
   "cell_type": "code",
   "execution_count": null,
   "id": "6a44b2b7-b0b4-417b-971c-70a4665170af",
   "metadata": {
    "tags": []
   },
   "outputs": [],
   "source": [
    "Overlay = scyjava.jimport('ij.gui.Overlay')\n",
    "ov = Overlay()\n",
    "rm = ij.RoiManager.getRoiManager()"
   ]
  },
  {
   "cell_type": "code",
   "execution_count": null,
   "id": "6016adc4-0628-4970-ac40-b1dd84a1245d",
   "metadata": {},
   "outputs": [],
   "source": [
    "directory_path = '/home/saka/Documents/Lab stuff/confocal/exp2'\n",
    "#directory_path = '/home/saka/Documents/Zhihui/timelapse/images'\n",
    "os.chdir(directory_path)"
   ]
  },
  {
   "cell_type": "code",
   "execution_count": null,
   "id": "d68fa65d-9aee-46ec-bfae-96cc4ba03519",
   "metadata": {
    "tags": []
   },
   "outputs": [],
   "source": [
    "root = tk.Tk()\n",
    "root.withdraw()\n",
    "filepath = filedialog.askopenfilename()"
   ]
  },
  {
   "cell_type": "code",
   "execution_count": null,
   "id": "17c966d3-f9db-4d3d-8384-1604a1d0bd03",
   "metadata": {
    "tags": []
   },
   "outputs": [],
   "source": [
    "image = ij.io().open(filepath)\n",
    "#ij.ui().show(image)\n",
    "imp = ij.py.to_imageplus(image)"
   ]
  },
  {
   "cell_type": "code",
   "execution_count": null,
   "id": "132e026a-e657-4899-acce-8b60e621c121",
   "metadata": {},
   "outputs": [],
   "source": [
    "ij.ui().show(imp)"
   ]
  },
  {
   "cell_type": "code",
   "execution_count": null,
   "id": "8769d610-da9f-45a7-913e-f853d2622500",
   "metadata": {},
   "outputs": [],
   "source": [
    "\n",
    "\n",
    "#wanted_channel = 2\n",
    "#blue_channel = image[:, :, wanted_channel,:,:]\n",
    "#imp = ij.py.to_imageplus(blue_channel)\n",
    "\n"
   ]
  },
  {
   "cell_type": "code",
   "execution_count": null,
   "id": "350b3045-40fc-4f8b-a278-375420b93270",
   "metadata": {},
   "outputs": [],
   "source": [
    "wanted_channel = 3\n",
    "channel = image[:, :, wanted_channel, :, :]\n",
    "imp = ij.py.to_imageplus(channel)\n",
    "imp.setDimensions(1, 11, 121)\n",
    "#ij.ui().show(imp)\n",
    "#ZProjector = scyjava.jimport(\"ij.plugin.ZProjector\")()\n",
    "#method = 'sum all'\n",
    "#z_projector_result = ZProjector.run(imp, method)\n",
    "#z_collapsed_image = ij.py.from_java(z_projector_result)\n",
    "#z_collapsed_dataset = ij.py.to_dataset(z_collapsed_image)\n",
    "#ij.ui().show(z_collapsed_dataset)"
   ]
  },
  {
   "cell_type": "code",
   "execution_count": null,
   "id": "45f0cca7-7e6c-4124-ba5b-53b3b841ea1e",
   "metadata": {},
   "outputs": [],
   "source": [
    "data_info = {}\n",
    "for element in range(len(imp.dims)):\n",
    "    name = imp.dims[element]\n",
    "    data_info[name] = imp.shape[element]\n",
    "    print(name)\n",
    "num_frame = data_info['Z']"
   ]
  },
  {
   "cell_type": "code",
   "execution_count": null,
   "id": "cee860f0-11c9-4846-b6d7-4044c8f57916",
   "metadata": {},
   "outputs": [],
   "source": [
    "for i in range (data_info['T']):\n",
    "    macro = f\"Stack.setFrame({i + 1})\"\n",
    "    ij.py.run_macro(macro)\n",
    "    input_txt = Path(f\"{directory_path}/frame_{i}_cp_outlines.txt\")\n",
    "        for timepoint in range(1, num_frame):\n",
    "        frame_number = timepoint - 1\n",
    "        input_txt = Path(f\"{directory_path}/outputs/Experiment-1647-Split Scenes-01_z2/cellpose/frame_{frame_number}_cp_outlines.txt\\\")"
   ]
  },
  {
   "cell_type": "code",
   "execution_count": null,
   "id": "ff182e25-0201-43f4-bf92-55f349439e58",
   "metadata": {},
   "outputs": [],
   "source": [
    "file_prefix = \"Image_T\"\n",
    "for timepoint in range(1, num_frame + 1):\n",
    "    frame_number = f\"{timepoint:04d}\"\n",
    "    #input_txt = Path(f\"{directory_path}/txt_outlines/Experiment-1647-Split Scenes-01_z2/cellpose/frame_{frame_number}_cp_outlines.txt\")\n",
    "    input_txt = Path(f\"{directory_path}/txt_outlines/{file_prefix}{frame_number}_Overlay_cp_outlines.txt\")\n",
    "    txt_fh = open(input_txt, 'r')\n",
    "    for line in txt_fh:\n",
    "            xy = line.rstrip().split(\",\")\n",
    "            xy_coords = [int(element) for element in xy if element not in '']\n",
    "            x_coords = [int(element) for element in xy[::2] if element not in '']\n",
    "            y_coords = [int(element) for element in xy[1::2] if element not in '']\n",
    "            xcoords_jint = JArray(JInt)(x_coords)\n",
    "            ycoords_jint = JArray(JInt)(y_coords)\n",
    "            polygon_roi_instance = scyjava.jimport('ij.gui.PolygonRoi')\n",
    "            roi_instance = scyjava.jimport('ij.gui.Roi')\n",
    "            imported_polygon = polygon_roi_instance(xcoords_jint, ycoords_jint, len(x_coords), int(roi_instance.POLYGON))\n",
    "            imp.setRoi(imported_polygon)\n",
    "            rm.addRoi(imported_polygon)\n",
    "            roi_count = rm.getCount()\n",
    "            rm.select(roi_count - 1)\n",
    "            time_set = imp.setZ(timepoint)   \n",
    "            rm.runCommand('Update')\n",
    "ij.py.run_macro(\"roiManager('Select All');\")\n",
    "f_name = os.path.basename(filepath)\n",
    "f_name = os.path.splitext(f_name)[0]\n",
    "rm.runCommand(\"Save\", f\"{directory_path}/\" + f\"{f_name}.zip\")"
   ]
  },
  {
   "cell_type": "code",
   "execution_count": null,
   "id": "711292fa-d4b0-4868-861f-7e96fda63321",
   "metadata": {},
   "outputs": [],
   "source": [
    "wanted_channel = 3\n",
    "channel = image[:, :, wanted_channel, :, :]\n",
    "imp = ij.py.to_imageplus(channel)\n",
    "imp.setDimensions(1, 11, 121)\n",
    "ij.ui().show(imp)"
   ]
  },
  {
   "cell_type": "code",
   "execution_count": null,
   "id": "7cc2978b-6dd8-46ba-a046-a5c2c36c431d",
   "metadata": {},
   "outputs": [],
   "source": [
    "data_info = {}\n",
    "for element in range(len(imp.dims)):\n",
    "    name = imp.dims[element]\n",
    "    data_info[name] = imp.shape[element]\n",
    "    print(name)\n",
    "num_frame = data_info['T'] + 1"
   ]
  },
  {
   "cell_type": "code",
   "execution_count": null,
   "id": "559354a6-89de-4300-ba99-7195ce20d2da",
   "metadata": {},
   "outputs": [],
   "source": [
    "for timepoint in range(1, num_frame):\n",
    "    frame_number = timepoint - 1\n",
    "    input_txt = Path(f\"{directory_path}/outputs/Experiment-1647-Split Scenes-01_z2/cellpose/frame_{frame_number}_cp_outlines.txt\")\n",
    "    txt_fh = open(input_txt, 'r')\n",
    "    for line in txt_fh:\n",
    "            xy = line.rstrip().split(\",\")\n",
    "            xy_coords = [int(element) for element in xy if element not in '']\n",
    "            x_coords = [int(element) for element in xy[::2] if element not in '']\n",
    "            y_coords = [int(element) for element in xy[1::2] if element not in '']\n",
    "            xcoords_jint = JArray(JInt)(x_coords)\n",
    "            ycoords_jint = JArray(JInt)(y_coords)\n",
    "            polygon_roi_instance = scyjava.jimport('ij.gui.PolygonRoi')\n",
    "            roi_instance = scyjava.jimport('ij.gui.Roi')\n",
    "            imported_polygon = polygon_roi_instance(xcoords_jint, ycoords_jint, len(x_coords), int(roi_instance.POLYGON))\n",
    "            imp.setRoi(imported_polygon)\n",
    "            rm.addRoi(imported_polygon)\n",
    "            roi_count = rm.getCount()\n",
    "            rm.select(roi_count - 1)\n",
    "            time_set = imp.setT(timepoint)   \n",
    "            rm.runCommand('Update')\n",
    "ij.py.run_macro(\"roiManager('Select All');\")\n",
    "f_name = os.path.basename(filepath)\n",
    "f_name = os.path.splitext(f_name)[0]\n",
    "rm.runCommand(\"Save\", f\"{directory_path}/\" + f\"{f_name}.zip\")"
   ]
  },
  {
   "cell_type": "code",
   "execution_count": null,
   "id": "59ea6291-6cb1-4683-8911-ff3cf3612c0f",
   "metadata": {},
   "outputs": [],
   "source": [
    "file_path = Path(f\"{directory_path}/results_bacteria.csv\")\n",
    "df = pandas.read_csv(file_path)\n",
    "#df = pandas.read_csv(dataset)\n"
   ]
  },
  {
   "cell_type": "code",
   "execution_count": null,
   "id": "0329108d-7993-4f3c-b3a9-deaf24e0574c",
   "metadata": {},
   "outputs": [],
   "source": [
    "selected_column = df.iloc[:, 1]\n",
    "new_column_name = \"ROI_ID\"\n",
    "df = df.rename(columns = selected_column : new_column_name)"
   ]
  },
  {
   "cell_type": "code",
   "execution_count": null,
   "id": "77f04830-f931-40f6-a5f3-dcf94ca2c489",
   "metadata": {},
   "outputs": [],
   "source": [
    "selected_column = df.iloc[:, 1]\n",
    "selected_column.rename(new_column_name)"
   ]
  },
  {
   "cell_type": "code",
   "execution_count": null,
   "id": "eebc27e8-1966-415b-a309-9c9f66de204c",
   "metadata": {},
   "outputs": [],
   "source": [
    "df.head()"
   ]
  },
  {
   "cell_type": "code",
   "execution_count": null,
   "id": "fcfe6874-61c7-405f-b3ad-41a3b1de767d",
   "metadata": {},
   "outputs": [],
   "source": [
    "x_column='X'\n",
    "y_column='Y'\n",
    "z_column='Slice'\n",
    "gdf = geopandas.GeoDataFrame(\n",
    "        df, geometry=geopandas.points_from_xy(df[x_column], df[y_column], df[z_column]))"
   ]
  },
  {
   "cell_type": "code",
   "execution_count": null,
   "id": "40cf2bf8-8a98-481d-bfea-64054de6c85c",
   "metadata": {},
   "outputs": [],
   "source": [
    "gdf.head()"
   ]
  },
  {
   "cell_type": "code",
   "execution_count": null,
   "id": "e634575c-3e6c-4aea-9784-2b1843c9f1f8",
   "metadata": {},
   "outputs": [],
   "source": [
    "final_time = gdf.Frame.max()"
   ]
  },
  {
   "cell_type": "code",
   "execution_count": null,
   "id": "7e7f2d74-a191-4b06-9cd1-829a2aed7aa0",
   "metadata": {},
   "outputs": [],
   "source": [
    "pairwise_distances = []\n",
    "    for start_time in range(0, final_time):\n",
    "        i = start_time\n",
    "        j = i + 1\n",
    "        ti_idx = gdf.Frame == i\n",
    "        tj_idx = gdf.Frame == j"
   ]
  },
  {
   "cell_type": "code",
   "execution_count": null,
   "id": "49353101-22db-48b1-841a-8d83c91bb690",
   "metadata": {},
   "outputs": [],
   "source": [
    "ij.ui().show(imp)"
   ]
  },
  {
   "cell_type": "code",
   "execution_count": null,
   "id": "7e381817-2803-45c9-aeab-d95556a438ca",
   "metadata": {},
   "outputs": [],
   "source": [
    "roi = rm.select(4)\n",
    "duplicator_result = Duplicator.run(imp, 1, 1, 1, 11, 1, 1)"
   ]
  },
  {
   "cell_type": "code",
   "execution_count": null,
   "id": "8e5d66d9-45eb-4916-9d2b-949b3e290ed4",
   "metadata": {},
   "outputs": [],
   "source": [
    "ij.ui().show(duplicator_result)"
   ]
  },
  {
   "cell_type": "code",
   "execution_count": null,
   "id": "9730caa6-15f0-4ae8-91a8-cdb56832d09c",
   "metadata": {},
   "outputs": [],
   "source": [
    "cell_id = nearest.keys()\n",
    "for i in cell_id:\n",
    "#this array can be used with the \"nearest\" dataset. This one is just an example\n",
    "    celli = nearest[i]\n",
    "    for idx in celli\n",
    "        roi = rm.select(idx)\n",
    "        Stack.getPosition(channel, slice, frame);\n",
    "    \trun(\"Duplicate...\", \"duplicate frames=\"+frame);\n",
    "        selectWindow(title);\n",
    "}\n",
    "\n",
    "selectWindow(title);\n",
    "close();\n",
    "run(\"Concatenate...\", \"all_open open\");"
   ]
  },
  {
   "cell_type": "code",
   "execution_count": null,
   "id": "a5a93dbf-fb7c-4f9f-898b-65baabb2a90a",
   "metadata": {},
   "outputs": [],
   "source": [
    "prout = [17,74,132,185,240,295,347,397,440,488,536,586,645,\n",
    "697,750,804,856,645,697,750,804,856,909,958,1008,1059,1111,\n",
    "1160,1210,1260,1307,1352,1395,1441,1486,1533,1580,1628,1670,\n",
    "1716,1756,1800,1849,1897,1942,1986,2027,2072,2119,2164,2205,\n",
    "2248,2286,2334,2375,2412,2456,2498,2538,2576,2613,2652]"
   ]
  },
  {
   "cell_type": "code",
   "execution_count": null,
   "id": "034f6ca5-3af5-4db9-8d4d-abe427d8208d",
   "metadata": {},
   "outputs": [],
   "source": [
    "for i in prout:\n",
    "    roi = rm.select(i)\n",
    "    "
   ]
  },
  {
   "cell_type": "code",
   "execution_count": null,
   "id": "940dad0e-313e-4728-9461-f54a648616af",
   "metadata": {},
   "outputs": [],
   "source": []
  }
 ],
 "metadata": {
  "kernelspec": {
   "display_name": "Python 3 (ipykernel)",
   "language": "python",
   "name": "python3"
  },
  "language_info": {
   "codemirror_mode": {
    "name": "ipython",
    "version": 3
   },
   "file_extension": ".py",
   "mimetype": "text/x-python",
   "name": "python",
   "nbconvert_exporter": "python",
   "pygments_lexer": "ipython3",
   "version": "3.10.12"
  }
 },
 "nbformat": 4,
 "nbformat_minor": 5
}
