{
 "cells": [
  {
   "cell_type": "code",
   "execution_count": 1,
   "id": "19b1e01d-f81f-4aad-917e-702a3f211f4a",
   "metadata": {},
   "outputs": [],
   "source": [
    "from cellpose import models, io\n",
    "from cellpose.io import *\n",
    "from collections import defaultdict\n",
    "import glob\n",
    "import imagej\n",
    "from jpype import JArray, JInt\n",
    "import matplotlib.pyplot as plt\n",
    "import os\n",
    "import re\n",
    "import pandas\n",
    "from pandas import DataFrame\n",
    "from pathlib import Path\n",
    "import scyjava\n",
    "import seaborn\n",
    "import shutil\n",
    "import tkinter as tk\n",
    "from tkinter import filedialog\n",
    "from PIL import Image\n",
    "from zipfile import ZipFile\n",
    "import csv\n",
    "import numpy as np\n",
    "from skimage.measure import find_contours, label\n",
    "from jpype import JArray, JInt"
   ]
  },
  {
   "cell_type": "code",
   "execution_count": 2,
   "id": "f935527e-8a38-4bfd-ba6a-1f30fbf61e40",
   "metadata": {},
   "outputs": [
    {
     "data": {
      "text/plain": [
       "'2.14.0/1.54f'"
      ]
     },
     "execution_count": 2,
     "metadata": {},
     "output_type": "execute_result"
    }
   ],
   "source": [
    "scyjava.config.add_option('-Xmx30g') # this is to assign RAM to the java session\n",
    "ij = imagej.init('/home/saka/sw/local/fiji2/2023', mode='interactive')\n",
    "ij.ui().showUI()\n",
    "ij.getVersion()"
   ]
  },
  {
   "cell_type": "code",
   "execution_count": 3,
   "id": "6611b6f5-871e-40b4-92e0-ebeacfca7dad",
   "metadata": {},
   "outputs": [],
   "source": [
    "# Dialog window to get the path of the working directory\n",
    "root = tk.Tk()\n",
    "root.withdraw()\n",
    "# Set the path to the directory containing the images\n",
    "directory_path = filedialog.askdirectory()"
   ]
  },
  {
   "cell_type": "code",
   "execution_count": 8,
   "id": "3d484181-92c3-49ca-9df0-71cdf88f1aee",
   "metadata": {},
   "outputs": [],
   "source": [
    "w = scyjava.jimport('ij.WindowManager')"
   ]
  },
  {
   "cell_type": "code",
   "execution_count": null,
   "id": "1bc71082-476a-4a3b-ba66-8f942305b48b",
   "metadata": {},
   "outputs": [],
   "source": [
    "folder_list = os.listdir(directory_path)\n",
    "for folder in folder_list:\n",
    "    folder_path = os.path.join(directory_path, folder)\n",
    "    file_pattern = os.path.join(folder_path, \"*.czi\")\n",
    "    file_list = glob.glob(file_pattern)\n",
    "    for image in file_list:\n",
    "        basename = os.path.basename(image)\n",
    "        corename = os.path.splitext(basename)[0]\n",
    "        imp = ij.IJ.openImage(image)\n",
    "        imp.show()\n",
    "        composite = f\"{corename}_composite.tif\"\n",
    "        ij.IJ.run(\"Select None\")\n",
    "        ij.IJ.run(\"Duplicate...\", f\"title={str(composite)} duplicate channels=1-2\")\n",
    "        ij.IJ.selectWindow(composite)\n",
    "        output = f\"{folder_path}/{composite}\"\n",
    "        image_composite = w.getImage(str(composite))\n",
    "        ij.IJ.save(image_composite, output)\n",
    "        ij.py.run_macro('close(\"*\");')"
   ]
  },
  {
   "cell_type": "code",
   "execution_count": 12,
   "id": "84aaea0e-1c02-4df6-86b3-2fdcf9cdf1c4",
   "metadata": {},
   "outputs": [],
   "source": [
    "IC = scyjava.jimport('ij.plugin.ImageCalculator')"
   ]
  },
  {
   "cell_type": "code",
   "execution_count": null,
   "id": "d683bb9d-f9c5-4bb1-a07c-8fa36babb9c5",
   "metadata": {},
   "outputs": [],
   "source": [
    "for folder in folder_list:\n",
    "    folder_path = os.path.join(directory_path, folder)\n",
    "    # Find all the czi files in the folder\n",
    "    file_pattern = os.path.join(folder_path, \"*composite.tif\")\n",
    "    file_list = glob.glob(file_pattern)\n",
    "    for image in file_list:\n",
    "        imp = ij.IJ.openImage(image)\n",
    "        imp.show()\n",
    "        blue = f\"Blue\"\n",
    "        green = f\"Green\"\n",
    "        ij.IJ.run(\"Duplicate...\", f\"title={str(blue)} duplicate channels=1\")\n",
    "        ij.IJ.run(\"Duplicate...\", f\"title={str(green)} duplicate channels=2\")\n",
    "        imp1 = w.getImage(str(blue))\n",
    "        imp2 = w.getImage(str(green))\n",
    "        imp3 = IC.run(\"Subtract create 32-bit stack\", \"Blue\",\"Green\")\n",
    "        imp4 = IC.run(\"Add create 32-bit stack\", \"Blue\",\"Green\")\n",
    "        imp5 = IC.run(\"Divide create 32-bit stack\", imp3, imp4)\n",
    "        imp5.show()\n",
    "    \n",
    "\n",
    "    \n",
    "nom=getTitle;\n",
    "\tw=getWidth(); \n",
    "\tselectWindow(nom);\n",
    "\t\trun(\"Make Substack...\", \"channels=1 stack\");\n",
    "\t\trename(\"Blue\");\n",
    "\n",
    "\tselectWindow(nom);\n",
    "\trun(\"Make Substack...\", \"channels=2 stack\");\n",
    "\trename(\"Green\");\n",
    "\n",
    "\timageCalculator(\"Subtract create 32-bit stack\", \"Blue\",\"Green\");\n",
    "\trename(\"Num\");\n",
    "\timageCalculator(\"Add create 32-bit stack\", \"Blue\",\"Green\");\n",
    "\trename(\"Den\");\n",
    "\timageCalculator(\"Divide create 32-bit stack\", \"Num\",\"Den\");\n",
    "\trename(nom + \" - GP\");\n",
    "\trun(\"LUTspectrum modif\");"
   ]
  },
  {
   "cell_type": "code",
   "execution_count": 22,
   "id": "f67c8eba-4461-43b5-9aa6-0b4911c07b02",
   "metadata": {},
   "outputs": [],
   "source": [
    "image = f\"{directory_path}/h37 etoh/Experiment-272_composite.tif\"\n",
    "imp = ij.IJ.openImage(image)\n",
    "imp.show()\n",
    "blue = f\"Blue\"\n",
    "green = f\"Green\"\n",
    "ij.IJ.run(\"Duplicate...\", f\"title={str(blue)} duplicate channels=1\")\n",
    "ij.IJ.run(\"Duplicate...\", f\"title={str(green)} duplicate channels=2\")\n",
    "imp1 = w.getImage(str(blue))\n",
    "imp2 = w.getImage(str(green))\n",
    "imp3 = IC.run(imp1, imp2, \"Subtract create 32-bit stack\")\n",
    "imp3.show()\n",
    "imp4 = IC.run(imp1, imp2, \"Add create 32-bit stack\")\n",
    "imp4.show()\n",
    "imp5 = IC.run(imp3, imp4, \"Divide create 32-bit stack\")\n",
    "imp5.show()"
   ]
  },
  {
   "cell_type": "code",
   "execution_count": 21,
   "id": "8196d41a-cb0b-4194-80eb-7a11be053a0b",
   "metadata": {},
   "outputs": [
    {
     "data": {
      "text/plain": [
       "<java object 'org.scijava.script.ScriptModule'>"
      ]
     },
     "execution_count": 21,
     "metadata": {},
     "output_type": "execute_result"
    }
   ],
   "source": [
    "ij.py.run_macro('close(\"*\");')"
   ]
  },
  {
   "cell_type": "code",
   "execution_count": null,
   "id": "80a91b61-f9ca-4f06-b9e6-9e1d7ce6fbab",
   "metadata": {},
   "outputs": [],
   "source": []
  }
 ],
 "metadata": {
  "kernelspec": {
   "display_name": "Python 3 (ipykernel)",
   "language": "python",
   "name": "python3"
  },
  "language_info": {
   "codemirror_mode": {
    "name": "ipython",
    "version": 3
   },
   "file_extension": ".py",
   "mimetype": "text/x-python",
   "name": "python",
   "nbconvert_exporter": "python",
   "pygments_lexer": "ipython3",
   "version": "3.10.12"
  }
 },
 "nbformat": 4,
 "nbformat_minor": 5
}
