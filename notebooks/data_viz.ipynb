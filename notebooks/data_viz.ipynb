{
 "cells": [
  {
   "cell_type": "code",
   "execution_count": 3,
   "id": "5fc6c1c7-f1cb-46f6-a8d5-0c0185919885",
   "metadata": {},
   "outputs": [],
   "source": [
    "import glob\n",
    "import matplotlib.pyplot as plt\n",
    "import os\n",
    "import re\n",
    "import pandas\n",
    "from pandas import DataFrame\n",
    "from pathlib import Path\n",
    "import scyjava\n",
    "import seaborn\n",
    "import tkinter as tk\n",
    "from tkinter import filedialog, simpledialog, messagebox\n",
    "import csv\n",
    "import numpy as np\n",
    "from skimage.measure import find_contours, label"
   ]
  },
  {
   "cell_type": "markdown",
   "id": "89d8965c-ef72-49c4-bcb1-3c3fec82e4fc",
   "metadata": {},
   "source": [
    "# test graph "
   ]
  },
  {
   "cell_type": "code",
   "execution_count": 92,
   "id": "7638a7f0-f7c9-48dc-a512-94943df84c73",
   "metadata": {},
   "outputs": [],
   "source": [
    "def define_main_path():\n",
    "    # Dialog window to get the path of the working directory\n",
    "    root = tk.Tk()\n",
    "    root.withdraw()\n",
    "    # Set the path to the directory containing the images\n",
    "    directory_path = filedialog.askdirectory()\n",
    "    return directory_path\n",
    "\n",
    "def transpose_dataframe(df, x_dim):\n",
    "    df_transposed = df.transpose()\n",
    "    df_cleaned = df_transposed.drop([\"time\"])\n",
    "    for i in range(0, len(df)):\n",
    "        x_value = df[\"time\"][i]\n",
    "        df_cleaned.rename(columns={df_cleaned.columns[i]: f'{x_value}h'}, inplace=True)\n",
    "    return df_cleaned\n",
    "\n",
    "def choose_conditions(df):\n",
    "    # Extract base condition names\n",
    "    condition_bases = sorted({col.split('_exp')[0] for col in df.columns if '_exp' in col})\n",
    "\n",
    "    result_holder = {'selected': []}\n",
    "\n",
    "    def on_select():\n",
    "        result_holder['selected'] = [cond for cond, var in zip(condition_bases, varlist) if var.get()]\n",
    "        win.destroy()\n",
    "\n",
    "    win = tk.Tk()\n",
    "    win.title(\"Select Conditions\")\n",
    "    tk.Label(win, text=\"Select conditions to plot:\").pack()\n",
    "\n",
    "    varlist = []\n",
    "    for cond in condition_bases:\n",
    "        var = tk.BooleanVar()\n",
    "        tk.Checkbutton(win, text=cond, variable=var).pack(anchor=\"w\")\n",
    "        varlist.append(var)\n",
    "\n",
    "    tk.Button(win, text=\"OK\", command=on_select).pack()\n",
    "\n",
    "    # Make sure window pops up and works in notebooks\n",
    "    win.lift()\n",
    "    win.attributes(\"-topmost\", True)\n",
    "    win.after_idle(win.attributes, \"-topmost\", False)\n",
    "    win.wait_window()\n",
    "\n",
    "    return result_holder['selected']\n",
    "\n",
    "def plot_mean_se_dots(df, save_dir, selected_conditions, time_col='time'):\n",
    "    plt.figure(figsize=(6, 4))\n",
    "    \n",
    "    time = df[time_col]\n",
    "    palette = seaborn.color_palette(\"Set2\", len(selected_conditions))\n",
    "\n",
    "    for i, cond in enumerate(selected_conditions):\n",
    "        cond_cols = [col for col in df.columns if cond in col]\n",
    "        cond_data = df[cond_cols]\n",
    "\n",
    "        mean = cond_data.mean(axis=1)\n",
    "        se = cond_data.sem(axis=1)\n",
    "\n",
    "        plt.plot(time, mean, label=cond, color=palette[i], linewidth=2)\n",
    "        plt.scatter(time, mean, color=palette[i], s=50, edgecolor='black', zorder=3)\n",
    "        plt.errorbar(time, mean, yerr=se, fmt='none', ecolor=palette[i], elinewidth=1.5, capsize=5, capthick=1.5)\n",
    "\n",
    "    plt.title(\"Colocalization over Time\")\n",
    "    plt.xlabel(\"Time (h)\")\n",
    "    plt.ylabel(\"% Colocalization\")\n",
    "    plt.ylim(0, df.drop(columns=[time_col]).max().max() * 1.2)\n",
    "    plt.legend()\n",
    "    plt.grid(True)\n",
    "    plt.tight_layout()\n",
    "\n",
    "    # Save outputs\n",
    "    tif_path = os.path.join(save_dir, \"coloc.tif\")\n",
    "    svg_path = os.path.join(save_dir, \"coloc.svg\")\n",
    "    plt.savefig(tif_path)\n",
    "    plt.savefig(svg_path)\n",
    "    plt.show()\n",
    "\n",
    "def plot_mean_se_curves2(df, save_dir, conditions_base=['OSBP+', 'LC3+', 'OSBP+_LC3+'], time_col='time', size = (5, 4)):\n",
    "    plt.figure(figsize=size)\n",
    "    \n",
    "    time = df[time_col]\n",
    "    palette = seaborn.color_palette(\"Set2\", len(conditions_base))\n",
    "\n",
    "    for i, cond in enumerate(conditions_base):\n",
    "        # Identify replicates\n",
    "        cond_cols = [col for col in df.columns if cond in col]\n",
    "        cond_data = df[cond_cols]\n",
    "        \n",
    "        # Calculate mean and SE\n",
    "        mean = cond_data.mean(axis=1)\n",
    "        se = cond_data.sem(axis=1)\n",
    "        \n",
    "        plt.plot(time, mean, label=cond, color=palette[i], linewidth=2)\n",
    "        plt.scatter(time, mean, color=palette[i], s=70, edgecolor='black', zorder=3)\n",
    "        plt.errorbar(time, mean, yerr=se, fmt='none', ecolor=palette[i], elinewidth=1.5, capsize=5, capthick=1.5)\n",
    "        \n",
    "    #plt.title(\"Colocalization over Time\")\n",
    "    plt.xlabel(\"Time (h)\")\n",
    "    plt.ylabel(\"% Colocalization\")\n",
    "    plt.ylim(0, df.drop(columns=[time_col]).max().max() * 1.2)\n",
    "    plt.legend()\n",
    "    plt.grid(False)\n",
    "    ax = plt.gca()\n",
    "    ax.spines['right'].set_visible(False)\n",
    "    ax.spines['top'].set_visible(False)\n",
    "    plt.tight_layout()\n",
    "\n",
    "    # Save outputs\n",
    "    tif_path = os.path.join(save_dir, \"coloc.tif\")\n",
    "    svg_path = os.path.join(save_dir, \"coloc.svg\")\n",
    "    plt.savefig(tif_path)\n",
    "    plt.savefig(svg_path)\n",
    "    plt.show()\n",
    "\n",
    "\n",
    "def plot_histogram(df, save_dir, size = (3, 4)):\n",
    "    plt.figure(figsize=size)\n",
    "    seaborn.barplot(data = df, errorbar = \"se\", capsize=0.1, errwidth=1.5, linewidth=0.5, edgecolor=\"black\", palette=\"Set2\")\n",
    "    plt.ylabel(\"% Colocalization\")\n",
    "    plt.grid(False)\n",
    "    ax = plt.gca()\n",
    "    ax.spines['right'].set_visible(False)\n",
    "    ax.spines['top'].set_visible(False)\n",
    "    plt.tight_layout()\n",
    "\n",
    "    # Save outputs\n",
    "    tif_path = os.path.join(save_dir, \"coloc2.tif\")\n",
    "    svg_path = os.path.join(save_dir, \"coloc2.svg\")\n",
    "    plt.savefig(tif_path)\n",
    "    plt.savefig(svg_path)\n",
    "    plt.show()"
   ]
  },
  {
   "cell_type": "code",
   "execution_count": 5,
   "id": "f7e33fde-9470-414b-9e73-b0cb46e03a20",
   "metadata": {},
   "outputs": [],
   "source": [
    "directory_path = define_main_path()"
   ]
  },
  {
   "cell_type": "code",
   "execution_count": 6,
   "id": "337400bf-5b51-4f16-975a-1570de51b008",
   "metadata": {},
   "outputs": [],
   "source": [
    "df_path = f\"{directory_path}/quantif_coloc.csv\"\n",
    "df = pandas.read_csv(df_path)"
   ]
  },
  {
   "cell_type": "code",
   "execution_count": 5,
   "id": "ab447bc6-cd39-403e-9913-f5ff14f52241",
   "metadata": {},
   "outputs": [
    {
     "data": {
      "text/html": [
       "<div>\n",
       "<style scoped>\n",
       "    .dataframe tbody tr th:only-of-type {\n",
       "        vertical-align: middle;\n",
       "    }\n",
       "\n",
       "    .dataframe tbody tr th {\n",
       "        vertical-align: top;\n",
       "    }\n",
       "\n",
       "    .dataframe thead th {\n",
       "        text-align: right;\n",
       "    }\n",
       "</style>\n",
       "<table border=\"1\" class=\"dataframe\">\n",
       "  <thead>\n",
       "    <tr style=\"text-align: right;\">\n",
       "      <th></th>\n",
       "      <th>1h</th>\n",
       "      <th>6h</th>\n",
       "      <th>20h</th>\n",
       "    </tr>\n",
       "  </thead>\n",
       "  <tbody>\n",
       "    <tr>\n",
       "      <th>OSBP+_exp1</th>\n",
       "      <td>5.726257</td>\n",
       "      <td>11.208150</td>\n",
       "      <td>4.285714</td>\n",
       "    </tr>\n",
       "    <tr>\n",
       "      <th>OSBP+_exp2</th>\n",
       "      <td>9.689922</td>\n",
       "      <td>13.011150</td>\n",
       "      <td>7.509881</td>\n",
       "    </tr>\n",
       "    <tr>\n",
       "      <th>OSBP+_exp3</th>\n",
       "      <td>7.476636</td>\n",
       "      <td>11.325300</td>\n",
       "      <td>12.056740</td>\n",
       "    </tr>\n",
       "    <tr>\n",
       "      <th>LC3+_exp1</th>\n",
       "      <td>14.106150</td>\n",
       "      <td>6.259098</td>\n",
       "      <td>1.587302</td>\n",
       "    </tr>\n",
       "    <tr>\n",
       "      <th>LC3+_exp2</th>\n",
       "      <td>8.527132</td>\n",
       "      <td>4.460967</td>\n",
       "      <td>1.976285</td>\n",
       "    </tr>\n",
       "  </tbody>\n",
       "</table>\n",
       "</div>"
      ],
      "text/plain": [
       "                   1h         6h        20h\n",
       "OSBP+_exp1   5.726257  11.208150   4.285714\n",
       "OSBP+_exp2   9.689922  13.011150   7.509881\n",
       "OSBP+_exp3   7.476636  11.325300  12.056740\n",
       "LC3+_exp1   14.106150   6.259098   1.587302\n",
       "LC3+_exp2    8.527132   4.460967   1.976285"
      ]
     },
     "execution_count": 5,
     "metadata": {},
     "output_type": "execute_result"
    }
   ],
   "source": [
    "x_dim = f\"time\"\n",
    "df_transposed = transpose_dataframe(df, x_dim)\n",
    "df_transposed.head()"
   ]
  },
  {
   "cell_type": "code",
   "execution_count": 47,
   "id": "c02bfc84-6fcb-4208-a6f4-b452e2a9fa2a",
   "metadata": {},
   "outputs": [
    {
     "data": {
      "image/png": "[encoded data removed]",
      "text/plain": [
       "<Figure size 400x400 with 1 Axes>"
      ]
     },
     "metadata": {},
     "output_type": "display_data"
    }
   ],
   "source": [
    "plot_mean_se_curves2(df, directory_path, conditions_base=['OSBP+', 'LC3+', 'LC3+_OSBP+'], time_col='time', size = (4, 4))"
   ]
  },
  {
   "cell_type": "code",
   "execution_count": 29,
   "id": "1fb744a8-7b0a-474b-9271-12602ed0eb17",
   "metadata": {},
   "outputs": [
    {
     "name": "stdout",
     "output_type": "stream",
     "text": [
      "No conditions selected.\n"
     ]
    }
   ],
   "source": [
    "conditions = choose_conditions(df)\n",
    "if conditions:\n",
    "    plot_mean_se_dots(df, directory_path, conditions)\n",
    "else:\n",
    "    print(\"No conditions selected.\")"
   ]
  },
  {
   "cell_type": "code",
   "execution_count": 51,
   "id": "08621e1a-d04d-4a75-ac2c-73aa8a88cf13",
   "metadata": {},
   "outputs": [],
   "source": [
    "df_path2 = f\"{directory_path}/quantif_coloc2.csv\"\n",
    "df2 = pandas.read_csv(df_path2)"
   ]
  },
  {
   "cell_type": "code",
   "execution_count": 93,
   "id": "e757472b-1319-4f3d-8eac-13deb6a4e002",
   "metadata": {},
   "outputs": [
    {
     "data": {
      "image/png": "[encoded data removed]",
      "text/plain": [
       "<Figure size 300x300 with 1 Axes>"
      ]
     },
     "metadata": {},
     "output_type": "display_data"
    }
   ],
   "source": [
    "plot_histogram(df2, directory_path, size = (3, 3))"
   ]
  },
  {
   "cell_type": "code",
   "execution_count": null,
   "id": "7ce973b6-5cbc-41f2-90e1-14eeba6e0ff7",
   "metadata": {},
   "outputs": [],
   "source": []
  }
 ],
 "metadata": {
  "kernelspec": {
   "display_name": "Python 3 (ipykernel)",
   "language": "python",
   "name": "python3"
  },
  "language_info": {
   "codemirror_mode": {
    "name": "ipython",
    "version": 3
   },
   "file_extension": ".py",
   "mimetype": "text/x-python",
   "name": "python",
   "nbconvert_exporter": "python",
   "pygments_lexer": "ipython3",
   "version": "3.10.12"
  }
 },
 "nbformat": 4,
 "nbformat_minor": 5
}
