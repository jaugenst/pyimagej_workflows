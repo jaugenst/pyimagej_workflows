{
 "cells": [
  {
   "cell_type": "code",
   "execution_count": 1,
   "id": "5b7dc790-ff40-40c2-8a42-791b541fef0e",
   "metadata": {
    "tags": []
   },
   "outputs": [],
   "source": [
    "from cellpose import models, io\n",
    "from cellpose.io import *\n",
    "from collections import defaultdict\n",
    "import geopandas\n",
    "import glob\n",
    "import imagej\n",
    "from jpype import JArray, JInt\n",
    "import matplotlib.pyplot as plt\n",
    "import multiprocessing as mp\n",
    "import numpy as np\n",
    "import os\n",
    "import re\n",
    "import pandas\n",
    "from pandas import DataFrame\n",
    "from pathlib import Path\n",
    "import scyjava\n",
    "import seaborn\n",
    "import shutil\n",
    "import tkinter as tk\n",
    "from tkinter import filedialog\n",
    "from PIL import Image"
   ]
  },
  {
   "cell_type": "code",
   "execution_count": 2,
   "id": "6df0cca0-fe9a-4325-b59a-c712af8ede06",
   "metadata": {
    "tags": []
   },
   "outputs": [
    {
     "data": {
      "text/plain": [
       "'2.9.0/1.54e'"
      ]
     },
     "execution_count": 2,
     "metadata": {},
     "output_type": "execute_result"
    }
   ],
   "source": [
    "scyjava.config.add_option('-Xmx30g')\n",
    "start_dir = os.getcwd()\n",
    "#ij = imagej.init('sc.fiji:fiji', mode='interactive')\n",
    "ij = imagej.init('/home/saka/sw/local/fiji/2023', mode='interactive')\n",
    "## Something about this init() function changes the current working directory.\n",
    "ij.getApp().getInfo(True)\n",
    "#ij.ui().showUI()\n",
    "os.chdir(start_dir)\n",
    "ij.getVersion() #This is to make sure ImageJ/Fiji opened properly. In case of error, it could display '2.9.0/inactive' instead of the full version number"
   ]
  },
  {
   "cell_type": "code",
   "execution_count": 3,
   "id": "2b7a0b5b-f93d-4ddd-aea9-dc1bc786a84c",
   "metadata": {
    "tags": []
   },
   "outputs": [],
   "source": [
    "showPolygonRoi = scyjava.jimport('ij.gui.PolygonRoi')\n",
    "Overlay = scyjava.jimport('ij.gui.Overlay')\n",
    "Regions = scyjava.jimport('net.imglib2.roi.Regions')\n",
    "LabelRegions = scyjava.jimport('net.imglib2.roi.labeling.LabelRegions')\n",
    "ZProjector = scyjava.jimport('ij.plugin.ZProjector')()\n",
    "rm = ij.RoiManager.getRoiManager()\n",
    "ov = Overlay()"
   ]
  },
  {
   "cell_type": "code",
   "execution_count": 4,
   "id": "a46d0349-fa1f-42a6-8177-88a933ce0c6a",
   "metadata": {},
   "outputs": [],
   "source": [
    "ij.ui().showUI()"
   ]
  },
  {
   "cell_type": "code",
   "execution_count": 15,
   "id": "22ce871d-483c-4e2c-9fbf-94a4f168c4be",
   "metadata": {},
   "outputs": [],
   "source": [
    "# Dialog window to get the path of the working directory\n",
    "root = tk.Tk()\n",
    "root.withdraw()\n",
    "# Set the path to the directory containing the images\n",
    "directory_path = filedialog.askdirectory()\n",
    "folder_list = os.listdir(directory_path)"
   ]
  },
  {
   "cell_type": "code",
   "execution_count": null,
   "id": "b7a29860-e7fb-40c3-ae2b-eb5b0dd1ab51",
   "metadata": {
    "tags": []
   },
   "outputs": [],
   "source": [
    "for folder in folder_list:\n",
    "    # Get the path to the folder\n",
    "    folder_path = os.path.join(directory_path, folder)\n",
    "     # Find all the \".czi\" files in the folder\n",
    "    file_pattern = os.path.join(folder_path, \"Image_CH3.tif\")\n",
    "    file_list = glob.glob(file_pattern)\n",
    "    for file_path in file_list:\n",
    "        image = ij.io().open(file_path)\n",
    "        imp = ij.py.to_imageplus(image)\n",
    "        # Change bit depth to 8-bit\n",
    "        ij.IJ.run(imp, \"8-bit\", \"\")\n",
    "        # Flatten the image\n",
    "        flatten = imp.flatten()\n",
    "        ij.IJ.run(flatten, \"8-bit\", \"\")\n",
    "        results = ij.py.from_java(flatten)\n",
    "        flatten_image = ij.py.to_dataset(results) \n",
    "        result_path = os.path.splitext(file_path)[0] + \"_flatten.tif\"\n",
    "        ij.io().save(flatten_image, result_path)\n",
    "        print(f\"Saving image {result_path}.\")"
   ]
  },
  {
   "cell_type": "code",
   "execution_count": null,
   "id": "d2e006ca-64d2-40c0-8582-f1ef184090ab",
   "metadata": {
    "tags": []
   },
   "outputs": [],
   "source": [
    "for folder in folder_list:\n",
    "    # Get the path to the folder\n",
    "    folder_path = os.path.join(directory_path, folder)\n",
    "     # Find all the \".czi\" files in the folder\n",
    "    file_pattern = os.path.join(folder_path, \"Image_CH2.tif\")\n",
    "    file_list = glob.glob(file_pattern)\n",
    "    for file_path in file_list:\n",
    "        image = ij.io().open(file_path)\n",
    "        imp = ij.py.to_imageplus(image)\n",
    "        # Change bit depth to 8-bit\n",
    "        ij.IJ.run(imp, \"8-bit\", \"\")\n",
    "        # Flatten the image\n",
    "        flatten = imp.flatten()\n",
    "        ij.IJ.run(flatten, \"8-bit\", \"\")\n",
    "        results = ij.py.from_java(flatten)\n",
    "        flatten_image = ij.py.to_dataset(results) \n",
    "        result_path = os.path.splitext(file_path)[0] + \"_flatten.tif\"\n",
    "        ij.io().save(flatten_image, result_path)\n",
    "        print(f\"Saving image {result_path}.\")"
   ]
  },
  {
   "cell_type": "code",
   "execution_count": null,
   "id": "c42d51a6-ee20-4058-af90-54e42f5678bf",
   "metadata": {
    "tags": []
   },
   "outputs": [],
   "source": [
    "for folder in folder_list:\n",
    "    # Get the path to the folder\n",
    "    folder_path = os.path.join(directory_path, folder)\n",
    "     # Find all the \".czi\" files in the folder\n",
    "    file_pattern = os.path.join(folder_path, \"Image_CH4.tif\")\n",
    "    file_list = glob.glob(file_pattern)\n",
    "    for file_path in file_list:\n",
    "        image = ij.io().open(file_path)\n",
    "        imp = ij.py.to_imageplus(image)\n",
    "        # Change bit depth to 8-bit\n",
    "        ij.IJ.run(imp, \"8-bit\", \"\")\n",
    "        # Flatten the image\n",
    "        flatten = imp.flatten()\n",
    "        ij.IJ.run(flatten, \"8-bit\", \"\")\n",
    "        results = ij.py.from_java(flatten)\n",
    "        flatten_image = ij.py.to_dataset(results) \n",
    "        result_path = os.path.splitext(file_path)[0] + \"_flatten.tif\"\n",
    "        ij.io().save(flatten_image, result_path)\n",
    "        print(f\"Saving image {result_path}.\")"
   ]
  },
  {
   "cell_type": "markdown",
   "id": "791f1f24-36f1-4cf1-a644-c1bac0eb586b",
   "metadata": {},
   "source": [
    "workflow to only segmentate a particular image !!!"
   ]
  },
  {
   "cell_type": "code",
   "execution_count": null,
   "id": "dc9ce86e-d20f-4424-b49c-25e596f872e7",
   "metadata": {
    "tags": []
   },
   "outputs": [],
   "source": [
    "for folder in folder_list:\n",
    "    # Get the path to the folder\n",
    "    folder_path = os.path.join(directory_path, folder)\n",
    "    file_pattern = os.path.join(folder_path, \"Image_CH3_flatten.tif\")\n",
    "    file_list = glob.glob(file_pattern)\n",
    "    model = models.CellposeModel(gpu=True, model_type='sty_fluo_low_8')\n",
    "    for file_path in file_list:\n",
    "        imgs = io.imread(file_path)\n",
    "        channels = [[0,0]]\n",
    "        diameter = 21.622\n",
    "        masks, flows, styles = model.eval(imgs, diameter=diameter, channels=channels)\n",
    "        io.save_to_png(imgs, masks, flows, file_path)"
   ]
  },
  {
   "cell_type": "code",
   "execution_count": null,
   "id": "1e97c100-0852-4027-8544-045a3b50f7ae",
   "metadata": {},
   "outputs": [],
   "source": [
    "rm = ij.RoiManager.getRoiManager()\n",
    "for folder in folder_list:\n",
    "    # Get the path to the folder\n",
    "    folder_path = os.path.join(directory_path, folder)\n",
    "    file_pattern = os.path.join(folder_path, \"Image_CH3_flatten.tif\")\n",
    "    image_red = ij.io().open(file_pattern)\n",
    "    imp = ij.py.to_imageplus(image_red)\n",
    "    input_txt = Path(f\"{folder_path}/Image_CH3_flatten_cp_outlines.txt\")\n",
    "    txt_fh = open(input_txt, 'r')\n",
    "    for line in txt_fh:\n",
    "        xy = line.rstrip().split(\",\")\n",
    "        xy_coords = [int(element) for element in xy if element not in '']\n",
    "        x_coords = [int(element) for element in xy[::2] if element not in '']\n",
    "        y_coords = [int(element) for element in xy[1::2] if element not in '']\n",
    "        xcoords_jint = JArray(JInt)(x_coords)\n",
    "        ycoords_jint = JArray(JInt)(y_coords)\n",
    "        polygon_roi_instance = scyjava.jimport('ij.gui.PolygonRoi')\n",
    "        roi_instance = scyjava.jimport('ij.gui.Roi')\n",
    "        imported_polygon = polygon_roi_instance(xcoords_jint, ycoords_jint, len(x_coords), int(roi_instance.POLYGON))\n",
    "        imp.setRoi(imported_polygon)\n",
    "        rm.addRoi(imported_polygon)\n",
    "    ij.py.run_macro(\"roiManager('Select All');\")\n",
    "    rm.runCommand(\"Save\", f\"{folder_path}/\" + f\"RoiSet.zip\")\n",
    "    ij.py.run_macro(\"roiManager('Select All');\")\n",
    "    rm.runCommand(\"Delete\")"
   ]
  },
  {
   "cell_type": "code",
   "execution_count": null,
   "id": "dc002b64-9e72-4d4c-86d7-80f132298c4c",
   "metadata": {},
   "outputs": [],
   "source": []
  },
  {
   "cell_type": "code",
   "execution_count": null,
   "id": "cb8fb10c-8ef1-4c84-a8e8-86dfea7ec542",
   "metadata": {},
   "outputs": [],
   "source": [
    "for folder in folder_list:\n",
    "    # Get the path to the folder\n",
    "    folder_path = os.path.join(directory_path, folder)\n",
    "    Yellow = Path(f\"{folder_path}/Image_CH2_flatten.tif\").as_posix()\n",
    "    Red = Path(f\"{folder_path}/Image_CH3_flatten.tif\").as_posix()\n",
    "    cyan = Path(f\"{folder_path}/Image_CH4_flatten.tif\").as_posix()\n",
    "    \n",
    "    image_yellow = ij.io().open(Yellow)\n",
    "    image_red = ij.io().open(Red)\n",
    "    image_cyan = ij.io().open(cyan)\n",
    "    ij.ui().show(image_yellow)\n",
    "    ij.ui().show(image_red)\n",
    "    ij.ui().show(image_cyan)\n",
    "    \n",
    "    merge_channels = \"\"\"\n",
    "    selectWindow(\"Image_CH2_flatten.tif\");\n",
    "    run(\"8-bit\");\n",
    "    run(\"Yellow\");\n",
    "    selectWindow(\"Image_CH4_flatten.tif\");\n",
    "    run(\"8-bit\");\n",
    "    run(\"Cyan\");\n",
    "    selectWindow(\"Image_CH3_flatten.tif\");\n",
    "    run(\"8-bit\");\n",
    "    run(\"Red\");\n",
    "    run(\"Merge Channels...\", \"-stack c1=Image_CH3_flatten.tif c5=Image_CH4_flatten.tif c7=Image_CH2_flatten.tif create\");\n",
    "    selectWindow(\"Composite\");\n",
    "\n",
    "    \"\"\"\n",
    "    \n",
    "    ij.py.run_macro(merge_channels)\n",
    "    flatten_image = ij.py.from_java(\"Composite\")\n",
    "    result_path = os.path.join(folder_path, \"Composite.tif\")\n",
    "    format = f'Tiff'\n",
    "    set_string = f'saveAs(\"{format}\", \"{result_path}\")'\n",
    "    #measure_string = f'area mean min centroid median skewness kurtosis integrated stack redirect=None decimal=3'\n",
    "    ij.py.run_macro(set_string)\n",
    "    ij.py.run_macro(\"close();\")\n",
    "    \n",
    "    \n"
   ]
  },
  {
   "cell_type": "code",
   "execution_count": null,
   "id": "2d6ee090-efb1-491c-ab22-4ef6543a3847",
   "metadata": {},
   "outputs": [],
   "source": [
    "rm = ij.RoiManager.getRoiManager()\n",
    "for folder in folder_list:\n",
    "    # Get the path to the folder\n",
    "    folder_path = os.path.join(directory_path, folder)    \n",
    "    composite = Path(f\"{folder_path}/Composite.tif\").as_posix()\n",
    "    image_composite = f'open(\"{composite}\")'\n",
    "    imp = ij.py.run_macro(image_composite)\n",
    "    ij.ui().show(imp)\n",
    "    set_string = f'Set Measurements...'\n",
    "    measure_string = f'area mean stack redirect=None decimal=2'\n",
    "    ij.IJ.run(set_string, measure_string)\n",
    "    input_ROI = Path(f\"{folder_path}/RoiSet.zip\")\n",
    "    rm.open(f\"{input_ROI}\")\n",
    "    measure = \"\"\"\n",
    "    run(\"Set Measurements...\", \"area mean stack redirect=None decimal=2\");\n",
    "    Stack.setChannel(1);\n",
    "    nbArea=roiManager(\"count\")\n",
    "    for (i=0; i<nbArea; i++) {\n",
    "\t\troiManager(\"Select\", i);\n",
    "        run(\"Measure\");\t\n",
    "\t}\n",
    "    Stack.setChannel(2);\n",
    "    nbArea=roiManager(\"count\")\n",
    "    for (i=0; i<nbArea; i++) {\n",
    "\t\troiManager(\"Select\", i);\n",
    "        run(\"Measure\");\t\n",
    "    }\n",
    "    Stack.setChannel(3);\n",
    "    nbArea=roiManager(\"count\")\n",
    "    for (i=0; i<nbArea; i++) {\n",
    "\t\troiManager(\"Select\", i);\n",
    "\t\trun(\"Measure\");\t\n",
    "    }\n",
    "    roiManager('Select All');\n",
    "    roiManager(\"Delete\");\n",
    "    close(\"*\");  \n",
    "    \"\"\"\n",
    "    ij.py.run_macro(measure)\n",
    "    measurements = ij.ResultsTable.getResultsTable()\n",
    "    measurements_table = ij.convert().convert(measurements, scyjava.jimport('org.scijava.table.Table'))\n",
    "    table = ij.py.from_java(measurements_table)\n",
    "    results = os.path.basename(folder_path)\n",
    "    results = os.path.splitext(results)[0]\n",
    "    output_path = Path(f\"{folder_path}/{results}.csv\")\n",
    "    table.to_csv(output_path)\n",
    "    clear = \"\"\"selectWindow(\"Results\");\n",
    "run(\"Clear Results\");\n",
    "    \"\"\"\n",
    "    ij.py.run_macro(clear)"
   ]
  },
  {
   "cell_type": "code",
   "execution_count": null,
   "id": "18a64786-51aa-4b91-bf2d-0c1858c3e38b",
   "metadata": {},
   "outputs": [],
   "source": [
    "root = tk.Tk()\n",
    "root.withdraw()\n",
    "# Set the path to the directory containing the images\n",
    "directory_path = filedialog.askdirectory()"
   ]
  },
  {
   "cell_type": "code",
   "execution_count": null,
   "id": "09d36ec6-401d-40b1-ac45-f270555e131b",
   "metadata": {},
   "outputs": [],
   "source": [
    "Yellow = Path(f\"{directory_path}/Image_CH2_flatten.tif\").as_posix()\n",
    "Red = Path(f\"{directory_path}/Image_CH3_flatten.tif\").as_posix()\n",
    "cyan = Path(f\"{directory_path}/Image_CH4_flatten.tif\").as_posix()\n",
    "    \n",
    "image_yellow = ij.io().open(Yellow)\n",
    "image_red = ij.io().open(Red)\n",
    "image_cyan = ij.io().open(cyan)\n",
    "ij.ui().show(image_yellow)\n",
    "ij.ui().show(image_red)\n",
    "ij.ui().show(image_cyan)\n",
    "\n",
    "merge_channels = \"\"\"\n",
    "    selectWindow(\"Image_CH2_flatten.tif\");\n",
    "run(\"8-bit\");\n",
    "run(\"Yellow\");\n",
    "selectWindow(\"Image_CH4_flatten.tif\");\n",
    "run(\"8-bit\");\n",
    "run(\"Cyan\");\n",
    "selectWindow(\"Image_CH3_flatten.tif\");\n",
    "run(\"8-bit\");\n",
    "run(\"Red\");\n",
    "run(\"Merge Channels...\", \"-stack c1=Image_CH3_flatten.tif c5=Image_CH4_flatten.tif c7=Image_CH2_flatten.tif create\");\n",
    "selectWindow(\"Composite\");\n",
    "\n",
    "\"\"\"\n",
    "    \n",
    "ij.py.run_macro(merge_channels)\n",
    "\n",
    "flatten_image = ij.py.from_java(\"Composite\")\n",
    "result_path = os.path.join(directory_path, \"Composite.tif\")\n",
    "format = f'Tiff'\n",
    "set_string = f'saveAs(\"{format}\", \"{result_path}\")'\n",
    "ij.py.run_macro(set_string)"
   ]
  },
  {
   "cell_type": "code",
   "execution_count": 8,
   "id": "cd5c72a7-0d90-45da-b933-4aaba46773f7",
   "metadata": {},
   "outputs": [],
   "source": [
    "rm = ij.RoiManager.getRoiManager()\n",
    "for folder in folder_list:\n",
    "    # Get the path to the folder\n",
    "    folder_path = os.path.join(directory_path, folder)    \n",
    "    red = Path(f\"{folder_path}/Image_CH3_flatten.tif\").as_posix()\n",
    "    image = f'open(\"{red}\")'\n",
    "    imp = ij.py.run_macro(image)\n",
    "    ij.ui().show(imp)\n",
    "    set_string = f'Set Measurements...'\n",
    "    measure_string = f'area mean stack redirect=None decimal=2'\n",
    "    ij.IJ.run(set_string, measure_string)\n",
    "    input_ROI = Path(f\"{folder_path}/RoiSet.zip\")\n",
    "    rm.open(f\"{input_ROI}\")\n",
    "    measure = \"\"\"\n",
    "    run(\"Set Measurements...\", \"area mean stack redirect=None decimal=2\");\n",
    "    run(\"Set Scale...\", \"distance=1 known=0.12581 unit=µm\");\n",
    "    nbArea=roiManager(\"count\")\n",
    "    for (i=0; i<nbArea; i++) {\n",
    "\t\troiManager(\"Select\", i);\n",
    "        run(\"Measure\");\t\n",
    "\t}\n",
    "    roiManager('Select All');\n",
    "    roiManager(\"Delete\");\n",
    "    close(\"*\");  \n",
    "    \"\"\"\n",
    "    ij.py.run_macro(measure)\n",
    "    measurements = ij.ResultsTable.getResultsTable()\n",
    "    measurements_table = ij.convert().convert(measurements, scyjava.jimport('org.scijava.table.Table'))\n",
    "    table = ij.py.from_java(measurements_table)\n",
    "    results = os.path.basename(folder_path)\n",
    "    results = os.path.splitext(results)[0]\n",
    "    output_path = Path(f\"{folder_path}/{results}_red.csv\")\n",
    "    table.to_csv(output_path)\n",
    "    clear = \"\"\"selectWindow(\"Results\");\n",
    "    run(\"Clear Results\");\n",
    "    \"\"\"\n",
    "    ij.py.run_macro(clear)"
   ]
  },
  {
   "cell_type": "code",
   "execution_count": null,
   "id": "6dcfa298-47df-479b-8f45-e2fd0f19d9ed",
   "metadata": {},
   "outputs": [],
   "source": [
    "\n",
    "folder_prefix = \"1_\"\n",
    "results = []\n",
    "for folder in folder_list:\n",
    "    folder_path = os.path.join(directory_path, folder)\n",
    "    f_name = os.path.basename(folder_path)\n",
    "    file_pattern = Path(f\"{folder_path}/{f_name}_red.csv\").as_posix()\n",
    "    file_list = glob.glob(file_pattern)\n",
    "    for file_path in file_list:\n",
    "        df = pandas.read_csv(file_path)\n",
    "        mean = df['Mean']\n",
    "        results.append(mean)\n",
    "        \n",
    "    final_result = pandas.concat(results,ignore_index=True)\n",
    "    output_path = Path(f\"{folder_path}/{results}_red.csv\")\n",
    "    final_result.to_csv(\n",
    "    print(final_result)"
   ]
  },
  {
   "cell_type": "code",
   "execution_count": 26,
   "id": "cc276536-fd4d-4865-80ef-4e19e545c8ce",
   "metadata": {},
   "outputs": [],
   "source": [
    "# Dialog window to get the path of the working directory\n",
    "root = tk.Tk()\n",
    "root.withdraw()\n",
    "# Set the path to the directory containing the images\n",
    "directory_path = filedialog.askdirectory()\n",
    "folder_list = os.listdir(directory_path)"
   ]
  },
  {
   "cell_type": "code",
   "execution_count": null,
   "id": "23911fc2-68aa-4016-a2e2-461cdb04eee1",
   "metadata": {},
   "outputs": [],
   "source": [
    "print(len(folder_list))"
   ]
  },
  {
   "cell_type": "code",
   "execution_count": null,
   "id": "21c9edb3-609b-4c58-9ee7-01ff608f1937",
   "metadata": {},
   "outputs": [],
   "source": [
    "folder_prefix = \"1_\"\n",
    "for i in folder_list:\n",
    "    root = f\"{folder_prefix}{i}\"\n",
    "    folder_pattern = os.path.join(directory_path, root)\n",
    "    os.chdir(folder_pattern)\n",
    "    file_pattern = Path(f\"{folder_path}/{folder_pattern}{root}_red.csv\").as_posix()\n",
    "    file_list = glob.glob(file_pattern)"
   ]
  },
  {
   "cell_type": "code",
   "execution_count": 20,
   "id": "78a16481-e67b-4142-8359-5e48a2bb235c",
   "metadata": {},
   "outputs": [],
   "source": [
    "# Dialog window to get the path of the working directory\n",
    "root = tk.Tk()\n",
    "root.withdraw()\n",
    "# Set the path to the directory containing the images\n",
    "directory_path = filedialog.askdirectory()"
   ]
  },
  {
   "cell_type": "code",
   "execution_count": 2,
   "id": "c71e3bdc-02c8-451e-9556-6560cdf9abcb",
   "metadata": {},
   "outputs": [],
   "source": [
    "root = tk.Tk()\n",
    "root.withdraw()\n",
    "dataset = filedialog.askopenfilename()"
   ]
  },
  {
   "cell_type": "code",
   "execution_count": 4,
   "id": "bf368f07-cfb3-47d8-883b-a84277855e57",
   "metadata": {},
   "outputs": [
    {
     "data": {
      "text/html": [
       "<div>\n",
       "<style scoped>\n",
       "    .dataframe tbody tr th:only-of-type {\n",
       "        vertical-align: middle;\n",
       "    }\n",
       "\n",
       "    .dataframe tbody tr th {\n",
       "        vertical-align: top;\n",
       "    }\n",
       "\n",
       "    .dataframe thead th {\n",
       "        text-align: right;\n",
       "    }\n",
       "</style>\n",
       "<table border=\"1\" class=\"dataframe\">\n",
       "  <thead>\n",
       "    <tr style=\"text-align: right;\">\n",
       "      <th></th>\n",
       "      <th>pH7</th>\n",
       "      <th>pH4.5</th>\n",
       "    </tr>\n",
       "  </thead>\n",
       "  <tbody>\n",
       "    <tr>\n",
       "      <th>0</th>\n",
       "      <td>22.284264</td>\n",
       "      <td>18.045249</td>\n",
       "    </tr>\n",
       "    <tr>\n",
       "      <th>1</th>\n",
       "      <td>17.732899</td>\n",
       "      <td>14.596000</td>\n",
       "    </tr>\n",
       "    <tr>\n",
       "      <th>2</th>\n",
       "      <td>24.649682</td>\n",
       "      <td>23.017316</td>\n",
       "    </tr>\n",
       "    <tr>\n",
       "      <th>3</th>\n",
       "      <td>13.057471</td>\n",
       "      <td>10.981818</td>\n",
       "    </tr>\n",
       "    <tr>\n",
       "      <th>4</th>\n",
       "      <td>21.710526</td>\n",
       "      <td>28.834043</td>\n",
       "    </tr>\n",
       "  </tbody>\n",
       "</table>\n",
       "</div>"
      ],
      "text/plain": [
       "         pH7      pH4.5\n",
       "0  22.284264  18.045249\n",
       "1  17.732899  14.596000\n",
       "2  24.649682  23.017316\n",
       "3  13.057471  10.981818\n",
       "4  21.710526  28.834043"
      ]
     },
     "execution_count": 4,
     "metadata": {},
     "output_type": "execute_result"
    }
   ],
   "source": [
    "df = pandas.read_csv(dataset)\n",
    "#df = df.rename(columns={'LB_pH7': 'pH7'})\n",
    "#df = df.rename(columns={'LB_pH4.5': 'pH4.5'})\n",
    "df.head()"
   ]
  },
  {
   "cell_type": "code",
   "execution_count": 5,
   "id": "e857312d-8a40-4583-bedf-198f05459b53",
   "metadata": {},
   "outputs": [
    {
     "name": "stdout",
     "output_type": "stream",
     "text": [
      "             pH7      pH4.5\n",
      "0      22.284264  18.045249\n",
      "1      17.732899  14.596000\n",
      "2      24.649682  23.017316\n",
      "3      13.057471  10.981818\n",
      "4      21.710526  28.834043\n",
      "...          ...        ...\n",
      "14602  30.810185        NaN\n",
      "14603  38.714801        NaN\n",
      "14604  38.743056        NaN\n",
      "14605  30.266667        NaN\n",
      "14606  31.679245        NaN\n",
      "\n",
      "[14607 rows x 2 columns]\n"
     ]
    }
   ],
   "source": [
    "print(df)"
   ]
  },
  {
   "cell_type": "code",
   "execution_count": 34,
   "id": "978e24d7-3533-4239-b058-ef52dec4f7e3",
   "metadata": {},
   "outputs": [
    {
     "data": {
      "image/png": "[encoded data removed]",
      "text/plain": [
       "<Figure size 300x400 with 1 Axes>"
      ]
     },
     "metadata": {},
     "output_type": "display_data"
    }
   ],
   "source": [
    "plt.figure(figsize=(3, 4))\n",
    "prout = seaborn.boxplot(data=df, width = 0.9, dodge = True)\n",
    "#plt.savefig(result)"
   ]
  },
  {
   "cell_type": "code",
   "execution_count": 33,
   "id": "94713a99-21cf-47bc-9dd1-3098a5466fd2",
   "metadata": {},
   "outputs": [],
   "source": [
    "result = Path(f\"{directory_path}/plot_area_h2o2.svg\")\n",
    "violin = prout.get_figure()\n",
    "violin.savefig(result)"
   ]
  },
  {
   "cell_type": "code",
   "execution_count": 10,
   "id": "3d33484d-4418-4753-9cfd-ffffdbfddb98",
   "metadata": {},
   "outputs": [
    {
     "data": {
      "text/plain": [
       "Ttest_indResult(statistic=nan, pvalue=nan)"
      ]
     },
     "execution_count": 10,
     "metadata": {},
     "output_type": "execute_result"
    }
   ],
   "source": [
    "from scipy.stats import ttest_ind\n",
    "group1 = df['pH7']\n",
    "group2 = df['pH4.5']\n",
    "ttest_ind(group1, group2)"
   ]
  },
  {
   "cell_type": "code",
   "execution_count": 8,
   "id": "f514964a-1658-429b-bda1-1119355ef92f",
   "metadata": {},
   "outputs": [
    {
     "name": "stdout",
     "output_type": "stream",
     "text": [
      "0        18.045249\n",
      "1        14.596000\n",
      "2        23.017316\n",
      "3        10.981818\n",
      "4        28.834043\n",
      "           ...    \n",
      "14602          NaN\n",
      "14603          NaN\n",
      "14604          NaN\n",
      "14605          NaN\n",
      "14606          NaN\n",
      "Name: pH4.5, Length: 14607, dtype: float64\n"
     ]
    }
   ],
   "source": [
    "print(df['pH4.5'])"
   ]
  },
  {
   "cell_type": "code",
   "execution_count": null,
   "id": "6a615470-0c21-4bdc-920f-fb8d11f1d620",
   "metadata": {},
   "outputs": [],
   "source": []
  }
 ],
 "metadata": {
  "kernelspec": {
   "display_name": "Python 3 (ipykernel)",
   "language": "python",
   "name": "python3"
  },
  "language_info": {
   "codemirror_mode": {
    "name": "ipython",
    "version": 3
   },
   "file_extension": ".py",
   "mimetype": "text/x-python",
   "name": "python",
   "nbconvert_exporter": "python",
   "pygments_lexer": "ipython3",
   "version": "3.10.12"
  }
 },
 "nbformat": 4,
 "nbformat_minor": 5
}
