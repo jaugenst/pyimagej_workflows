{
 "cells": [
  {
   "cell_type": "markdown",
   "id": "00b356b7-c79a-4ad3-9a06-cf6e0aa23a88",
   "metadata": {},
   "source": [
    "## Modules and libraries "
   ]
  },
  {
   "cell_type": "code",
   "execution_count": null,
   "id": "27583050-3e02-47d9-b5f2-cfe471a89801",
   "metadata": {},
   "outputs": [],
   "source": [
    "from cellpose import models, io\n",
    "from cellpose.io import *\n",
    "from collections import defaultdict\n",
    "import geopandas\n",
    "import glob\n",
    "import imagej\n",
    "from jpype import JArray, JInt\n",
    "import matplotlib.pyplot as plt\n",
    "import multiprocessing as mp\n",
    "import numpy as np\n",
    "import os\n",
    "import re\n",
    "import pandas\n",
    "from pandas import DataFrame\n",
    "from pathlib import Path\n",
    "import scyjava\n",
    "import seaborn\n",
    "import shutil\n",
    "import tkinter as tk\n",
    "from tkinter import filedialog\n",
    "from PIL import Image\n",
    "import sys\n",
    "import os"
   ]
  },
  {
   "cell_type": "markdown",
   "id": "74269115-0f0c-4416-831c-70b49dab79b7",
   "metadata": {},
   "source": [
    "## ImageJ initialization\n",
    "If under macOS, the interactive mode is not compatible and will yield an error message so it must be removed. "
   ]
  },
  {
   "cell_type": "code",
   "execution_count": null,
   "id": "0145b230-eea9-46ae-88d8-4b9a89bee6d4",
   "metadata": {},
   "outputs": [],
   "source": [
    "scyjava.config.add_option('-Xmx30g')\n",
    "start_dir = os.getcwd()\n",
    "ij = imagej.init('sc.fiji:fiji', mode='interactive')\n",
    "## Something about this init() function changes the current working directory.\n",
    "ij.getApp().getInfo(True)\n",
    "ij.ui().showUI()\n",
    "os.chdir(start_dir)\n",
    "ij.getVersion() #This is to make sure ImageJ/Fiji opened properly. In case of error, it could display '2.9.0/inactive' instead of the full version number"
   ]
  },
  {
   "cell_type": "code",
   "execution_count": null,
   "id": "37b3a30a-3d3f-4953-a40e-64983e94dba9",
   "metadata": {},
   "outputs": [],
   "source": [
    "showPolygonRoi = scyjava.jimport('ij.gui.PolygonRoi')\n",
    "Overlay = scyjava.jimport('ij.gui.Overlay')\n",
    "Regions = scyjava.jimport('net.imglib2.roi.Regions')\n",
    "LabelRegions = scyjava.jimport('net.imglib2.roi.labeling.LabelRegions')\n",
    "ZProjector = scyjava.jimport('ij.plugin.ZProjector')()\n",
    "ov = Overlay()"
   ]
  },
  {
   "cell_type": "markdown",
   "id": "d98af148-c1fb-40dd-b073-0d9f0c53f93b",
   "metadata": {},
   "source": [
    "## Choice of directory\n",
    "This ask for the parent directory containing of all your subfolders with the image in it"
   ]
  },
  {
   "cell_type": "code",
   "execution_count": null,
   "id": "3b47e91c-1c45-411f-a8d9-e7c1786feab8",
   "metadata": {},
   "outputs": [],
   "source": [
    "root = tk.Tk()\n",
    "root.withdraw()\n",
    "directory_path = filedialog.askdirectory()"
   ]
  },
  {
   "cell_type": "markdown",
   "id": "df4e3d3b-3975-4c12-b63a-29ae79be22ea",
   "metadata": {},
   "source": [
    "## Creation of individual images with single Z in the T-PMT channel\n",
    "Depending on you image acquisition parameter or microscope used, the channel number can be adjusted to match your image channel containing the transmitted light images. \n",
    "You can change the `wanted_channel` number accordingly. For the `wanted_z`, this has to be adjusted to find the Z in your experiment that can give a good contrasted image that cellpose can succesfully segment. "
   ]
  },
  {
   "cell_type": "code",
   "execution_count": null,
   "id": "13c8feb1-060c-48cf-ad77-e8176abf4696",
   "metadata": {},
   "outputs": [],
   "source": [
    "# Get a list of all the folders in the directory\n",
    "folder_list = os.listdir(directory_path)\n",
    "for folder in folder_list:\n",
    "    # Get the path to the folder\n",
    "    folder_path = os.path.join(directory_path, folder)\n",
    "    # Find all the \".czi\" files in the folder\n",
    "    file_pattern = os.path.join(folder_path, \"*.czi\")\n",
    "    file_list = glob.glob(file_pattern)\n",
    "    for file_path in file_list:\n",
    "        image = ij.io().open(file_path)\n",
    "        wanted_channel = 3\n",
    "        wanted_z = 2\n",
    "        wanted_image = image[:, :, wanted_channel, wanted_z]\n",
    "        result_path = os.path.splitext(file_path)[0] + \"-1.tif\"\n",
    "        cellpose_image = ij.py.to_dataset(wanted_image)\n",
    "        ij.io().save(cellpose_image, result_path)\n",
    "        print(f\"Saving image {result_path}.\")"
   ]
  },
  {
   "cell_type": "markdown",
   "id": "a7c3b66c-344a-4177-a5a4-4157c1fc6e56",
   "metadata": {},
   "source": [
    "## Cellpose segmentation\n",
    "Depending on your cellpose installation, `gpu=False` can be turned in `true` if cuda has been installed and working. `model_type=''` is to be filled with your model name (see the example below), if the model has been trained or used in the cellpose GUI that you have locally installed. If it's a new Cellpose installation and you want to use your own model, replace `model_type` by `pretrained_model='/full/path/to/model'`. Be sure the path is accurate. "
   ]
  },
  {
   "cell_type": "code",
   "execution_count": null,
   "id": "2cecffec-3faf-492b-b016-e39f57137838",
   "metadata": {},
   "outputs": [],
   "source": [
    "model = models.CellposeModel(gpu=False, model_type='CP_20230511_140505')\n",
    "files = get_image_files(directory_path, '_masks', look_one_level_down=True)\n",
    "imgs = [imread(f) for f in files]\n",
    "nimg = len(imgs)\n",
    "channels = [[0,0]]\n",
    "masks, flows, styles = model.eval(imgs, diameter=None, channels=channels)\n",
    "io.save_to_png(imgs, masks, flows, files)"
   ]
  },
  {
   "cell_type": "markdown",
   "id": "66e57d7c-9a04-495f-b2ec-1adb2bde23de",
   "metadata": {},
   "source": [
    "## Quantification\n",
    "- first step is to rename the text file from the cellpose output (containing ImageJ ROIs) to facilitate further automation\n",
    "- Second steps is to generate the z-projection \"sum\" of the channel containing the fluorescent probe signal. Adjust the `wanted_channel` number to your channel containing the probe. The image will be saved with the extension \"_green.tif\" because most of our probe are green, but change it if you want, free country.\n",
    "- Last step is to open the \"green\" channel image generated earlier, and open its respective cellpose output text file. Then the ROIs are created from the text files and applied on the image and saved as a zip file matching the name of the image. This is to be able to recall the ROIs on demand from imageJ outside of this notebook. Finally, each ROIs are individually selected and the integrated density of fluorescence measured for each cell. The measurement is repeated for each images contained in the folder and pooled in a table that is saved with the name of the folder. "
   ]
  },
  {
   "cell_type": "code",
   "execution_count": null,
   "id": "98bd020b-c942-49f3-a773-9f2020d8e827",
   "metadata": {},
   "outputs": [],
   "source": [
    "folder_list = os.listdir(directory_path)\n",
    "# Iterate over the folders and process each folder\n",
    "for folder in folder_list:\n",
    "    # Get the path to the folder\n",
    "    folder_path = os.path.join(directory_path, folder)\n",
    "    file_prefix = \"Image \"  # Specify the common prefix of the files\n",
    "\n",
    "# Regular expression pattern to match the number in the filename\n",
    "    pattern = re.compile(rf\"{file_prefix}(\\d+)-1_cp_outlines\\.txt\", re.IGNORECASE)\n",
    "\n",
    "# Iterate over the files in the folder\n",
    "    for filename in os.listdir(folder_path):\n",
    "    # Check if the file matches the desired pattern\n",
    "        match = pattern.match(filename)\n",
    "        if match:\n",
    "        # Extract the number from the filename\n",
    "            current_number = int(match.group(1))\n",
    "        # Construct the new filename with the updated number\n",
    "            new_filename = f\"{file_prefix}{current_number}_green_cp_outlines.txt\"\n",
    "        # Create the full file paths for the old and new filenames\n",
    "            old_filepath = os.path.join(folder_path, filename)\n",
    "            new_filepath = os.path.join(folder_path, new_filename)\n",
    "        # Rename the file\n",
    "            os.rename(old_filepath, new_filepath)\n",
    "            print(f\"Renamed file: {filename} -> {new_filename}\")"
   ]
  },
  {
   "cell_type": "code",
   "execution_count": null,
   "id": "2f251543-9510-491d-a633-b9bf2775bdca",
   "metadata": {},
   "outputs": [],
   "source": [
    "# Z-projection method. Can be change to 'sum' or other as needed. \n",
    "method = 'sum'\n",
    "\n",
    "# Get a list of all the folders in the directory\n",
    "folder_list = os.listdir(directory_path)\n",
    "\n",
    "# Iterate over the folders and process each folder\n",
    "for folder in folder_list:\n",
    "    # Get the path to the folder\n",
    "    folder_path = os.path.join(directory_path, folder)\n",
    "\n",
    "    # Find all the \".czi\" files in the folder\n",
    "    file_pattern = os.path.join(folder_path, \"*.czi\")\n",
    "    file_list = glob.glob(file_pattern)\n",
    "\n",
    "    for file_path in file_list:\n",
    "        image = ij.io().open(file_path)\n",
    "        wanted_channel = 2\n",
    "        green_channel = image[:, :, wanted_channel,:]\n",
    "        imp = ij.py.to_imageplus(green_channel)\n",
    "        z_projector_result = ZProjector.run(imp, method)\n",
    "        z_collapsed_image = ij.py.from_java(z_projector_result)\n",
    "        z_collapsed_dataset = ij.py.to_dataset(z_collapsed_image)  \n",
    "\n",
    "    # Save the results, add a suffix \"bact\" for bacterial channel\n",
    "        result_path = os.path.splitext(file_path)[0] + \"_green.tif\"\n",
    "\n",
    "    # Save as a TIFF image\n",
    "        ij.io().save(z_collapsed_dataset, result_path)\n",
    "        print(f\"Saving image {result_path}.\")"
   ]
  },
  {
   "cell_type": "code",
   "execution_count": null,
   "id": "b9d12ab4-32f8-4134-a82d-ad3295b68fb3",
   "metadata": {},
   "outputs": [],
   "source": [
    "folder_list = os.listdir(directory_path)\n",
    "rm = ij.RoiManager.getRoiManager()\n",
    "\n",
    "# Iterate over the folders and process each folder\n",
    "for folder in folder_list:\n",
    "    # Get the path to the folder\n",
    "    folder_path = os.path.join(directory_path, folder)\n",
    "\n",
    "    # Find all the z-projected nuclear files in the folder\n",
    "    file_pattern = os.path.join(folder_path, \"*.czi\")\n",
    "    file_list = glob.glob(file_pattern)\n",
    "    \n",
    "    for file_path in file_list:\n",
    "        f_name = os.path.basename(file_path)\n",
    "        f_name = os.path.splitext(f_name)[0]\n",
    "        image_path = f\"{folder_path}/{f_name}_green.tif\"\n",
    "        image = ij.io().open(image_path)\n",
    "        input_txt = Path(f\"{folder_path}/{f_name}-1_cp_outlines.txt\")\n",
    "        txt_fh = open(input_txt, 'r')\n",
    "        set_string = f'Set Measurements...'\n",
    "        measure_string = f'integrated redirect=None decimal=2'\n",
    "        \n",
    "        ij.IJ.run(set_string, measure_string)\n",
    "        roi_stats = defaultdict(list)\n",
    "        ij.ui().show(image)\n",
    "        #to better draw, apply and save ROIs, the image should be displayed:\n",
    "        imp = ij.py.to_imageplus(image) \n",
    "        #Call of .txt cellpose output file and draw ROIs based on segmentation result, and add them in the ROI manager\n",
    "        for line in txt_fh:\n",
    "            xy = line.rstrip().split(\",\")\n",
    "            xy_coords = [int(element) for element in xy if element not in '']\n",
    "            x_coords = [int(element) for element in xy[::2] if element not in '']\n",
    "            y_coords = [int(element) for element in xy[1::2] if element not in '']\n",
    "            xcoords_jint = JArray(JInt)(x_coords)\n",
    "            ycoords_jint = JArray(JInt)(y_coords)\n",
    "            polygon_roi_instance = scyjava.jimport('ij.gui.PolygonRoi')\n",
    "            roi_instance = scyjava.jimport('ij.gui.Roi')\n",
    "            imported_polygon = polygon_roi_instance(xcoords_jint, ycoords_jint, len(x_coords), int(roi_instance.POLYGON))\n",
    "            imp.setRoi(imported_polygon)\n",
    "            rm.addRoi(imported_polygon)\n",
    "        ij.py.run_macro(\"roiManager('Select All');\")\n",
    "        rm.runCommand(\"Save\", f\"{folder_path}/\" + f\"{f_name}.zip\")\n",
    "        Measure = \"\"\"\n",
    "    nbArea=roiManager(\"count\")\n",
    "    for (i=0; i<nbArea; i++) {\n",
    "\t\troiManager(\"Select\", i);\n",
    "\t\trun(\"Measure\");\t\n",
    "\t}\n",
    "    array1 = newArray(\"0\");\n",
    "    for (i=1;i<roiManager(\"count\");i++){\n",
    "    array1 = Array.concat(array1,i);\n",
    "    }\n",
    "\troiManager(\"select\", array1);\n",
    "    roiManager(\"Delete\");\n",
    "    close(\"*\");    \n",
    "    \"\"\"\n",
    "        ij.py.run_macro(Measure)\n",
    "\n",
    "    measurements = ij.ResultsTable.getResultsTable()\n",
    "    measurements_table = ij.convert().convert(measurements, scyjava.jimport('org.scijava.table.Table'))\n",
    "    table = ij.py.from_java(measurements_table)\n",
    "    results = os.path.basename(folder_path)\n",
    "    results = os.path.splitext(results)[0]\n",
    "    output_path = Path(f\"{folder_path}/{results}.csv\")\n",
    "    table.to_csv(output_path)\n",
    "\n",
    "    ij.py.run_macro(\"\"\"\n",
    "selectWindow(\"Results\");\n",
    "run(\"Clear Results\");\n",
    "\"\"\")"
   ]
  },
  {
   "cell_type": "code",
   "execution_count": null,
   "id": "169ee620-a4aa-42e5-9b46-8c5da3529809",
   "metadata": {},
   "outputs": [],
   "source": []
  }
 ],
 "metadata": {
  "kernelspec": {
   "display_name": "Python 3 (ipykernel)",
   "language": "python",
   "name": "python3"
  },
  "language_info": {
   "codemirror_mode": {
    "name": "ipython",
    "version": 3
   },
   "file_extension": ".py",
   "mimetype": "text/x-python",
   "name": "python",
   "nbconvert_exporter": "python",
   "pygments_lexer": "ipython3",
   "version": "3.10.12"
  }
 },
 "nbformat": 4,
 "nbformat_minor": 5
}
