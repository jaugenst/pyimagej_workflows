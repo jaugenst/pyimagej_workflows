{
 "cells": [
  {
   "cell_type": "code",
   "execution_count": 1,
   "id": "1974433c-e11b-45d5-a7d6-7bebee715d16",
   "metadata": {
    "editable": true,
    "slideshow": {
     "slide_type": ""
    },
    "tags": []
   },
   "outputs": [],
   "source": [
    "import pandas\n",
    "import geopandas\n",
    "from math import isnan\n",
    "\n",
    "\n",
    "def xref_locations(first, second, first_x='POSITION_X', first_y='POSITION_Y', first_z='POSITION_Z',\n",
    "                   second_x='X', second_y='Y', second_z='Slice',\n",
    "                   max_dist=2, verbose=False):\n",
    "    pairwise_elements = pandas.DataFrame()\n",
    "    first_measurements = pandas.read_csv(first)\n",
    "    second_measurements = pandas.read_csv(second)\n",
    "    first_gdf = geopandas.GeoDataFrame(\n",
    "        first_measurements,\n",
    "        geometry=geopandas.points_from_xy(first_measurements[first_x],\n",
    "                                          first_measurements[first_y],\n",
    "                                          first_measurements[first_z]))\n",
    "    second_gdf = geopandas.GeoDataFrame(\n",
    "        second_measurements,\n",
    "        geometry=geopandas.points_from_xy(second_measurements[second_x],\n",
    "                                          second_measurements[second_y],\n",
    "                                          second_measurements[second_z]))\n",
    "    ti_rows = first_gdf.shape[0]\n",
    "    tj_rows = second_gdf.shape[0]\n",
    "    for ti_row in range(0, ti_rows):\n",
    "        if verbose:\n",
    "            print(f\"On row: {ti_row}\")\n",
    "        ti_element = first_gdf.iloc[[ti_row, ]]\n",
    "        titj = geopandas.sjoin_nearest(ti_element, second_gdf,\n",
    "                                       distance_col=\"pairwise_dist\",\n",
    "                                       max_distance=max_dist)\n",
    "        chosen_closest_dist = titj.pairwise_dist.min()\n",
    "        if (isnan(chosen_closest_dist)):\n",
    "            print(f\"This element has no neighbor within {max_dist}.\")\n",
    "        else:\n",
    "            chosen_closest_cell = titj.pairwise_dist == chosen_closest_dist\n",
    "            chosen_closest_row = titj[chosen_closest_cell]\n",
    "            pairwise_tmp = pandas.concat([pairwise_elements, chosen_closest_row])\n",
    "            pairwise_elements = pairwise_tmp\n",
    "    return pairwise_elements"
   ]
  },
  {
   "cell_type": "code",
   "execution_count": 3,
   "id": "5a4f8050-a76b-4fda-b3c4-7e892b2aaf63",
   "metadata": {
    "editable": true,
    "slideshow": {
     "slide_type": ""
    },
    "tags": []
   },
   "outputs": [
    {
     "data": {
      "image/png": "[encoded data removed]",
      "text/plain": [
       "<Figure size 640x480 with 1 Axes>"
      ]
     },
     "metadata": {},
     "output_type": "display_data"
    }
   ],
   "source": [
    "first = '/home/saka/Documents/Lab_stuff/confocal/exp2/tracks_from_script.csv'\n",
    "second = '/home/saka/Documents/Lab_stuff/confocal/exp2/results_bacteria.csv'\n",
    "\n",
    "import matplotlib.pyplot as plt\n",
    "pairwise = xref_locations(first, second, \n",
    "                          first_x='POSITION_X', \n",
    "                          first_y='POSITION_Y', \n",
    "                          first_z='POSITION_Z', \n",
    "                          second_x='X', \n",
    "                          second_y='Y', \n",
    "                          second_z='Slice', \n",
    "                          verbose=False)\n",
    "pairwise.head()\n",
    "pairwise.shape\n",
    "area_box = pairwise.boxplot(column='Area')\n",
    "area_box.plot()\n",
    "plt.show()"
   ]
  },
  {
   "cell_type": "code",
   "execution_count": 33,
   "id": "8afbe8f4-501a-4a3c-a68f-672dc9e28c2c",
   "metadata": {},
   "outputs": [
    {
     "data": {
      "text/html": [
       "<div>\n",
       "<style scoped>\n",
       "    .dataframe tbody tr th:only-of-type {\n",
       "        vertical-align: middle;\n",
       "    }\n",
       "\n",
       "    .dataframe tbody tr th {\n",
       "        vertical-align: top;\n",
       "    }\n",
       "\n",
       "    .dataframe thead th {\n",
       "        text-align: right;\n",
       "    }\n",
       "</style>\n",
       "<table border=\"1\" class=\"dataframe\">\n",
       "  <thead>\n",
       "    <tr style=\"text-align: right;\">\n",
       "      <th></th>\n",
       "      <th>LABEL</th>\n",
       "      <th>ID</th>\n",
       "      <th>TRACK_ID</th>\n",
       "      <th>QUALITY</th>\n",
       "      <th>POSITION_X</th>\n",
       "      <th>POSITION_Y</th>\n",
       "      <th>POSITION_Z</th>\n",
       "      <th>POSITION_T</th>\n",
       "      <th>FRAME</th>\n",
       "      <th>RADIUS</th>\n",
       "      <th>...</th>\n",
       "      <th>SNR_CH1</th>\n",
       "      <th>geometry</th>\n",
       "      <th>index_right</th>\n",
       "      <th>object_ID</th>\n",
       "      <th>Area</th>\n",
       "      <th>X</th>\n",
       "      <th>Y</th>\n",
       "      <th>Slice</th>\n",
       "      <th>Frame</th>\n",
       "      <th>pairwise_dist</th>\n",
       "    </tr>\n",
       "  </thead>\n",
       "  <tbody>\n",
       "    <tr>\n",
       "      <th>0</th>\n",
       "      <td>ID3255</td>\n",
       "      <td>3255</td>\n",
       "      <td>0</td>\n",
       "      <td>1072</td>\n",
       "      <td>19.174245</td>\n",
       "      <td>13.914444</td>\n",
       "      <td>3.557836</td>\n",
       "      <td>1801.8</td>\n",
       "      <td>3</td>\n",
       "      <td>1.359034</td>\n",
       "      <td>...</td>\n",
       "      <td>0.851284</td>\n",
       "      <td>POINT Z (19.17425 13.91444 3.55784)</td>\n",
       "      <td>11</td>\n",
       "      <td>12</td>\n",
       "      <td>2.903</td>\n",
       "      <td>19.152</td>\n",
       "      <td>14.076</td>\n",
       "      <td>4</td>\n",
       "      <td>4</td>\n",
       "      <td>0.163080</td>\n",
       "    </tr>\n",
       "    <tr>\n",
       "      <th>1</th>\n",
       "      <td>ID3272</td>\n",
       "      <td>3272</td>\n",
       "      <td>0</td>\n",
       "      <td>782</td>\n",
       "      <td>19.744354</td>\n",
       "      <td>13.525865</td>\n",
       "      <td>3.758312</td>\n",
       "      <td>2402.4</td>\n",
       "      <td>4</td>\n",
       "      <td>1.223398</td>\n",
       "      <td>...</td>\n",
       "      <td>0.960940</td>\n",
       "      <td>POINT Z (19.74435 13.52587 3.75831)</td>\n",
       "      <td>19</td>\n",
       "      <td>20</td>\n",
       "      <td>3.482</td>\n",
       "      <td>19.736</td>\n",
       "      <td>13.273</td>\n",
       "      <td>5</td>\n",
       "      <td>5</td>\n",
       "      <td>0.253003</td>\n",
       "    </tr>\n",
       "    <tr>\n",
       "      <th>2</th>\n",
       "      <td>ID3274</td>\n",
       "      <td>3274</td>\n",
       "      <td>0</td>\n",
       "      <td>907</td>\n",
       "      <td>18.022013</td>\n",
       "      <td>16.414509</td>\n",
       "      <td>3.866593</td>\n",
       "      <td>1201.2</td>\n",
       "      <td>2</td>\n",
       "      <td>1.285389</td>\n",
       "      <td>...</td>\n",
       "      <td>0.988358</td>\n",
       "      <td>POINT Z (18.02201 16.41451 3.86659)</td>\n",
       "      <td>4</td>\n",
       "      <td>5</td>\n",
       "      <td>2.619</td>\n",
       "      <td>17.929</td>\n",
       "      <td>16.364</td>\n",
       "      <td>4</td>\n",
       "      <td>3</td>\n",
       "      <td>0.105842</td>\n",
       "    </tr>\n",
       "    <tr>\n",
       "      <th>3</th>\n",
       "      <td>ID3328</td>\n",
       "      <td>3328</td>\n",
       "      <td>1</td>\n",
       "      <td>434</td>\n",
       "      <td>15.177814</td>\n",
       "      <td>8.883561</td>\n",
       "      <td>5.500000</td>\n",
       "      <td>12612.6</td>\n",
       "      <td>21</td>\n",
       "      <td>1.005376</td>\n",
       "      <td>...</td>\n",
       "      <td>0.308222</td>\n",
       "      <td>POINT Z (15.17781 8.88356 5.50000)</td>\n",
       "      <td>162</td>\n",
       "      <td>163</td>\n",
       "      <td>3.266</td>\n",
       "      <td>15.239</td>\n",
       "      <td>8.917</td>\n",
       "      <td>6</td>\n",
       "      <td>23</td>\n",
       "      <td>0.069727</td>\n",
       "    </tr>\n",
       "    <tr>\n",
       "      <th>4</th>\n",
       "      <td>ID3265</td>\n",
       "      <td>3265</td>\n",
       "      <td>1</td>\n",
       "      <td>781</td>\n",
       "      <td>16.020348</td>\n",
       "      <td>9.121823</td>\n",
       "      <td>5.244558</td>\n",
       "      <td>3603.6</td>\n",
       "      <td>6</td>\n",
       "      <td>1.222876</td>\n",
       "      <td>...</td>\n",
       "      <td>0.860317</td>\n",
       "      <td>POINT Z (16.02035 9.12182 5.24456)</td>\n",
       "      <td>32</td>\n",
       "      <td>33</td>\n",
       "      <td>0.745</td>\n",
       "      <td>16.062</td>\n",
       "      <td>9.072</td>\n",
       "      <td>8</td>\n",
       "      <td>7</td>\n",
       "      <td>0.064940</td>\n",
       "    </tr>\n",
       "  </tbody>\n",
       "</table>\n",
       "<p>5 rows × 29 columns</p>\n",
       "</div>"
      ],
      "text/plain": [
       "    LABEL    ID  TRACK_ID  QUALITY  POSITION_X  POSITION_Y  POSITION_Z  \\\n",
       "0  ID3255  3255         0     1072   19.174245   13.914444    3.557836   \n",
       "1  ID3272  3272         0      782   19.744354   13.525865    3.758312   \n",
       "2  ID3274  3274         0      907   18.022013   16.414509    3.866593   \n",
       "3  ID3328  3328         1      434   15.177814    8.883561    5.500000   \n",
       "4  ID3265  3265         1      781   16.020348    9.121823    5.244558   \n",
       "\n",
       "   POSITION_T  FRAME    RADIUS  ...   SNR_CH1  \\\n",
       "0      1801.8      3  1.359034  ...  0.851284   \n",
       "1      2402.4      4  1.223398  ...  0.960940   \n",
       "2      1201.2      2  1.285389  ...  0.988358   \n",
       "3     12612.6     21  1.005376  ...  0.308222   \n",
       "4      3603.6      6  1.222876  ...  0.860317   \n",
       "\n",
       "                              geometry  index_right  object_ID   Area       X  \\\n",
       "0  POINT Z (19.17425 13.91444 3.55784)           11         12  2.903  19.152   \n",
       "1  POINT Z (19.74435 13.52587 3.75831)           19         20  3.482  19.736   \n",
       "2  POINT Z (18.02201 16.41451 3.86659)            4          5  2.619  17.929   \n",
       "3   POINT Z (15.17781 8.88356 5.50000)          162        163  3.266  15.239   \n",
       "4   POINT Z (16.02035 9.12182 5.24456)           32         33  0.745  16.062   \n",
       "\n",
       "        Y  Slice  Frame  pairwise_dist  \n",
       "0  14.076      4      4       0.163080  \n",
       "1  13.273      5      5       0.253003  \n",
       "2  16.364      4      3       0.105842  \n",
       "3   8.917      6     23       0.069727  \n",
       "4   9.072      8      7       0.064940  \n",
       "\n",
       "[5 rows x 29 columns]"
      ]
     },
     "execution_count": 33,
     "metadata": {},
     "output_type": "execute_result"
    }
   ],
   "source": [
    "pairwise.head()"
   ]
  },
  {
   "cell_type": "code",
   "execution_count": 4,
   "id": "150174d5-6995-4b52-b2b1-b42edb58eb0f",
   "metadata": {},
   "outputs": [],
   "source": [
    "pairwise.to_csv('/home/saka/Documents/Lab_stuff/confocal/exp2/tracking.csv')"
   ]
  },
  {
   "cell_type": "code",
   "execution_count": 5,
   "id": "31aeac96-70e2-4b73-899b-389a540eb358",
   "metadata": {},
   "outputs": [
    {
     "data": {
      "text/html": [
       "<div>\n",
       "<style scoped>\n",
       "    .dataframe tbody tr th:only-of-type {\n",
       "        vertical-align: middle;\n",
       "    }\n",
       "\n",
       "    .dataframe tbody tr th {\n",
       "        vertical-align: top;\n",
       "    }\n",
       "\n",
       "    .dataframe thead th {\n",
       "        text-align: right;\n",
       "    }\n",
       "</style>\n",
       "<table border=\"1\" class=\"dataframe\">\n",
       "  <thead>\n",
       "    <tr style=\"text-align: right;\">\n",
       "      <th></th>\n",
       "      <th>Unnamed: 0</th>\n",
       "      <th>LABEL</th>\n",
       "      <th>ID</th>\n",
       "      <th>TRACK_ID</th>\n",
       "      <th>QUALITY</th>\n",
       "      <th>POSITION_X</th>\n",
       "      <th>POSITION_Y</th>\n",
       "      <th>POSITION_Z</th>\n",
       "      <th>POSITION_T</th>\n",
       "      <th>FRAME</th>\n",
       "      <th>...</th>\n",
       "      <th>SNR_CH1</th>\n",
       "      <th>geometry</th>\n",
       "      <th>index_right</th>\n",
       "      <th>object_ID</th>\n",
       "      <th>Area</th>\n",
       "      <th>X</th>\n",
       "      <th>Y</th>\n",
       "      <th>Slice</th>\n",
       "      <th>Frame</th>\n",
       "      <th>pairwise_dist</th>\n",
       "    </tr>\n",
       "  </thead>\n",
       "  <tbody>\n",
       "    <tr>\n",
       "      <th>0</th>\n",
       "      <td>0</td>\n",
       "      <td>ID85892</td>\n",
       "      <td>85892</td>\n",
       "      <td>0</td>\n",
       "      <td>818</td>\n",
       "      <td>15.074031</td>\n",
       "      <td>7.626002</td>\n",
       "      <td>4.344743</td>\n",
       "      <td>6606.6</td>\n",
       "      <td>11</td>\n",
       "      <td>...</td>\n",
       "      <td>NaN</td>\n",
       "      <td>POINT Z (15.0740306778271 7.62600231583196 4.3...</td>\n",
       "      <td>48</td>\n",
       "      <td>49</td>\n",
       "      <td>0.118</td>\n",
       "      <td>15.252</td>\n",
       "      <td>7.824</td>\n",
       "      <td>6</td>\n",
       "      <td>11</td>\n",
       "      <td>0.266226</td>\n",
       "    </tr>\n",
       "    <tr>\n",
       "      <th>1</th>\n",
       "      <td>1</td>\n",
       "      <td>ID96649</td>\n",
       "      <td>96649</td>\n",
       "      <td>0</td>\n",
       "      <td>515</td>\n",
       "      <td>14.093282</td>\n",
       "      <td>7.720758</td>\n",
       "      <td>4.980583</td>\n",
       "      <td>12612.6</td>\n",
       "      <td>21</td>\n",
       "      <td>...</td>\n",
       "      <td>NaN</td>\n",
       "      <td>POINT Z (14.0932817022095 7.72075766591633 4.9...</td>\n",
       "      <td>112</td>\n",
       "      <td>113</td>\n",
       "      <td>0.196</td>\n",
       "      <td>14.177</td>\n",
       "      <td>7.834</td>\n",
       "      <td>6</td>\n",
       "      <td>18</td>\n",
       "      <td>0.140828</td>\n",
       "    </tr>\n",
       "    <tr>\n",
       "      <th>2</th>\n",
       "      <td>1</td>\n",
       "      <td>ID96649</td>\n",
       "      <td>96649</td>\n",
       "      <td>0</td>\n",
       "      <td>515</td>\n",
       "      <td>14.093282</td>\n",
       "      <td>7.720758</td>\n",
       "      <td>4.980583</td>\n",
       "      <td>12612.6</td>\n",
       "      <td>21</td>\n",
       "      <td>...</td>\n",
       "      <td>NaN</td>\n",
       "      <td>POINT Z (14.0932817022095 7.72075766591633 4.9...</td>\n",
       "      <td>62</td>\n",
       "      <td>63</td>\n",
       "      <td>0.196</td>\n",
       "      <td>14.177</td>\n",
       "      <td>7.834</td>\n",
       "      <td>6</td>\n",
       "      <td>13</td>\n",
       "      <td>0.140828</td>\n",
       "    </tr>\n",
       "    <tr>\n",
       "      <th>3</th>\n",
       "      <td>2</td>\n",
       "      <td>ID113544</td>\n",
       "      <td>113544</td>\n",
       "      <td>0</td>\n",
       "      <td>206</td>\n",
       "      <td>12.873218</td>\n",
       "      <td>6.696458</td>\n",
       "      <td>9.427184</td>\n",
       "      <td>19819.8</td>\n",
       "      <td>33</td>\n",
       "      <td>...</td>\n",
       "      <td>NaN</td>\n",
       "      <td>POINT Z (12.8732177650901 6.69645779026554 9.4...</td>\n",
       "      <td>250</td>\n",
       "      <td>251</td>\n",
       "      <td>0.333</td>\n",
       "      <td>12.738</td>\n",
       "      <td>6.813</td>\n",
       "      <td>5</td>\n",
       "      <td>31</td>\n",
       "      <td>0.178510</td>\n",
       "    </tr>\n",
       "    <tr>\n",
       "      <th>4</th>\n",
       "      <td>3</td>\n",
       "      <td>ID85512</td>\n",
       "      <td>85512</td>\n",
       "      <td>0</td>\n",
       "      <td>484</td>\n",
       "      <td>19.753968</td>\n",
       "      <td>13.586736</td>\n",
       "      <td>3.733471</td>\n",
       "      <td>2402.4</td>\n",
       "      <td>4</td>\n",
       "      <td>...</td>\n",
       "      <td>NaN</td>\n",
       "      <td>POINT Z (19.7539682096275 13.5867359552441 3.7...</td>\n",
       "      <td>20</td>\n",
       "      <td>21</td>\n",
       "      <td>1.363</td>\n",
       "      <td>19.558</td>\n",
       "      <td>13.761</td>\n",
       "      <td>6</td>\n",
       "      <td>5</td>\n",
       "      <td>0.262243</td>\n",
       "    </tr>\n",
       "  </tbody>\n",
       "</table>\n",
       "<p>5 rows × 32 columns</p>\n",
       "</div>"
      ],
      "text/plain": [
       "   Unnamed: 0     LABEL      ID  TRACK_ID  QUALITY  POSITION_X  POSITION_Y  \\\n",
       "0           0   ID85892   85892         0      818   15.074031    7.626002   \n",
       "1           1   ID96649   96649         0      515   14.093282    7.720758   \n",
       "2           1   ID96649   96649         0      515   14.093282    7.720758   \n",
       "3           2  ID113544  113544         0      206   12.873218    6.696458   \n",
       "4           3   ID85512   85512         0      484   19.753968   13.586736   \n",
       "\n",
       "   POSITION_Z  POSITION_T  FRAME  ...  SNR_CH1  \\\n",
       "0    4.344743      6606.6     11  ...      NaN   \n",
       "1    4.980583     12612.6     21  ...      NaN   \n",
       "2    4.980583     12612.6     21  ...      NaN   \n",
       "3    9.427184     19819.8     33  ...      NaN   \n",
       "4    3.733471      2402.4      4  ...      NaN   \n",
       "\n",
       "                                            geometry  index_right  object_ID  \\\n",
       "0  POINT Z (15.0740306778271 7.62600231583196 4.3...           48         49   \n",
       "1  POINT Z (14.0932817022095 7.72075766591633 4.9...          112        113   \n",
       "2  POINT Z (14.0932817022095 7.72075766591633 4.9...           62         63   \n",
       "3  POINT Z (12.8732177650901 6.69645779026554 9.4...          250        251   \n",
       "4  POINT Z (19.7539682096275 13.5867359552441 3.7...           20         21   \n",
       "\n",
       "    Area       X       Y  Slice  Frame  pairwise_dist  \n",
       "0  0.118  15.252   7.824      6     11       0.266226  \n",
       "1  0.196  14.177   7.834      6     18       0.140828  \n",
       "2  0.196  14.177   7.834      6     13       0.140828  \n",
       "3  0.333  12.738   6.813      5     31       0.178510  \n",
       "4  1.363  19.558  13.761      6      5       0.262243  \n",
       "\n",
       "[5 rows x 32 columns]"
      ]
     },
     "execution_count": 5,
     "metadata": {},
     "output_type": "execute_result"
    }
   ],
   "source": [
    "dataset = '/home/saka/Documents/Lab_stuff/confocal/exp2/tracking.csv'\n",
    "df = pandas.read_csv(dataset)\n",
    "df.head()"
   ]
  },
  {
   "cell_type": "code",
   "execution_count": 6,
   "id": "1ecf282c-98de-4bf1-802f-d9d442a6fa6b",
   "metadata": {
    "editable": true,
    "slideshow": {
     "slide_type": ""
    },
    "tags": []
   },
   "outputs": [],
   "source": [
    "grouped = df.groupby('TRACK_ID')['object_ID'].apply(list).reset_index()"
   ]
  },
  {
   "cell_type": "code",
   "execution_count": 7,
   "id": "8cbaf286-4703-42fd-a857-0aa03aa88707",
   "metadata": {
    "editable": true,
    "slideshow": {
     "slide_type": ""
    },
    "tags": []
   },
   "outputs": [],
   "source": [
    "grouped.rename(columns={'object_ID': 'object_ID_list'}, inplace=True)"
   ]
  },
  {
   "cell_type": "code",
   "execution_count": 8,
   "id": "b8b1f501-1773-4dbf-8a5e-25d6d334855e",
   "metadata": {},
   "outputs": [
    {
     "name": "stdout",
     "output_type": "stream",
     "text": [
      "   TRACK_ID                                     object_ID_list\n",
      "0         0  [49, 113, 63, 251, 21, 511, 586, 244, 310, 297...\n",
      "1         1                     [320, 367, 380, 318, 351, 361]\n",
      "2         2  [536, 610, 465, 569, 519, 366, 339, 474, 415, ...\n"
     ]
    }
   ],
   "source": [
    "print (grouped)"
   ]
  },
  {
   "cell_type": "code",
   "execution_count": 9,
   "id": "1ab000e6-9c11-45f5-ad93-5373417f8432",
   "metadata": {
    "editable": true,
    "slideshow": {
     "slide_type": ""
    },
    "tags": []
   },
   "outputs": [],
   "source": [
    "grouped.to_csv('/home/saka/Documents/Lab_stuff/confocal/exp2/grouped.csv')"
   ]
  },
  {
   "cell_type": "code",
   "execution_count": 10,
   "id": "c449ecf2-1bde-4444-80f4-d98a3e5c80fe",
   "metadata": {
    "editable": true,
    "slideshow": {
     "slide_type": ""
    },
    "tags": []
   },
   "outputs": [],
   "source": [
    "testing = pandas.read_csv('/home/saka/Documents/Lab_stuff/confocal/exp2/grouped.csv')"
   ]
  },
  {
   "cell_type": "code",
   "execution_count": 11,
   "id": "7f8c9a9d-5904-497a-a0df-7cc9214298ee",
   "metadata": {},
   "outputs": [
    {
     "name": "stdout",
     "output_type": "stream",
     "text": [
      "Unnamed: 0                                     1\n",
      "TRACK_ID                                       1\n",
      "object_ID_list    [320, 367, 380, 318, 351, 361]\n",
      "Name: 1, dtype: object\n"
     ]
    }
   ],
   "source": [
    "single_row = testing.iloc[1]\n",
    "print(single_row)"
   ]
  },
  {
   "cell_type": "code",
   "execution_count": 12,
   "id": "c3f9c3c4-8601-4ce4-a20c-5d1c4dff8bc1",
   "metadata": {},
   "outputs": [],
   "source": [
    "from cellpose import models, io\n",
    "from cellpose.io import *\n",
    "from collections import defaultdict\n",
    "import geopandas\n",
    "import glob\n",
    "import imagej\n",
    "from jpype import JArray, JInt\n",
    "import matplotlib.pyplot as plt\n",
    "import multiprocessing as mp\n",
    "import numpy as np\n",
    "from math import isnan\n",
    "import os\n",
    "import pandas\n",
    "from pandas import DataFrame\n",
    "from pathlib import Path\n",
    "import scyjava\n",
    "import seaborn\n",
    "import shutil\n",
    "import random\n",
    "import tkinter as tk\n",
    "from tkinter import filedialog"
   ]
  },
  {
   "cell_type": "code",
   "execution_count": 13,
   "id": "c103c1cc-4111-4b60-ab3c-a6a130b78216",
   "metadata": {},
   "outputs": [
    {
     "data": {
      "text/plain": [
       "'2.9.0/1.54e'"
      ]
     },
     "execution_count": 13,
     "metadata": {},
     "output_type": "execute_result"
    }
   ],
   "source": [
    "scyjava.config.add_option('-Xmx30g')\n",
    "start_dir = os.getcwd()\n",
    "#ij = imagej.init('sc.fiji:fiji', mode='interactive')\n",
    "ij = imagej.init('/home/saka/sw/local/fiji/2023', mode='interactive')\n",
    "## Something about this init() function changes the current working directory.\n",
    "ij.getApp().getInfo(True)\n",
    "ij.ui().showUI()\n",
    "os.chdir(start_dir)\n",
    "ij.getVersion()"
   ]
  },
  {
   "cell_type": "code",
   "execution_count": 14,
   "id": "bb85fc1c-ef5e-4b4e-93e5-cb40bf3aab5e",
   "metadata": {},
   "outputs": [],
   "source": [
    "root = tk.Tk()\n",
    "root.withdraw()\n",
    "filepath = filedialog.askopenfilename()"
   ]
  },
  {
   "cell_type": "code",
   "execution_count": 15,
   "id": "dbb0ebea-aa53-4673-9e74-3174b21f5f68",
   "metadata": {},
   "outputs": [],
   "source": [
    "image = ij.io().open(filepath)\n",
    "imp = ij.py.to_imageplus(image)\n",
    "imp.setDimensions(1, 11, 62)\n",
    "ij.ui().show(imp)"
   ]
  },
  {
   "cell_type": "code",
   "execution_count": 16,
   "id": "fe3be3db-4a8e-42fa-9096-58c1533e37bf",
   "metadata": {},
   "outputs": [
    {
     "data": {
      "text/plain": [
       "0    [49, 113, 63, 251, 21, 511, 586, 244, 310, 297...\n",
       "1                       [320, 367, 380, 318, 351, 361]\n",
       "2    [536, 610, 465, 569, 519, 366, 339, 474, 415, ...\n",
       "Name: object_ID_list, dtype: object"
      ]
     },
     "execution_count": 16,
     "metadata": {},
     "output_type": "execute_result"
    }
   ],
   "source": [
    "pouet = testing['object_ID_list']\n",
    "pouet.head()"
   ]
  },
  {
   "cell_type": "code",
   "execution_count": 21,
   "id": "2f084e0e-87ff-4c72-93c4-81ba489fe7c2",
   "metadata": {
    "editable": true,
    "slideshow": {
     "slide_type": ""
    },
    "tags": []
   },
   "outputs": [],
   "source": [
    "colors = [\"blue\", \"cyan\", \"green\", \"magenta\", \"orange\", \"red\", \"yellow\"]\n",
    "rm = ij.RoiManager.getRoiManager()\n",
    "for i in range(len(pouet)):\n",
    "    single_row = pouet.iloc[i]\n",
    "    random_color = random.choice(colors)\n",
    "#row_cellids = single_row.child_cell_ids\n",
    "    row_cleaned = single_row.strip('[').strip(']')\n",
    "    row_array = row_cleaned.split(', ')\n",
    "    for cell in row_array:\n",
    "        cell_index = int(cell)\n",
    "        roi = rm.select(cell_index - 1)\n",
    "        overlay_command = f\"Overlay.addSelection('{random_color}',2);\"\n",
    "        ij.py.run_macro(overlay_command)"
   ]
  },
  {
   "cell_type": "code",
   "execution_count": 23,
   "id": "56ec80a6-35c6-445e-9605-f36a50d24f3c",
   "metadata": {},
   "outputs": [
    {
     "data": {
      "text/plain": [
       "<java object 'org.scijava.script.ScriptModule'>"
      ]
     },
     "execution_count": 23,
     "metadata": {},
     "output_type": "execute_result"
    }
   ],
   "source": [
    "qc = \"\"\"\n",
    "run(\"Duplicate...\", \"duplicate\");\n",
    "setMinAndMax(0, 50);\n",
    "run(\"Flatten\", \"stack\");\n",
    "run(\"Z Project...\", \"projection=[Max Intensity] all\");\n",
    "\"\"\"\n",
    "ij.py.run_macro(qc)"
   ]
  }
 ],
 "metadata": {
  "kernelspec": {
   "display_name": "Python 3 (ipykernel)",
   "language": "python",
   "name": "python3"
  },
  "language_info": {
   "codemirror_mode": {
    "name": "ipython",
    "version": 3
   },
   "file_extension": ".py",
   "mimetype": "text/x-python",
   "name": "python",
   "nbconvert_exporter": "python",
   "pygments_lexer": "ipython3",
   "version": "3.10.12"
  }
 },
 "nbformat": 4,
 "nbformat_minor": 5
}
