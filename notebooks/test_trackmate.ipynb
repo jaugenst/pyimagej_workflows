{
 "cells": [
  {
   "cell_type": "code",
   "execution_count": 1,
   "id": "8afbe8f4-501a-4a3c-a68f-672dc9e28c2c",
   "metadata": {},
   "outputs": [],
   "source": [
    "from collections import defaultdict\n",
    "import glob\n",
    "import imagej\n",
    "from jpype import JArray, JInt\n",
    "import matplotlib.pyplot as plt\n",
    "import multiprocessing as mp\n",
    "import numpy as np\n",
    "import os\n",
    "import re\n",
    "import pandas\n",
    "from pandas import DataFrame\n",
    "from pathlib import Path\n",
    "import scyjava\n",
    "import tkinter as tk\n",
    "from tkinter import filedialog\n",
    "from PIL import Image"
   ]
  },
  {
   "cell_type": "code",
   "execution_count": 2,
   "id": "9567df97-bff7-49c3-b5e6-8cf6c58697b9",
   "metadata": {},
   "outputs": [
    {
     "data": {
      "text/plain": [
       "'2.9.0/1.54e'"
      ]
     },
     "execution_count": 2,
     "metadata": {},
     "output_type": "execute_result"
    }
   ],
   "source": [
    "scyjava.config.add_option('-Xmx30g') # this is to assign RAM to the java session\n",
    "start_dir = os.getcwd()\n",
    "#ij = imagej.init('sc.fiji:fiji', mode='interactive')\n",
    "ij = imagej.init('/home/saka/sw/local/fiji/2023', mode='interactive')\n",
    "ij.getApp().getInfo(True)\n",
    "ij.ui().showUI()\n",
    "os.chdir(start_dir)\n",
    "ij.getVersion() #This is to make sure ImageJ/Fiji opened properly. In case of error, it could display '2.9.0/inactive' instead of the full version n"
   ]
  },
  {
   "cell_type": "code",
   "execution_count": 11,
   "id": "3bef1375-195d-4ad7-bf0c-94b4a0717e3e",
   "metadata": {},
   "outputs": [],
   "source": [
    "showPolygonRoi = scyjava.jimport('ij.gui.PolygonRoi')\n",
    "Overlay = scyjava.jimport('ij.gui.Overlay')\n",
    "Regions = scyjava.jimport('net.imglib2.roi.Regions')\n",
    "LabelRegions = scyjava.jimport('net.imglib2.roi.labeling.LabelRegions')\n",
    "ZProjector = scyjava.jimport('ij.plugin.ZProjector')()\n",
    "TrackMate = scyjava.jimport('fiji.plugin.trackmate.TrackMate')()\n",
    "ov = Overlay()"
   ]
  },
  {
   "cell_type": "code",
   "execution_count": 4,
   "id": "6ef333fc-3164-4f6c-86e8-05e6c4844627",
   "metadata": {},
   "outputs": [],
   "source": [
    "root = tk.Tk()\n",
    "root.withdraw()\n",
    "filepath = filedialog.askopenfilename()"
   ]
  },
  {
   "cell_type": "code",
   "execution_count": 14,
   "id": "19d9c995-9d3e-424a-905f-844f1cd08a15",
   "metadata": {},
   "outputs": [],
   "source": [
    "image = ij.io().open(filepath)\n",
    "imp = ij.py.to_imageplus(image)"
   ]
  },
  {
   "cell_type": "code",
   "execution_count": 12,
   "id": "1e7ddbfb-9a2a-4641-8db5-bbdc914a879d",
   "metadata": {},
   "outputs": [],
   "source": [
    "model = TrackMate.getModel()"
   ]
  },
  {
   "cell_type": "code",
   "execution_count": 16,
   "id": "044b7925-3081-44bb-b281-ce20ff07c1ea",
   "metadata": {},
   "outputs": [],
   "source": [
    "settings = TrackMate.getSettings()"
   ]
  },
  {
   "cell_type": "code",
   "execution_count": 19,
   "id": "a8df660b-c5d4-43e9-84f8-84eac7bb31cc",
   "metadata": {},
   "outputs": [
    {
     "ename": "TypeError",
     "evalue": "'fiji.plugin.trackmate.TrackMate' object is not callable",
     "output_type": "error",
     "traceback": [
      "\u001b[0;31m---------------------------------------------------------------------------\u001b[0m",
      "\u001b[0;31mTypeError\u001b[0m                                 Traceback (most recent call last)",
      "Cell \u001b[0;32mIn[19], line 1\u001b[0m\n\u001b[0;32m----> 1\u001b[0m \u001b[43mTrackMate\u001b[49m\u001b[43m(\u001b[49m\u001b[43msettings\u001b[49m\u001b[43m,\u001b[49m\u001b[43m \u001b[49m\u001b[43mimp\u001b[49m\u001b[43m)\u001b[49m\n",
      "\u001b[0;31mTypeError\u001b[0m: 'fiji.plugin.trackmate.TrackMate' object is not callable"
     ]
    }
   ],
   "source": [
    "TrackMate(settings, imp)"
   ]
  },
  {
   "cell_type": "code",
   "execution_count": null,
   "id": "3928e265-6896-4385-b7a5-bbd084a6cd02",
   "metadata": {},
   "outputs": [],
   "source": []
  }
 ],
 "metadata": {
  "kernelspec": {
   "display_name": "Python 3 (ipykernel)",
   "language": "python",
   "name": "python3"
  },
  "language_info": {
   "codemirror_mode": {
    "name": "ipython",
    "version": 3
   },
   "file_extension": ".py",
   "mimetype": "text/x-python",
   "name": "python",
   "nbconvert_exporter": "python",
   "pygments_lexer": "ipython3",
   "version": "3.10.12"
  }
 },
 "nbformat": 4,
 "nbformat_minor": 5
}
