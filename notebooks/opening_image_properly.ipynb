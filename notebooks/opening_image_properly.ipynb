{
 "cells": [
  {
   "cell_type": "code",
   "execution_count": 1,
   "id": "fa609722-c032-46f0-ae64-19b8a03d4977",
   "metadata": {},
   "outputs": [],
   "source": [
    "from cellpose import models, io\n",
    "from cellpose.io import *\n",
    "from collections import defaultdict\n",
    "import glob\n",
    "import imagej\n",
    "from jpype import JArray, JInt\n",
    "import matplotlib.pyplot as plt\n",
    "import multiprocessing as mp\n",
    "import numpy as np\n",
    "import os\n",
    "import re\n",
    "import pandas\n",
    "from pandas import DataFrame\n",
    "from pathlib import Path\n",
    "import scyjava\n",
    "import tkinter as tk\n",
    "from tkinter import filedialog\n",
    "from PIL import Image\n",
    "import seaborn"
   ]
  },
  {
   "cell_type": "code",
   "execution_count": 4,
   "id": "86e5c0dc-9ad0-4a8d-98d6-bbdd7c96e0db",
   "metadata": {},
   "outputs": [],
   "source": [
    "def fiji_init(ram = 30, fiji_path = '/home/jacquouaisse/Documents/fiji-linux64/Fiji.app'):\n",
    "    scyjava.config.add_option(f'-Xmx{ram}g') # this is to assign RAM to the java session\n",
    "    ij = imagej.init(fiji_path, mode='interactive')\n",
    "    ij.ui().showUI()\n",
    "    ij.getVersion()\n",
    "    rm = ij.RoiManager.getRoiManager()\n",
    "    return rm, ij\n",
    "\n",
    "def define_directory_path():\n",
    "    root = tk.Tk()\n",
    "    root.withdraw()\n",
    "    directory_path = filedialog.askdirectory()\n",
    "    return directory_path"
   ]
  },
  {
   "cell_type": "code",
   "execution_count": 3,
   "id": "b5ace130-8971-4b6d-828d-2c3117df0f68",
   "metadata": {},
   "outputs": [
    {
     "name": "stdout",
     "output_type": "stream",
     "text": [
      "Unexpected exception formatting exception. Falling back to standard exception\n",
      "/home/saka/Downloads/max_channels (3).tif\n",
      "Unexpected exception formatting exception. Falling back to standard exception\n"
     ]
    }
   ],
   "source": [
    "rm, ij = fiji_init(ram = 30, fiji_path = '/home/saka/sw/local/fiji/2023')"
   ]
  },
  {
   "cell_type": "code",
   "execution_count": 5,
   "id": "e444eef1-5361-4cb8-bba1-ed8d1a158aa8",
   "metadata": {},
   "outputs": [],
   "source": [
    "directory_path = define_directory_path()"
   ]
  },
  {
   "cell_type": "code",
   "execution_count": 16,
   "id": "0e37f976-4c63-4c5e-8fd0-3209ffe0e2e3",
   "metadata": {},
   "outputs": [],
   "source": [
    "image_path = f\"{directory_path}/max_channels (5).tif\""
   ]
  },
  {
   "cell_type": "code",
   "execution_count": 18,
   "id": "93345919-65fe-46df-9956-d79262adb5aa",
   "metadata": {},
   "outputs": [],
   "source": [
    "imp = ij.IJ.openImage(image_path)\n",
    "imp.show()\n",
    "data_info = {}\n",
    "for element in range(len(imp.dims)):\n",
    "    name = imp.dims[element]\n",
    "    data_info[name] = imp.shape[element]\n",
    "num_channel = data_info['C'] + 1\n",
    "for n in range (1, num_channel):\n",
    "    imp.setC(n)\n",
    "    ij.IJ.resetMinAndMax(imp)\n",
    "imp.setC(1)\n",
    "ij.IJ.run(imp, \"Green\", \"\");\n",
    "imp.setC(2)\n",
    "ij.IJ.run(imp, \"Red\", \"\");\n",
    "imp.setC(3)\n",
    "ij.IJ.run(imp, \"Grays\", \"\");\n",
    "imp.setC(1)\n",
    "ij.IJ.run(\"Delete Slice\", \"delete=channel\")\n",
    "ij.IJ.run(imp, \"Smooth\", \"stack\")\n",
    "imp.setC(1)\n",
    "ij.IJ.run(imp, \"Enhance Contrast\", \"saturated=0.35\")"
   ]
  },
  {
   "cell_type": "code",
   "execution_count": null,
   "id": "77bc4807-5089-46d8-bcb8-b547c1db99d2",
   "metadata": {},
   "outputs": [],
   "source": []
  }
 ],
 "metadata": {
  "kernelspec": {
   "display_name": "Python 3 (ipykernel)",
   "language": "python",
   "name": "python3"
  },
  "language_info": {
   "codemirror_mode": {
    "name": "ipython",
    "version": 3
   },
   "file_extension": ".py",
   "mimetype": "text/x-python",
   "name": "python",
   "nbconvert_exporter": "python",
   "pygments_lexer": "ipython3",
   "version": "3.10.12"
  }
 },
 "nbformat": 4,
 "nbformat_minor": 5
}
