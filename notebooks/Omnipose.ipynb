{
 "cells": [
  {
   "cell_type": "code",
   "execution_count": 1,
   "id": "43ea8d93-416d-472b-9ad6-e9645bde1bf4",
   "metadata": {},
   "outputs": [
    {
     "name": "stdout",
     "output_type": "stream",
     "text": [
      "2023-08-03 10:56:56,762 [INFO] Note: NumExpr detected 12 cores but \"NUMEXPR_MAX_THREADS\" not set, so enforcing safe limit of 8.\n",
      "2023-08-03 10:56:56,763 [INFO] NumExpr defaulting to 8 threads.\n"
     ]
    },
    {
     "name": "stderr",
     "output_type": "stream",
     "text": [
      "/home/saka/pyvenv/omnipose/lib/python3.10/site-packages/tqdm/auto.py:21: TqdmWarning: IProgress not found. Please update jupyter and ipywidgets. See https://ipywidgets.readthedocs.io/en/stable/user_install.html\n",
      "  from .autonotebook import tqdm as notebook_tqdm\n"
     ]
    },
    {
     "data": {
      "text/plain": [
       "['cyto',\n",
       " 'nuclei',\n",
       " 'cyto2',\n",
       " 'bact_phase_cp',\n",
       " 'bact_fluor_cp',\n",
       " 'plant_cp',\n",
       " 'worm_cp',\n",
       " 'cyto2_omni',\n",
       " 'bact_phase_omni',\n",
       " 'bact_fluor_omni',\n",
       " 'plant_omni',\n",
       " 'worm_omni',\n",
       " 'worm_bact_omni',\n",
       " 'worm_high_res_omni']"
      ]
     },
     "execution_count": 1,
     "metadata": {},
     "output_type": "execute_result"
    }
   ],
   "source": [
    "import numpy as np\n",
    "from cellpose_omni import models, core\n",
    "import matplotlib as mpl\n",
    "import matplotlib.pyplot as plt\n",
    "from pathlib import Path\n",
    "import os\n",
    "from cellpose_omni import io\n",
    "from cellpose_omni import io, transforms\n",
    "from omnipose.utils import normalize99\n",
    "from cellpose_omni import models\n",
    "from cellpose_omni.models import MODEL_NAMES\n",
    "from tkinter import filedialog\n",
    "import scyjava\n",
    "import tkinter as tk\n",
    "from tkinter import filedialog\n",
    "from pathlib import Path\n",
    "import imagej\n",
    "from jpype import JArray, JInt\n",
    "import glob\n",
    "from collections import defaultdict\n",
    "\n",
    "\n",
    "MODEL_NAMES"
   ]
  },
  {
   "cell_type": "code",
   "execution_count": 2,
   "id": "5f65bf13-0c05-4eb4-9f6c-1688d8cdf321",
   "metadata": {},
   "outputs": [
    {
     "name": "stderr",
     "output_type": "stream",
     "text": [
      "WARNING: An illegal reflective access operation has occurred\n",
      "WARNING: Illegal reflective access by sc.fiji.compat.DefaultFijiService (file:/home/saka/.jgo/sc.fiji/fiji/RELEASE/7472eefb5f866b69feec4f737aeebdbf84b740e7811b374da345c0f66d9fab71/fiji-2.14.0.jar) to field sun.awt.X11.XToolkit.awtAppClassName\n",
      "WARNING: Please consider reporting this to the maintainers of sc.fiji.compat.DefaultFijiService\n",
      "WARNING: Use --illegal-access=warn to enable warnings of further illegal reflective access operations\n",
      "WARNING: All illegal access operations will be denied in a future release\n"
     ]
    }
   ],
   "source": [
    "scyjava.config.add_option('-Xmx30g')\n",
    "start_dir = os.getcwd()\n",
    "ij = imagej.init('sc.fiji:fiji', mode='interactive')\n",
    "#ij = imagej.init('/home/saka/sw/local/fiji/2023', mode='interactive')\n",
    "## Something about this init() function changes the current working directory.\n",
    "ij.getApp().getInfo(True)\n",
    "#ij.ui().showUI()\n",
    "os.chdir(start_dir)\n",
    "ij.getVersion() #This is to make sure ImageJ/Fiji opened properly. In case of error, it could display '2.9.0/inactive' instead of the full version number\n",
    "rm = ij.RoiManager.getRoiManager()"
   ]
  },
  {
   "cell_type": "code",
   "execution_count": 5,
   "id": "90daddca-4aed-4188-ad75-1455579c377d",
   "metadata": {},
   "outputs": [],
   "source": [
    "root = tk.Tk()\n",
    "root.withdraw()\n",
    "directory_path = filedialog.askdirectory()\n",
    "folder_list = os.listdir(directory_path)"
   ]
  },
  {
   "cell_type": "code",
   "execution_count": 8,
   "id": "f2db94fe-4be2-483b-a3fb-f2ca5c077ea7",
   "metadata": {},
   "outputs": [
    {
     "name": "stdout",
     "output_type": "stream",
     "text": [
      "2023-08-03 11:06:32,781 [INFO] >>bact_phase_omni<< model set to be used\n",
      "2023-08-03 11:06:32,782 [INFO] >>>> using CPU\n",
      "2023-08-03 11:06:37,751 [INFO] >>bact_phase_omni<< model set to be used\n",
      "2023-08-03 11:06:37,752 [INFO] >>>> using CPU\n",
      "2023-08-03 11:06:41,599 [INFO] >>bact_phase_omni<< model set to be used\n",
      "2023-08-03 11:06:41,600 [INFO] >>>> using CPU\n",
      "2023-08-03 11:06:45,226 [INFO] >>bact_phase_omni<< model set to be used\n",
      "2023-08-03 11:06:45,227 [INFO] >>>> using CPU\n",
      "2023-08-03 11:06:49,369 [INFO] >>bact_phase_omni<< model set to be used\n",
      "2023-08-03 11:06:49,370 [INFO] >>>> using CPU\n",
      "2023-08-03 11:06:54,766 [INFO] >>bact_phase_omni<< model set to be used\n",
      "2023-08-03 11:06:54,767 [INFO] >>>> using CPU\n",
      "2023-08-03 11:06:58,918 [INFO] >>bact_phase_omni<< model set to be used\n",
      "2023-08-03 11:06:58,919 [INFO] >>>> using CPU\n",
      "2023-08-03 11:07:03,924 [INFO] >>bact_phase_omni<< model set to be used\n",
      "2023-08-03 11:07:03,925 [INFO] >>>> using CPU\n",
      "2023-08-03 11:07:09,268 [INFO] >>bact_phase_omni<< model set to be used\n",
      "2023-08-03 11:07:09,269 [INFO] >>>> using CPU\n",
      "2023-08-03 11:07:14,397 [INFO] >>bact_phase_omni<< model set to be used\n",
      "2023-08-03 11:07:14,399 [INFO] >>>> using CPU\n",
      "2023-08-03 11:07:18,600 [INFO] >>bact_phase_omni<< model set to be used\n",
      "2023-08-03 11:07:18,601 [INFO] >>>> using CPU\n",
      "2023-08-03 11:07:23,992 [INFO] >>bact_phase_omni<< model set to be used\n",
      "2023-08-03 11:07:23,992 [INFO] >>>> using CPU\n",
      "2023-08-03 11:07:27,422 [INFO] >>bact_phase_omni<< model set to be used\n",
      "2023-08-03 11:07:27,423 [INFO] >>>> using CPU\n",
      "2023-08-03 11:07:30,827 [INFO] >>bact_phase_omni<< model set to be used\n",
      "2023-08-03 11:07:30,828 [INFO] >>>> using CPU\n",
      "2023-08-03 11:07:36,055 [INFO] >>bact_phase_omni<< model set to be used\n",
      "2023-08-03 11:07:36,056 [INFO] >>>> using CPU\n",
      "2023-08-03 11:07:39,202 [INFO] >>bact_phase_omni<< model set to be used\n",
      "2023-08-03 11:07:39,203 [INFO] >>>> using CPU\n",
      "2023-08-03 11:07:42,627 [INFO] >>bact_phase_omni<< model set to be used\n",
      "2023-08-03 11:07:42,628 [INFO] >>>> using CPU\n",
      "2023-08-03 11:07:46,267 [INFO] >>bact_phase_omni<< model set to be used\n",
      "2023-08-03 11:07:46,267 [INFO] >>>> using CPU\n",
      "2023-08-03 11:07:50,183 [INFO] >>bact_phase_omni<< model set to be used\n",
      "2023-08-03 11:07:50,184 [INFO] >>>> using CPU\n",
      "2023-08-03 11:07:54,992 [INFO] >>bact_phase_omni<< model set to be used\n",
      "2023-08-03 11:07:54,993 [INFO] >>>> using CPU\n"
     ]
    }
   ],
   "source": [
    "for folder in folder_list:\n",
    "    # Get the path to the folder\n",
    "    folder_path = os.path.join(directory_path, folder)\n",
    "    file_pattern = os.path.join(folder_path, \"*.tif\")\n",
    "    file_list = glob.glob(file_pattern)\n",
    "    for file_path in file_list:\n",
    "        imgs = io.imread(file_path)\n",
    "        channels = [[0,0]]\n",
    "        model_name = 'bact_phase_omni'\n",
    "        model = models.CellposeModel(gpu=False, model_type=model_name)\n",
    "        chans = [0,0]\n",
    "        mask_threshold = -1\n",
    "        verbose = 0 # turn on if you want to see more output \n",
    "        use_gpu = False #defined above\n",
    "        transparency = True # transparency in flow output\n",
    "        rescale=None # give this a number if you need to upscale or downscale your images\n",
    "        omni = True # we can turn off Omnipose mask reconstruction, not advised \n",
    "        flow_threshold = 0 # default is .4, but only needed if there are spurious masks to clean up; slows down output\n",
    "        niter = None # None lets Omnipose calculate # of Euler iterations (usually <20) but you can tune it for over/under segmentation \n",
    "        resample = True #whether or not to run dynamics on rescaled grid or original grid \n",
    "        cluster = True # use DBSCAN clustering\n",
    "        augment = False # average the outputs from flipped (augmented) images; slower, usually not needed \n",
    "        tile = False # break up image into smaller parts then stitch together\n",
    "        affinity_seg = 1 #new feature, stay tuned...\n",
    "        masks, flows, styles = model.eval(imgs,\n",
    "                                  channels=chans,\n",
    "                                  rescale=rescale,\n",
    "                                  mask_threshold=mask_threshold,\n",
    "                                  transparency=transparency,\n",
    "                                  flow_threshold=flow_threshold,\n",
    "                                  niter=niter,\n",
    "                                  omni=omni,\n",
    "                                  cluster=cluster, \n",
    "                                  resample=resample,\n",
    "                                  verbose=verbose, \n",
    "                                  affinity_seg=affinity_seg,\n",
    "                                  tile=tile,\n",
    "                                  augment=augment)\n",
    "        io.save_masks(imgs, masks, flows, file_path, \n",
    "              png=False,\n",
    "              tif=True, # whether to use PNG or TIF format\n",
    "              suffix='', # suffix to add to files if needed \n",
    "              save_flows=False, # saves both RGB depiction as *_flows.png and the raw components as *_dP.tif\n",
    "              save_outlines=False, # save outline images \n",
    "              dir_above=0, # save output in the image directory or in the directory above (at the level of the image directory)\n",
    "              in_folders=True, # save output in folders (recommended)\n",
    "              save_txt=True, # txt file for outlines in imageJ\n",
    "              save_ncolor=False) # save ncolor version of masks for visualization and editing "
   ]
  },
  {
   "cell_type": "code",
   "execution_count": null,
   "id": "bae39c5e-a1be-42c6-a147-a7e015df213d",
   "metadata": {},
   "outputs": [],
   "source": [
    "root = tk.Tk()\n",
    "root.withdraw()\n",
    "filepath = filedialog.askopenfilename()"
   ]
  },
  {
   "cell_type": "code",
   "execution_count": null,
   "id": "86fd381d-d2d6-4dbe-86d7-b5cdef937b11",
   "metadata": {},
   "outputs": [],
   "source": [
    "image = ij.io().open(filepath)\n",
    "#ij.ui().show(image)\n",
    "imp = ij.py.to_imageplus(image)\n",
    "ij.ui().show(imp)"
   ]
  },
  {
   "cell_type": "code",
   "execution_count": null,
   "id": "0c2610e4-f573-4519-ac6d-dc446ab9cf32",
   "metadata": {},
   "outputs": [],
   "source": [
    "data_info = {}\n",
    "for element in range(len(imp.dims)):\n",
    "    name = imp.dims[element]\n",
    "    data_info[name] = imp.shape[element]\n",
    "    print(name)\n",
    "num_frame = data_info['Z']"
   ]
  },
  {
   "cell_type": "code",
   "execution_count": null,
   "id": "14778a47-fc48-4038-abac-4b905f652d41",
   "metadata": {},
   "outputs": [],
   "source": [
    "file_prefix = \"Image_T\"\n",
    "for timepoint in range(1, num_frame + 1):\n",
    "    frame_number = f\"{timepoint:04d}\"\n",
    "    #input_txt = Path(f\"{directory_path}/txt_outlines/Experiment-1647-Split Scenes-01_z2/cellpose/frame_{frame_number}_cp_outlines.txt\")\n",
    "    input_txt = Path(f\"{directory_path}/txt_outlines/{file_prefix}{frame_number}_Overlay_cp_outlines.txt\")\n",
    "    txt_fh = open(input_txt, 'r')\n",
    "    for line in txt_fh:\n",
    "            xy = line.rstrip().split(\",\")\n",
    "            xy_coords = [int(element) for element in xy if element not in '']\n",
    "            x_coords = [int(element) for element in xy[::2] if element not in '']\n",
    "            y_coords = [int(element) for element in xy[1::2] if element not in '']\n",
    "            xcoords_jint = JArray(JInt)(x_coords)\n",
    "            ycoords_jint = JArray(JInt)(y_coords)\n",
    "            polygon_roi_instance = scyjava.jimport('ij.gui.PolygonRoi')\n",
    "            roi_instance = scyjava.jimport('ij.gui.Roi')\n",
    "            imported_polygon = polygon_roi_instance(xcoords_jint, ycoords_jint, len(x_coords), int(roi_instance.POLYGON))\n",
    "            imp.setRoi(imported_polygon)\n",
    "            rm.addRoi(imported_polygon)\n",
    "            roi_count = rm.getCount()\n",
    "            rm.select(roi_count - 1)\n",
    "            time_set = imp.setZ(timepoint)   \n",
    "            rm.runCommand('Update')\n",
    "ij.py.run_macro(\"roiManager('Select All');\")\n",
    "f_name = os.path.basename(filepath)\n",
    "f_name = os.path.splitext(f_name)[0]\n",
    "rm.runCommand(\"Save\", f\"{directory_path}/\" + f\"{f_name}.zip\")"
   ]
  },
  {
   "cell_type": "code",
   "execution_count": null,
   "id": "fbc5f3a6-d759-460b-a31d-21b06410f329",
   "metadata": {},
   "outputs": [],
   "source": [
    "for folder in folder_list:\n",
    "    # Get the path to the folder\n",
    "    folder_path = os.path.join(directory_path, folder)\n",
    "    file_pattern = os.path.join(folder_path, \"*.tif\")\n",
    "    file_list = glob.glob(file_pattern)\n",
    "    for file_path in file_list:\n",
    "        image_red = ij.io().open(file_pattern)\n",
    "        imp = ij.py.to_imageplus(image_red)\n",
    "        input_txt = Path(f\"{folder_path}/Image_CH1_cp_outlines.txt\")\n",
    "        txt_fh = open(input_txt, 'r')\n",
    "        for line in txt_fh:\n",
    "            xy = line.rstrip().split(\",\")\n",
    "            xy_coords = [int(element) for element in xy if element not in '']\n",
    "            x_coords = [int(element) for element in xy[::2] if element not in '']\n",
    "            y_coords = [int(element) for element in xy[1::2] if element not in '']\n",
    "            xcoords_jint = JArray(JInt)(x_coords)\n",
    "            ycoords_jint = JArray(JInt)(y_coords)\n",
    "            polygon_roi_instance = scyjava.jimport('ij.gui.PolygonRoi')\n",
    "            roi_instance = scyjava.jimport('ij.gui.Roi')\n",
    "            imported_polygon = polygon_roi_instance(xcoords_jint, ycoords_jint, len(x_coords), int(roi_instance.POLYGON))\n",
    "            imp.setRoi(imported_polygon)\n",
    "            rm.addRoi(imported_polygon)\n",
    "        roi_count = rm.getCount()\n",
    "        roi_index = JArray(JInt)(range(0, rm.getCount()))\n",
    "        rm.setSelectedIndexes(roi_index)\n",
    "        rm.runCommand(\"Save\", f\"{folder_path}/\" + f\"RoiSet.zip\")\n",
    "        rm.runCommand(\"Delete\")"
   ]
  },
  {
   "cell_type": "code",
   "execution_count": null,
   "id": "c7298fc0-bc5a-4c4b-8069-41a1263be1ba",
   "metadata": {},
   "outputs": [],
   "source": []
  },
  {
   "cell_type": "code",
   "execution_count": null,
   "id": "cbd91ae2-d66a-4f32-89dc-4b52471f597a",
   "metadata": {},
   "outputs": [],
   "source": []
  },
  {
   "cell_type": "code",
   "execution_count": null,
   "id": "0339045c-961b-4432-b77d-424c95d1b89c",
   "metadata": {},
   "outputs": [],
   "source": []
  },
  {
   "cell_type": "code",
   "execution_count": null,
   "id": "eeca0fd8-997a-4902-933b-76f82ff34676",
   "metadata": {},
   "outputs": [],
   "source": []
  },
  {
   "cell_type": "code",
   "execution_count": null,
   "id": "e953a9c0-56d0-4d5a-bb06-d5e9f97dca1f",
   "metadata": {},
   "outputs": [],
   "source": []
  },
  {
   "cell_type": "code",
   "execution_count": null,
   "id": "14141da7-beee-49c1-938d-0e7a80e9e065",
   "metadata": {},
   "outputs": [],
   "source": [
    "# define parameters\n",
    "mask_threshold = -1\n",
    "verbose = 0 # turn on if you want to see more output \n",
    "use_gpu = use_GPU #defined above\n",
    "transparency = True # transparency in flow output\n",
    "rescale=None # give this a number if you need to upscale or downscale your images\n",
    "omni = True # we can turn off Omnipose mask reconstruction, not advised \n",
    "flow_threshold = 0 # default is .4, but only needed if there are spurious masks to clean up; slows down output\n",
    "niter = None # None lets Omnipose calculate # of Euler iterations (usually <20) but you can tune it for over/under segmentation \n",
    "resample = True #whether or not to run dynamics on rescaled grid or original grid \n",
    "cluster = True # use DBSCAN clustering\n",
    "augment = False # average the outputs from flipped (augmented) images; slower, usually not needed \n",
    "tile = False # break up image into smaller parts then stitch together\n",
    "affinity_seg = 1 #new feature, stay tuned...\n",
    "masks, flows, styles = model.eval(imgs,\n",
    "                                  channels=chans,\n",
    "                                  rescale=rescale,\n",
    "                                  mask_threshold=mask_threshold,\n",
    "                                  transparency=transparency,\n",
    "                                  flow_threshold=flow_threshold,\n",
    "                                  niter=niter,\n",
    "                                  omni=omni,\n",
    "                                  cluster=cluster, \n",
    "                                  resample=resample,\n",
    "                                  verbose=verbose, \n",
    "                                  affinity_seg=affinity_seg,\n",
    "                                  tile=tile,\n",
    "                                  augment=augment)"
   ]
  },
  {
   "cell_type": "code",
   "execution_count": null,
   "id": "266b2260-5ffa-40c3-975f-c5fd74f48707",
   "metadata": {},
   "outputs": [],
   "source": [
    "io.save_masks(imgs, masks, flows, files, \n",
    "              png=False,\n",
    "              tif=True, # whether to use PNG or TIF format\n",
    "              suffix='', # suffix to add to files if needed \n",
    "              save_flows=False, # saves both RGB depiction as *_flows.png and the raw components as *_dP.tif\n",
    "              save_outlines=False, # save outline images \n",
    "              dir_above=0, # save output in the image directory or in the directory above (at the level of the image directory)\n",
    "              in_folders=True, # save output in folders (recommended)\n",
    "              save_txt=True, # txt file for outlines in imageJ\n",
    "              save_ncolor=False) # save ncolor version of masks for visualization and editing "
   ]
  },
  {
   "cell_type": "code",
   "execution_count": null,
   "id": "b1e3bcc4-b358-4d19-9d8f-4a6d9fe0d59e",
   "metadata": {},
   "outputs": [],
   "source": []
  }
 ],
 "metadata": {
  "kernelspec": {
   "display_name": "Python 3 (ipykernel)",
   "language": "python",
   "name": "python3"
  },
  "language_info": {
   "codemirror_mode": {
    "name": "ipython",
    "version": 3
   },
   "file_extension": ".py",
   "mimetype": "text/x-python",
   "name": "python",
   "nbconvert_exporter": "python",
   "pygments_lexer": "ipython3",
   "version": "3.10.12"
  }
 },
 "nbformat": 4,
 "nbformat_minor": 5
}
