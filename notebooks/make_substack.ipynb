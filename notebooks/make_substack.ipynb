{
 "cells": [
  {
   "cell_type": "code",
   "execution_count": 1,
   "id": "77de1297-6933-40fd-85d8-3c2a9df82fce",
   "metadata": {},
   "outputs": [],
   "source": [
    "import imagej\n",
    "import os\n",
    "import pandas\n",
    "from pandas import DataFrame\n",
    "import scyjava\n",
    "import sys\n",
    "import csv"
   ]
  },
  {
   "cell_type": "code",
   "execution_count": 2,
   "id": "0e0726be-2a5f-4c09-9262-e37c9448f9ad",
   "metadata": {},
   "outputs": [
    {
     "data": {
      "text/plain": [
       "'2.14.0/1.54f'"
      ]
     },
     "execution_count": 2,
     "metadata": {},
     "output_type": "execute_result"
    }
   ],
   "source": [
    "scyjava.config.add_option('-Xmx60g')\n",
    "#ij = imagej.init('/home/saka/fiji-linux64/Fiji.app', mode = 'interactive')\n",
    "ij = imagej.init('/Users/MrWor/Documents/Fiji.app', mode='interactive')\n",
    "ij.ui().showUI()\n",
    "ij.getVersion()"
   ]
  },
  {
   "cell_type": "code",
   "execution_count": 3,
   "id": "c6f114ea-9862-474f-9d2b-d9b4d5973d57",
   "metadata": {},
   "outputs": [],
   "source": [
    "showPolygonRoi = scyjava.jimport('ij.gui.PolygonRoi')\n",
    "Overlay = scyjava.jimport('ij.gui.Overlay')\n",
    "Regions = scyjava.jimport('net.imglib2.roi.Regions')\n",
    "LabelRegions = scyjava.jimport('net.imglib2.roi.labeling.LabelRegions')\n",
    "ZProjector = scyjava.jimport('ij.plugin.ZProjector')()\n",
    "Duplicator = scyjava.jimport('ij.plugin.Duplicator')()\n",
    "ov = Overlay()\n",
    "Model =  scyjava.jimport('fiji.plugin.trackmate.Model')\n",
    "Settings= scyjava.jimport('fiji.plugin.trackmate.Settings')\n",
    "TrackMate = scyjava.jimport('fiji.plugin.trackmate.TrackMate')\n",
    "Settings= scyjava.jimport('fiji.plugin.trackmate.Settings')\n",
    "TrackMate = scyjava.jimport('fiji.plugin.trackmate.TrackMate')\n",
    "Logger= scyjava.jimport('fiji.plugin.trackmate.Logger')\n",
    "DetectorKeys= scyjava.jimport('fiji.plugin.trackmate.detection.DetectorKeys') \n",
    "ExportTracksToXML= scyjava.jimport('fiji.plugin.trackmate.action.ExportTracksToXML') \n",
    "TmXmlWriter= scyjava.jimport('fiji.plugin.trackmate.io.TmXmlWriter')\n",
    "LogRecorder = scyjava.jimport('fiji.plugin.trackmate.util.LogRecorder')\n",
    "SparseLAPTrackerFactory= scyjava.jimport('fiji.plugin.trackmate.tracking.jaqaman.SparseLAPTrackerFactory')\n",
    "TMUtils = scyjava.jimport('fiji.plugin.trackmate.util.TMUtils')\n",
    "HyperStackDisplayer = scyjava.jimport('fiji.plugin.trackmate.visualization.hyperstack.HyperStackDisplayer')\n",
    "SelectionModel = scyjava.jimport('fiji.plugin.trackmate.SelectionModel')\n",
    "CellposeDetectorFactory = scyjava.jimport('fiji.plugin.trackmate.cellpose.CellposeDetectorFactory')\n",
    "FeatureFilter = scyjava.jimport('fiji.plugin.trackmate.features.FeatureFilter')\n",
    "DisplaySetting = scyjava.jimport('fiji.plugin.trackmate.gui.displaysettings.DisplaySettings')\n",
    "DisplaySettingsIO = scyjava.jimport('fiji.plugin.trackmate.gui.displaysettings.DisplaySettingsIO')\n",
    "CaptureOverlayAction = scyjava.jimport('fiji.plugin.trackmate.action.CaptureOverlayAction')\n",
    "PretrainedModel= scyjava.jimport('fiji.plugin.trackmate.cellpose.CellposeSettings.PretrainedModel')\n",
    "ThresholdDetectorFactory= scyjava.jimport('fiji.plugin.trackmate.detection.ThresholdDetectorFactory')\n",
    "TrackScheme = scyjava.jimport('fiji.plugin.trackmate.visualization.trackscheme.TrackScheme')\n",
    "TrackTableView = scyjava.jimport('fiji.plugin.trackmate.visualization.table.TrackTableView')\n",
    "AllSpotsTableView = scyjava.jimport('fiji.plugin.trackmate.visualization.table.AllSpotsTableView')\n",
    "\n",
    "rm = ij.RoiManager.getRoiManager()\n",
    "w = scyjava.jimport('ij.WindowManager')"
   ]
  },
  {
   "cell_type": "code",
   "execution_count": 9,
   "id": "0e35993a-fa9d-4f0f-bb4d-0d24b6db91e4",
   "metadata": {},
   "outputs": [],
   "source": [
    "directory_path = f\"/Users/MrWor/Documents/imaging/esxA-mscarlett/exp1/scene1/\"\n",
    "image_path = f\"{directory_path}MCV3.tif\""
   ]
  },
  {
   "cell_type": "code",
   "execution_count": 10,
   "id": "18765d7f-89b0-4140-9d89-52588742a60c",
   "metadata": {},
   "outputs": [],
   "source": [
    "#image = ij.io().open(image_path)\n",
    "#imp = ij.py.to_imageplus(image)\n",
    "imp = ij.IJ.openImage(image_path)\n",
    "imp.show()\n",
    "#ij.IJ.run(\"Smooth\", \"stack\")\n",
    "#ij.IJ.run(\"Smooth\", \"stack\")"
   ]
  },
  {
   "cell_type": "code",
   "execution_count": 11,
   "id": "56ffac90-11f0-4a69-a1da-55c9981d0a44",
   "metadata": {},
   "outputs": [],
   "source": [
    "cell_name = f\"MCV3.tif\"\n",
    "csv_path = f\"{directory_path}MCV3.csv\"\n",
    "df = pandas.read_csv(csv_path)\n",
    "for i in range(len(df)):\n",
    "    slice_number = df['slice'][i]\n",
    "    frames = df['frames'][i]\n",
    "    ij.IJ.selectWindow(imp.getTitle())\n",
    "    ij.IJ.run(imp, \"Make Substack...\", f\"channels=1-2, slices={ij.py.to_java(str(slice_number))} frames={ij.py.to_java(str(frames))}\")\n",
    "    #ij.IJ.run(imp, \"Make Substack...\", f\"slices={ij.py.to_java(str(slice_number))} frames={ij.py.to_java(str(frames))}\")\n",
    "new_vid =  w.getImage(str(cell_name))\n",
    "w.getImage(str(cell_name)).close()"
   ]
  },
  {
   "cell_type": "code",
   "execution_count": null,
   "id": "5b38f515-bc3e-4409-9cff-c7ec7b070146",
   "metadata": {},
   "outputs": [],
   "source": []
  }
 ],
 "metadata": {
  "kernelspec": {
   "display_name": "Python 3 (ipykernel)",
   "language": "python",
   "name": "python3"
  },
  "language_info": {
   "codemirror_mode": {
    "name": "ipython",
    "version": 3
   },
   "file_extension": ".py",
   "mimetype": "text/x-python",
   "name": "python",
   "nbconvert_exporter": "python",
   "pygments_lexer": "ipython3",
   "version": "3.10.12"
  }
 },
 "nbformat": 4,
 "nbformat_minor": 5
}
