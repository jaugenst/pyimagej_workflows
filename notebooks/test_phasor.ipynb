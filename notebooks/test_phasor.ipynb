{
 "cells": [
  {
   "cell_type": "code",
   "execution_count": null,
   "id": "85ed3b51-ec94-4c48-805e-62d3529041f8",
   "metadata": {},
   "outputs": [],
   "source": [
    "from cellpose import models, io\n",
    "from cellpose.io import *\n",
    "from collections import defaultdict\n",
    "import geopandas\n",
    "import glob\n",
    "import imagej\n",
    "from jpype import JArray, JInt\n",
    "import matplotlib.pyplot as plt\n",
    "import multiprocessing as mp\n",
    "import numpy as np\n",
    "import os\n",
    "import re\n",
    "import pandas\n",
    "from pandas import DataFrame\n",
    "from pathlib import Path\n",
    "import scyjava\n",
    "import seaborn\n",
    "import shutil\n",
    "import tkinter as tk\n",
    "from tkinter import filedialog\n",
    "from PIL import Image\n",
    "import sys\n",
    "from zipfile import ZipFile\n",
    "import csv\n",
    "import random\n",
    "from math import isnan \n",
    "from sklearn.cluster import AgglomerativeClustering\n",
    "from PyQt5.QtWidgets import QApplication, QMainWindow, QWidget, QScrollArea, QLabel, QGridLayout\n",
    "from PyQt5.QtGui import QPixmap\n",
    "from PyQt5.QtCore import Qt\n",
    "from sklearn import decomposition\n",
    "from sklearn.decomposition import PCA\n",
    "from sklearn import discriminant_analysis\n",
    "from sklearn.discriminant_analysis import LinearDiscriminantAnalysis as LDA\n",
    "from sklearn.preprocessing import StandardScaler"
   ]
  },
  {
   "cell_type": "code",
   "execution_count": null,
   "id": "931a5336-5897-4936-bc50-f36550f43701",
   "metadata": {},
   "outputs": [],
   "source": [
    "scyjava.config.add_option('-Xmx60g')\n",
    "ij = imagej.init('/Users/MrWor/Documents/Fiji.app', mode='interactive')\n",
    "ij.ui().showUI()\n",
    "ij.getVersion()"
   ]
  },
  {
   "cell_type": "code",
   "execution_count": null,
   "id": "4e7c3d77-30ab-420c-b421-2e44a486f12c",
   "metadata": {},
   "outputs": [],
   "source": [
    "# Different plugin needed for the workflow\n",
    "showPolygonRoi = scyjava.jimport('ij.gui.PolygonRoi')\n",
    "Overlay = scyjava.jimport('ij.gui.Overlay')\n",
    "Regions = scyjava.jimport('net.imglib2.roi.Regions')\n",
    "LabelRegions = scyjava.jimport('net.imglib2.roi.labeling.LabelRegions')\n",
    "ZProjector = scyjava.jimport('ij.plugin.ZProjector')()\n",
    "Duplicator = scyjava.jimport('ij.plugin.Duplicator')()\n",
    "ov = Overlay()\n",
    "Model =  scyjava.jimport('fiji.plugin.trackmate.Model')\n",
    "Settings= scyjava.jimport('fiji.plugin.trackmate.Settings')\n",
    "TrackMate = scyjava.jimport('fiji.plugin.trackmate.TrackMate')\n",
    "Settings= scyjava.jimport('fiji.plugin.trackmate.Settings')\n",
    "TrackMate = scyjava.jimport('fiji.plugin.trackmate.TrackMate')\n",
    "Logger= scyjava.jimport('fiji.plugin.trackmate.Logger')\n",
    "DetectorKeys= scyjava.jimport('fiji.plugin.trackmate.detection.DetectorKeys') \n",
    "ExportTracksToXML= scyjava.jimport('fiji.plugin.trackmate.action.ExportTracksToXML') \n",
    "TmXmlWriter= scyjava.jimport('fiji.plugin.trackmate.io.TmXmlWriter')\n",
    "LogRecorder = scyjava.jimport('fiji.plugin.trackmate.util.LogRecorder')\n",
    "SparseLAPTrackerFactory= scyjava.jimport('fiji.plugin.trackmate.tracking.jaqaman.SparseLAPTrackerFactory')\n",
    "TMUtils = scyjava.jimport('fiji.plugin.trackmate.util.TMUtils')\n",
    "HyperStackDisplayer = scyjava.jimport('fiji.plugin.trackmate.visualization.hyperstack.HyperStackDisplayer')\n",
    "SelectionModel = scyjava.jimport('fiji.plugin.trackmate.SelectionModel')\n",
    "CellposeDetectorFactory = scyjava.jimport('fiji.plugin.trackmate.cellpose.CellposeDetectorFactory')\n",
    "FeatureFilter = scyjava.jimport('fiji.plugin.trackmate.features.FeatureFilter')\n",
    "DisplaySetting = scyjava.jimport('fiji.plugin.trackmate.gui.displaysettings.DisplaySettings')\n",
    "DisplaySettingsIO = scyjava.jimport('fiji.plugin.trackmate.gui.displaysettings.DisplaySettingsIO')\n",
    "CaptureOverlayAction = scyjava.jimport('fiji.plugin.trackmate.action.CaptureOverlayAction')\n",
    "PretrainedModel= scyjava.jimport('fiji.plugin.trackmate.cellpose.CellposeSettings.PretrainedModel')\n",
    "ThresholdDetectorFactory= scyjava.jimport('fiji.plugin.trackmate.detection.ThresholdDetectorFactory')\n",
    "TrackScheme = scyjava.jimport('fiji.plugin.trackmate.visualization.trackscheme.TrackScheme')\n",
    "TrackTableView = scyjava.jimport('fiji.plugin.trackmate.visualization.table.TrackTableView')\n",
    "AllSpotsTableView = scyjava.jimport('fiji.plugin.trackmate.visualization.table.AllSpotsTableView')\n",
    "\n",
    "rm = ij.RoiManager.getRoiManager()"
   ]
  },
  {
   "cell_type": "code",
   "execution_count": null,
   "id": "ee1bfdf8-b5ee-4b32-bc01-e1334c9cc63d",
   "metadata": {},
   "outputs": [],
   "source": [
    "directory_path = f\"/Users/MrWor/Documents/imaging/20240229 hmdm claurdan h37dsred/inf\"\n",
    "image_path = f\"{directory_path}/Experiment-2111-1.tif\""
   ]
  },
  {
   "cell_type": "code",
   "execution_count": null,
   "id": "83cfe428-0e4d-4934-9f50-9ba588da51c9",
   "metadata": {},
   "outputs": [],
   "source": [
    "image = ij.io().open(image_path)"
   ]
  },
  {
   "cell_type": "code",
   "execution_count": null,
   "id": "816b307f-5913-4313-9a3f-4fcf0dbb7943",
   "metadata": {},
   "outputs": [],
   "source": [
    "image_np = ij.py.from_java(ij.op().convert().float32(image))  # Ensures float32 dtype\n",
    "dim_x, dim_y, n_channels = image_np.shape"
   ]
  },
  {
   "cell_type": "code",
   "execution_count": null,
   "id": "1f79cf49-df95-464f-b117-2fe19eafad3a",
   "metadata": {},
   "outputs": [],
   "source": [
    "alpha = np.zeros((dim_x, dim_y))\n",
    "\n",
    "# Fractional Analysis: Compute intensity and alpha\n",
    "intensity_total = np.sum(image_np, axis=2)\n",
    "intensity_channel1 = image_np[:, :, 0]\n",
    "\n",
    "# Avoid divide-by-zero errors using a threshold\n",
    "threshold = 1e-6\n",
    "mask = intensity_total > threshold\n",
    "alpha[mask] = intensity_channel1[mask] / intensity_total[mask]\n",
    "\n",
    "# Clamp alpha values between 0 and 1\n",
    "alpha = np.clip(alpha, 0, 1)"
   ]
  },
  {
   "cell_type": "code",
   "execution_count": null,
   "id": "ccf50475-5d57-4057-afe3-11f8206e7b20",
   "metadata": {},
   "outputs": [],
   "source": [
    "# Normalize intensity for plotting\n",
    "intensity_max = image_np.max(axis=(0, 1))  # Max for each channel\n",
    "phasor_dim = 256  # Resolution of the phasor plot\n",
    "\n",
    "# Compute normalized coordinates for the phasor plot\n",
    "jx = (phasor_dim * image_np[:, :, 0] / intensity_max[0]).astype(int)\n",
    "jy = (phasor_dim * (1 - image_np[:, :, 1] / intensity_max[1])).astype(int)\n",
    "\n",
    "# Initialize the phasor histogram\n",
    "phasor_hist = np.zeros((phasor_dim, phasor_dim))\n",
    "\n",
    "# Populate the histogram\n",
    "for i in range(dim_x):\n",
    "    for j in range(dim_y):\n",
    "        if intensity_total[i, j] > threshold:\n",
    "            if 0 <= jx[i, j] < phasor_dim and 0 <= jy[i, j] < phasor_dim:\n",
    "                phasor_hist[jx[i, j], jy[i, j]] += 1\n",
    "\n",
    "# Normalize phasor histogram for color mapping\n",
    "phasor_hist = phasor_hist / phasor_hist.max()"
   ]
  },
  {
   "cell_type": "code",
   "execution_count": null,
   "id": "585bf941-b583-4acc-a4fe-84b2b79a4afa",
   "metadata": {},
   "outputs": [],
   "source": [
    "plt.figure(figsize=(6, 6))\n",
    "plt.imshow(phasor_hist.T, cmap=\"turbo\", origin=\"lower\")\n",
    "plt.colorbar(label=\"Normalized Intensity\")\n",
    "plt.title(\"Phasor Plot\")\n",
    "plt.xlabel(\"jx (Normalized Channel 1)\")\n",
    "plt.ylabel(\"jy (1 - Normalized Channel 2)\")\n",
    "plt.show()"
   ]
  }
 ],
 "metadata": {
  "kernelspec": {
   "display_name": "Python 3 (ipykernel)",
   "language": "python",
   "name": "python3"
  },
  "language_info": {
   "codemirror_mode": {
    "name": "ipython",
    "version": 3
   },
   "file_extension": ".py",
   "mimetype": "text/x-python",
   "name": "python",
   "nbconvert_exporter": "python",
   "pygments_lexer": "ipython3",
   "version": "3.10.12"
  }
 },
 "nbformat": 4,
 "nbformat_minor": 5
}
