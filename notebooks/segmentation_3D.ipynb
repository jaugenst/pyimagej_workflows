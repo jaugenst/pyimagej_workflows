{
 "cells": [
  {
   "cell_type": "code",
   "execution_count": 14,
   "id": "3cfd2768-504a-46ee-bb2f-ff7774cfe85e",
   "metadata": {},
   "outputs": [],
   "source": [
    "from cellpose import models, io\n",
    "from cellpose.io import *\n",
    "from collections import defaultdict\n",
    "import glob\n",
    "import imagej\n",
    "from jpype import JArray, JInt\n",
    "import matplotlib.pyplot as plt\n",
    "import os\n",
    "import re\n",
    "import pandas\n",
    "from pandas import DataFrame\n",
    "from pathlib import Path\n",
    "import scyjava\n",
    "import seaborn\n",
    "import shutil\n",
    "import tkinter as tk\n",
    "from tkinter import filedialog\n",
    "from PIL import Image\n",
    "from zipfile import ZipFile\n",
    "import csv\n",
    "import numpy as np\n",
    "from skimage.measure import find_contours, label\n",
    "from jpype import JArray, JInt"
   ]
  },
  {
   "cell_type": "code",
   "execution_count": 2,
   "id": "f3dc639f-c6c6-457a-8e31-c97e24746851",
   "metadata": {},
   "outputs": [
    {
     "data": {
      "text/plain": [
       "'2.14.0/1.54f'"
      ]
     },
     "execution_count": 2,
     "metadata": {},
     "output_type": "execute_result"
    }
   ],
   "source": [
    "scyjava.config.add_option('-Xmx30g') # this is to assign RAM to the java session\n",
    "ij = imagej.init('/home/saka/sw/local/fiji2/2023', mode='interactive')\n",
    "ij.ui().showUI()\n",
    "ij.getVersion() #This is to make sure ImageJ/Fiji opened properly. In case of error, it could display '2.9.0/inactive' instead of the full version number"
   ]
  },
  {
   "cell_type": "code",
   "execution_count": 3,
   "id": "394e5913-4902-4937-b4e7-4defe7ab0dca",
   "metadata": {},
   "outputs": [],
   "source": [
    "# Dialog window to get the path of the working directory\n",
    "root = tk.Tk()\n",
    "root.withdraw()\n",
    "# Set the path to the directory containing the images\n",
    "directory_path = filedialog.askdirectory()"
   ]
  },
  {
   "cell_type": "code",
   "execution_count": 5,
   "id": "704c1ce7-4b26-4540-a577-e3d7095a0ff8",
   "metadata": {},
   "outputs": [
    {
     "name": "stderr",
     "output_type": "stream",
     "text": [
      "z_axis not specified, assuming it is dim 0\n",
      "if this is actually the channel_axis, use 'model.eval(channel_axis=0, ...)'\n",
      "100%|█████████████████████████████████████████████| 8/8 [00:01<00:00,  7.46it/s]\n"
     ]
    }
   ],
   "source": [
    "file_path = f\"{directory_path}/C1-Experiment-1151.tif\"\n",
    "imgs = io.imread(file_path)\n",
    "model = models.CellposeModel(gpu=True, model_type='hmdm_nuclei')\n",
    "channels = [[0,0]]\n",
    "#masks, flows, styles = model.eval(imgs, diameter=10, channels=channels)\n",
    "masks, flows, styles = model.eval(imgs, diameter=91.206, channels=channels, do_3D=False, stitch_threshold=0.4)\n",
    "io.save_masks(imgs, masks, flows, file_path, save_txt=True, png=False, tif=True)\n",
    "io.masks_flows_to_seg(imgs, masks, flows, file_path, file_path)"
   ]
  },
  {
   "cell_type": "code",
   "execution_count": 8,
   "id": "df64b1cc-c6b2-4679-8f6f-d3dd55e2e79b",
   "metadata": {},
   "outputs": [],
   "source": [
    "seg_path = f\"{directory_path}/C1-Experiment-1151_seg.npy\"\n",
    "data = np.load(seg_path, allow_pickle=True).item()  # Load as dictionary\n",
    "mask = data[\"masks\"]  "
   ]
  },
  {
   "cell_type": "code",
   "execution_count": 9,
   "id": "22d796a3-3118-4fa8-bbaa-fa145c93a520",
   "metadata": {},
   "outputs": [],
   "source": [
    "rm = ij.RoiManager.getRoiManager()"
   ]
  },
  {
   "cell_type": "code",
   "execution_count": 12,
   "id": "85f09cef-d306-4c1e-86d0-125797153723",
   "metadata": {},
   "outputs": [],
   "source": [
    "PolygonRoi = scyjava.jimport('ij.gui.PolygonRoi')\n",
    "Roi = scyjava.jimport('ij.gui.Roi')\n",
    "for z in range(mask.shape[0]):\n",
    "    contours = find_contours(mask[z], 0.5)  # Extract object boundaries\n",
    "    \n",
    "    for contour in contours:\n",
    "        x_points = contour[:, 1].astype(int)\n",
    "        y_points = contour[:, 0].astype(int)\n",
    "        xcoords_jint = JArray(JInt)(x_points)\n",
    "        ycoords_jint = JArray(JInt)(y_points)\n",
    "        # Create ImageJ ROI\n",
    "        roi = PolygonRoi(xcoords_jint, ycoords_jint, len(x_points), Roi.FREEROI)\n",
    "        roi.setPosition(z + 1)  # Assign Z slice position\n",
    "        rm.addRoi(roi)\n",
    "\n"
   ]
  },
  {
   "cell_type": "code",
   "execution_count": 15,
   "id": "12decfca-a243-41a5-9319-f75e887cb526",
   "metadata": {},
   "outputs": [],
   "source": [
    "# Initialize a global object ID counter\n",
    "object_id_map = {}  # Dictionary to track object IDs across slices\n",
    "next_object_id = 1  # Start with ID 1\n",
    "\n",
    "for z in range(mask.shape[0]):\n",
    "    labeled_slice = label(mask[z])  # Assigns unique labels to objects in this slice\n",
    "    unique_objects = np.unique(labeled_slice)\n",
    "    unique_objects = unique_objects[unique_objects > 0]  # Ignore background (0)\n",
    "\n",
    "    for obj in unique_objects:\n",
    "        # Find contours of this specific object\n",
    "        object_mask = (labeled_slice == obj)\n",
    "        contours = find_contours(object_mask, 0.5)\n",
    "\n",
    "        for contour in contours:\n",
    "            x_points = contour[:, 1].astype(int)\n",
    "            y_points = contour[:, 0].astype(int)\n",
    "\n",
    "            # Convert NumPy arrays to Java arrays\n",
    "            xcoords_jint = JArray(JInt)(x_points)\n",
    "            ycoords_jint = JArray(JInt)(y_points)\n",
    "\n",
    "            # Assign a persistent object ID across slices\n",
    "            if obj not in object_id_map:\n",
    "                object_id_map[obj] = next_object_id\n",
    "                next_object_id += 1  # Increment for new objects\n",
    "\n",
    "            object_id = object_id_map[obj]  # Get the assigned ID\n",
    "\n",
    "            # Create ImageJ ROI\n",
    "            roi = PolygonRoi(xcoords_jint, ycoords_jint, len(x_points), Roi.FREEROI)\n",
    "            roi.setPosition(z + 1)  # Assign Z slice position\n",
    "\n",
    "            # Rename ROI to \"objX_sliceY\"\n",
    "            roi.setName(f\"obj{object_id}_slice{z+1}\")\n",
    "\n",
    "            # Add ROI to the ROI Manager\n",
    "            rm.addRoi(roi)"
   ]
  },
  {
   "cell_type": "code",
   "execution_count": null,
   "id": "64ffbbf9-24b7-4fa6-b1ec-fbc8d47a71aa",
   "metadata": {},
   "outputs": [],
   "source": []
  }
 ],
 "metadata": {
  "kernelspec": {
   "display_name": "Python 3 (ipykernel)",
   "language": "python",
   "name": "python3"
  },
  "language_info": {
   "codemirror_mode": {
    "name": "ipython",
    "version": 3
   },
   "file_extension": ".py",
   "mimetype": "text/x-python",
   "name": "python",
   "nbconvert_exporter": "python",
   "pygments_lexer": "ipython3",
   "version": "3.10.12"
  }
 },
 "nbformat": 4,
 "nbformat_minor": 5
}
