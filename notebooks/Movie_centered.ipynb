{
 "cells": [
  {
   "cell_type": "code",
   "execution_count": 1,
   "id": "e7ad05e1-4c44-4038-9013-ca8725ca076e",
   "metadata": {},
   "outputs": [],
   "source": [
    "import imagej\n",
    "import os\n",
    "import re\n",
    "import pandas\n",
    "from pandas import DataFrame\n",
    "import scyjava\n",
    "import sys\n",
    "import csv"
   ]
  },
  {
   "cell_type": "code",
   "execution_count": 2,
   "id": "82f01066-2b7a-4f79-b815-740716854082",
   "metadata": {},
   "outputs": [
    {
     "data": {
      "text/plain": [
       "'2.14.0/1.54f'"
      ]
     },
     "execution_count": 2,
     "metadata": {},
     "output_type": "execute_result"
    }
   ],
   "source": [
    "scyjava.config.add_option('-Xmx60g')\n",
    "#ij = imagej.init('/home/saka/fiji-linux64/Fiji.app', mode = 'interactive')\n",
    "ij = imagej.init('/Users/MrWor/Documents/Fiji.app', mode='interactive')\n",
    "ij.ui().showUI()\n",
    "ij.getVersion()"
   ]
  },
  {
   "cell_type": "code",
   "execution_count": 3,
   "id": "4d7df899-15c2-4c1c-928f-f53d8470fb76",
   "metadata": {},
   "outputs": [],
   "source": [
    "w = scyjava.jimport('ij.WindowManager')\n",
    "rm = ij.RoiManager.getRoiManager()"
   ]
  },
  {
   "cell_type": "code",
   "execution_count": 6,
   "id": "26d3e0d2-e3d7-4620-ba9e-6a2660f4bfd2",
   "metadata": {},
   "outputs": [],
   "source": [
    "directory_path = f\"/Users/MrWor/Documents/imaging/Zeewee/\"\n",
    "image_path = f\"{directory_path}Total_combined.tif\""
   ]
  },
  {
   "cell_type": "code",
   "execution_count": 10,
   "id": "5f934ea0-33b4-48c3-ba9e-33d6ce3be574",
   "metadata": {},
   "outputs": [],
   "source": [
    "imp = ij.IJ.openImage(image_path)\n",
    "imp.show()"
   ]
  },
  {
   "cell_type": "code",
   "execution_count": 11,
   "id": "e77a63ea-e0df-4998-8f27-fbf4c49b139b",
   "metadata": {},
   "outputs": [],
   "source": [
    "w = scyjava.jimport('ij.WindowManager')\n",
    "roi_count = rm.getCount()\n",
    "image_name = f\"Total_combined.tif\"\n",
    "for i in range(roi_count-1):\n",
    "    roi = rm.getRoi(i)\n",
    "    selected = rm.select(i)\n",
    "    x = roi.getContourCentroid()[0]\n",
    "    y = roi.getContourCentroid()[1]\n",
    "    ij.IJ.run(imp, \"Select None\", \"\")\n",
    "    square = imp.setRoi(int(x-120), int(y-120), 240, 240)\n",
    "    added = rm.addRoi(square)\n",
    "    roi2 = rm.getRoi(roi_count+i)\n",
    "    roi3 = rm.select(roi_count+i)\n",
    "    square_name = f\"frame{i+1}\"\n",
    "    ij.IJ.run(\"Duplicate...\", f\"title={str(square_name)}\")\n",
    "    ij.IJ.selectWindow(str(image_name))"
   ]
  },
  {
   "cell_type": "code",
   "execution_count": 4,
   "id": "20452f36-ba1d-4e76-8c98-14f3fd7c64c2",
   "metadata": {},
   "outputs": [
    {
     "name": "stdout",
     "output_type": "stream",
     "text": [
      "24\n"
     ]
    }
   ],
   "source": []
  },
  {
   "cell_type": "code",
   "execution_count": null,
   "id": "e7db2520-f991-4402-b65d-561ebf91a9fd",
   "metadata": {},
   "outputs": [],
   "source": []
  },
  {
   "cell_type": "code",
   "execution_count": null,
   "id": "a5346704-367b-44db-a295-555f0b23310b",
   "metadata": {},
   "outputs": [],
   "source": []
  }
 ],
 "metadata": {
  "kernelspec": {
   "display_name": "Python 3 (ipykernel)",
   "language": "python",
   "name": "python3"
  },
  "language_info": {
   "codemirror_mode": {
    "name": "ipython",
    "version": 3
   },
   "file_extension": ".py",
   "mimetype": "text/x-python",
   "name": "python",
   "nbconvert_exporter": "python",
   "pygments_lexer": "ipython3",
   "version": "3.10.12"
  }
 },
 "nbformat": 4,
 "nbformat_minor": 5
}
