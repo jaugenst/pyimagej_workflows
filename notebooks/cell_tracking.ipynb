{
 "cells": [
  {
   "cell_type": "markdown",
   "id": "8862941e-297b-4c95-9034-50e9246fc018",
   "metadata": {
    "editable": true,
    "slideshow": {
     "slide_type": ""
    },
    "tags": []
   },
   "source": [
    "# open imagej and import libraries"
   ]
  },
  {
   "cell_type": "code",
   "execution_count": null,
   "id": "0ddee983-8c71-4b8d-9cd9-b5f837243f75",
   "metadata": {
    "editable": true,
    "slideshow": {
     "slide_type": ""
    },
    "tags": []
   },
   "outputs": [],
   "source": [
    "from cellpose import models, io\n",
    "from cellpose.io import *\n",
    "from collections import defaultdict\n",
    "import geopandas\n",
    "import glob\n",
    "import imagej\n",
    "from jpype import JArray, JInt\n",
    "import matplotlib.pyplot as plt\n",
    "import multiprocessing as mp\n",
    "import numpy as np\n",
    "import os\n",
    "import re\n",
    "import pandas as pd\n",
    "from pandas import DataFrame\n",
    "from pathlib import Path\n",
    "import scyjava\n",
    "import seaborn\n",
    "import shutil\n",
    "import tkinter as tk\n",
    "from tkinter import filedialog\n",
    "from PIL import Image\n",
    "import sys\n",
    "import os\n",
    "\n",
    "scyjava.config.add_option('-Xmx60g')\n",
    "start_dir = os.getcwd()\n",
    "#ij = imagej.init('sc.fiji:fiji', mode='interactive')\n",
    "ij = imagej.init('/Users/volkenlab/Documents/Jacques_Data/Fiji.app/', mode='interactive')\n",
    "## Something about this init() function changes the current working directory.\n",
    "#ij.getApp().getInfo(True)\n",
    "ij.ui().showUI()\n",
    "os.chdir(start_dir)\n",
    "ij.getVersion() #This is to make sure ImageJ/Fiji opened properly. In case of error, it could display '2.9.0/inactive' instead of the full version"
   ]
  },
  {
   "cell_type": "markdown",
   "id": "3ba64971-60d9-4864-b973-b7f589673d03",
   "metadata": {},
   "source": [
    "# run trackmate"
   ]
  },
  {
   "cell_type": "code",
   "execution_count": null,
   "id": "3c1f032f-8b88-4cf9-bf97-be8ac2ffa195",
   "metadata": {},
   "outputs": [],
   "source": [
    "Model =  scyjava.jimport('fiji.plugin.trackmate.Model')\n",
    "Settings= scyjava.jimport('fiji.plugin.trackmate.Settings')\n",
    "TrackMate = scyjava.jimport('fiji.plugin.trackmate.TrackMate')\n",
    "Logger= scyjava.jimport('fiji.plugin.trackmate.Logger')\n",
    "DetectorKeys= scyjava.jimport('fiji.plugin.trackmate.detection.DetectorKeys') \n",
    "ExportTracksToXML= scyjava.jimport('fiji.plugin.trackmate.action.ExportTracksToXML') \n",
    "TmXmlWriter= scyjava.jimport('fiji.plugin.trackmate.io.TmXmlWriter')\n",
    "LogRecorder = scyjava.jimport('fiji.plugin.trackmate.util.LogRecorder')\n",
    "SparseLAPTrackerFactory= scyjava.jimport('fiji.plugin.trackmate.tracking.jaqaman.SparseLAPTrackerFactory')\n",
    "TMUtils = scyjava.jimport('fiji.plugin.trackmate.util.TMUtils')\n",
    "HyperStackDisplayer = scyjava.jimport('fiji.plugin.trackmate.visualization.hyperstack.HyperStackDisplayer')\n",
    "SelectionModel = scyjava.jimport('fiji.plugin.trackmate.SelectionModel')\n",
    "CellposeDetectorFactory = scyjava.jimport('fiji.plugin.trackmate.cellpose.CellposeDetectorFactory')\n",
    "FeatureFilter = scyjava.jimport('fiji.plugin.trackmate.features.FeatureFilter')\n",
    "DisplaySetting = scyjava.jimport('fiji.plugin.trackmate.gui.displaysettings.DisplaySettings')\n",
    "DisplaySettingsIO = scyjava.jimport('fiji.plugin.trackmate.gui.displaysettings.DisplaySettingsIO')\n",
    "CaptureOverlayAction = scyjava.jimport('fiji.plugin.trackmate.action.CaptureOverlayAction')\n",
    "PretrainedModel= scyjava.jimport('fiji.plugin.trackmate.cellpose.CellposeSettings.PretrainedModel')\n",
    "ThresholdDetectorFactory= scyjava.jimport('fiji.plugin.trackmate.detection.ThresholdDetectorFactory')\n",
    "TrackScheme = scyjava.jimport('fiji.plugin.trackmate.visualization.trackscheme.TrackScheme')\n",
    "TrackTableView = scyjava.jimport('fiji.plugin.trackmate.visualization.table.TrackTableView')\n",
    "AllSpotsTableView = scyjava.jimport('fiji.plugin.trackmate.visualization.table.AllSpotsTableView')\n",
    "PretrainedModel = scyjava.jimport('fiji.plugin.trackmate.cellpose.CellposeSettings.PretrainedModel')\n",
    "\n",
    "image = \"C:/Users/volkenlab/Documents/Anushka/MAX_Experiment-1647-Split Scenes-02.tif\"\n",
    "out = \"C:/Users/volkenlab/Documents/Anushka/\"\n",
    "\n",
    "# Parameters for Detection\n",
    "# Here, the user can specify parameters for the detection step in Trackmate (Threshold Detector)\n",
    "dsettings = {\n",
    "    'TARGET_CHANNEL' : ij.py.to_java(0),\n",
    "    'SIMPLIFY_CONTOURS' : True,\n",
    "    'CELLPOSE_MODEL' : PretrainedModel.CUSTOM,\n",
    "    'CELLPOSE_MODEL_FILEPATH' : \"C:/Users/volkenlab/Documents/Anushka/CP_20220523_104016\",\n",
    "    'USE_GPU' : True,\n",
    "    'OPTIONAL_CHANNEL_2' : ij.py.to_java(0),\n",
    "    'CELL_DIAMETER' : 10.0,\n",
    "    'CELLPOSE_PYTHON_FILEPATH' : \"C:/Users/volkenlab/anaconda3/envs/cellpose/python.exe\",\n",
    "}\n",
    "\n",
    "# Parameters for Tracking\n",
    "# Here, the user can specify parameters for the tracking step in Trackmate (LAP Tracker)\n",
    "frame_gap = 2\n",
    "tsettings = {\n",
    "    'LINKING_MAX_DISTANCE' : 10.0,\n",
    "    'ALLOW_GAP_CLOSING' : True,\n",
    "    'GAP_CLOSING_MAX_DISTANCE' : 15.0,\n",
    "    'MAX_FRAME_GAP' : ij.py.to_java(2),\n",
    "    'ALLOW_TRACK_SPLITTING' : False,\n",
    "    'SPLITTING_MAX_DISTANCE' : 15.0,\n",
    "    'ALLOW_TRACK_MERGING' : False,\n",
    "    'ALTERNATIVE_LINKING_COST_FACTOR' : 1.05,\n",
    "    'MERGING_MAX_DISTANCE' : 15.0,\n",
    "    'CUTOFF_PERCENTILE' : 0.9,\n",
    "}\n",
    "\n",
    "if (image[len(image)-4:] == \".tif\"):\n",
    "\n",
    "    # Open Image\n",
    "    imp = ij.IJ.openImage(image)\n",
    "    imp.show()\n",
    "        \n",
    "    # Create Model\n",
    "    model = Model()\n",
    "    settings = Settings(imp)\n",
    "        \n",
    "    # Detector\n",
    "    settings.detectorFactory = CellposeDetectorFactory()\n",
    "    for parameter, value in dsettings.items():\n",
    "        settings.detectorSettings[parameter] = value\n",
    "        \n",
    "    # Tracker\n",
    "    settings.trackerFactory = SparseLAPTrackerFactory()\n",
    "    settings.trackerSettings = settings.trackerFactory.getDefaultSettings()\n",
    "    for parameter, value in tsettings.items():\n",
    "        settings.trackerSettings[parameter] = value\n",
    "        \n",
    "    # Execute Tracking\n",
    "    trackmate = TrackMate(model, settings)\n",
    "    ok = trackmate.checkInput()\n",
    "    if not ok:\n",
    "        sys.exit(str(trackmate.getErrorMessage()))\n",
    "    ok = trackmate.process()\n",
    "    if not ok:\n",
    "        sys.exit(str(trackmate.getErrorMessage()))\n",
    "    selectionModel = SelectionModel(model)\n",
    "        \n",
    "    # Display\n",
    "    ds = DisplaySettingsIO.readUserDefault()\n",
    "    displayer = HyperStackDisplayer(model, selectionModel, imp, ds)\n",
    "    displayer.render()\n",
    "    displayer.refresh()\n",
    "    trackscheme = TrackScheme(model, selectionModel, ds)\n",
    "    trackscheme.render()\n",
    "        \n",
    "    # Save Data\n",
    "    outFile = Path(out+\"exportModel.xml\")\n",
    "    writer = TmXmlWriter(outFile)\n",
    "    writer.appendModel(model)\n",
    "    writer.appendSettings(settings)\n",
    "    writer.writeToFile()\n",
    "    csvFileTracks = Path(out+\"exportTracks.csv\")\n",
    "    trackTableView = TrackTableView(model, selectionModel, ds)\n",
    "    trackTableView.getSpotTable().exportToCsv(csvFileTracks)\n",
    "    "
   ]
  },
  {
   "cell_type": "markdown",
   "id": "eefe5d32-8e68-4618-bed6-ac328ee9c97d",
   "metadata": {},
   "source": [
    "# sort csv file from trackmate output"
   ]
  },
  {
   "cell_type": "code",
   "execution_count": null,
   "id": "d0b2f3c0-6ec0-446a-b90b-a03b18532f0d",
   "metadata": {},
   "outputs": [],
   "source": [
    "import pandas as pd\n",
    "df = pd.read_csv(\"C:/Users/volkenlab/Documents/Anushka/exportTracks.csv\")\n",
    "df.drop([0, 1, 2], axis=0, inplace=True)\n",
    "df = df.reset_index(drop=True)\n",
    "\n",
    "for index, row in df.iterrows():\n",
    "    df.at[index, 'TRACK_ID'] = int(row['TRACK_ID'])\n",
    "    df.at[index, 'FRAME'] = int(row['FRAME'])\n",
    "\n",
    "df.sort_values(by=['TRACK_ID', 'FRAME'], inplace=True, ignore_index=True)\n",
    "df.to_csv(r\"C:/Users/volkenlab/Documents/Anushka/exportTracks_edited.csv\", index=False)"
   ]
  },
  {
   "cell_type": "markdown",
   "id": "a766bc6d-a5e8-44f9-b015-fa4b9b61f1bb",
   "metadata": {},
   "source": [
    "# obtain ROI set"
   ]
  },
  {
   "cell_type": "code",
   "execution_count": null,
   "id": "a5f73e61-5fd8-42c0-9bf7-b2c6e757db3e",
   "metadata": {},
   "outputs": [],
   "source": [
    "IJRoiExporter = scyjava.jimport('fiji.plugin.trackmate.action.IJRoiExporter')\n",
    "model.setLogger(Logger.IJ_LOGGER)\n",
    "logger = Logger.IJ_LOGGER\n",
    "exporter = IJRoiExporter(imp, logger)\n",
    "exporter.export(model.getSpots().iterable(True))\n",
    "rm = ij.RoiManager.getRoiManager()\n",
    "rm.save(\"C:/Users/volkenlab/Documents/Anushka/RoiSet cells.zip\");\n",
    "rm.runCommand(imp,\"Delete\");"
   ]
  },
  {
   "cell_type": "code",
   "execution_count": null,
   "id": "cb63c389-fffe-4199-9dde-da1b4ca49cc4",
   "metadata": {},
   "outputs": [],
   "source": [
    "from zipfile import ZipFile\n",
    "with ZipFile(\"C:/Users/volkenlab/Documents/Anushka/RoiSet cells.zip\", 'r') as zip: \n",
    "    zip.extractall(path=\"C:/Users/volkenlab/Documents/Anushka/Roiset cells\")"
   ]
  },
  {
   "cell_type": "markdown",
   "id": "86be4af7-ed2b-4d3d-8869-9e512cdd7245",
   "metadata": {},
   "source": [
    "# create csv of tracks by row"
   ]
  },
  {
   "cell_type": "code",
   "execution_count": null,
   "id": "a3ec442c-ae3d-4ab3-858a-eccf92ef9fde",
   "metadata": {
    "editable": true,
    "slideshow": {
     "slide_type": ""
    },
    "tags": []
   },
   "outputs": [],
   "source": [
    "import pandas as pd\n",
    "data = pd.read_csv(\"C:/Users/volkenlab/Documents/Anushka/exportTracks_edited.csv\")\n",
    "print(data)\n",
    "\n",
    "import csv\n",
    "file = open('da_Tracks.csv', 'w', newline='')\n",
    "csv_writer = csv.writer(file)\n",
    "\n",
    "current_track = 0\n",
    "first = True\n",
    "string = ''\n",
    "for index, row in data.iterrows():\n",
    "    if int(row['TRACK_ID']) == current_track:\n",
    "        if first:\n",
    "            string = f'{index+1}'\n",
    "            first = False\n",
    "        else:\n",
    "            string = string + \", \" + f'{index+1}'\n",
    "    else:\n",
    "        csv_writer.writerow([string])\n",
    "        print(string)\n",
    "        print(current_track)\n",
    "\n",
    "        string = f'{index+1}'\n",
    "        current_track += 1\n",
    "\n",
    "file.close()"
   ]
  },
  {
   "cell_type": "markdown",
   "id": "cc78e9eb-448f-43c2-83e4-2d3d41cb467c",
   "metadata": {},
   "source": [
    "# add ROIs to ROI Manager"
   ]
  },
  {
   "cell_type": "code",
   "execution_count": 50,
   "id": "258bfa80-1770-4090-b67e-485c8daf0cc3",
   "metadata": {},
   "outputs": [],
   "source": [
    "df = pd.read_csv(\"C:/Users/volkenlab/Documents/Anushka/exportTracks_edited.csv\")\n",
    "roiset = \"C:/Users/volkenlab/Documents/Anushka/RoiSet cells/\"\n",
    "for index, row in df.iterrows():\n",
    "    file = row['LABEL'] + '.roi'\n",
    "    #imp2 = ij.IJ.openImage(roiset+file)\n",
    "    rm.open(roiset+file)"
   ]
  },
  {
   "cell_type": "markdown",
   "id": "e7ef9ca0-1178-4dbb-84ff-371aa3d99f3f",
   "metadata": {},
   "source": [
    "# add color overlay for each track"
   ]
  },
  {
   "cell_type": "code",
   "execution_count": 51,
   "id": "5f0e007b-68eb-444e-b387-71728c5578f8",
   "metadata": {
    "editable": true,
    "slideshow": {
     "slide_type": ""
    },
    "tags": []
   },
   "outputs": [],
   "source": [
    "df2 = pd.read_csv(\"C:/Users/volkenlab/Documents/Anushka/da_Tracks.csv\", header=None)\n",
    "\n",
    "nearest_path = \"C:/Users/volkenlab/Documents/Anushka/nearest.csv\"\n",
    "testing = pd.read_csv(nearest_path)\n",
    "rm = ij.RoiManager.getRoiManager()\n",
    "\n",
    "import random\n",
    "colors = [\"black\", \"blue\", \"cyan\", \"green\", \"magenta\", \"orange\", \"red\", \"white\", \"yellow\"]\n",
    "\n",
    "for index, row in df2.iterrows():\n",
    "    l = row[0].split(\", \")\n",
    "    print(l)\n",
    "    random_color = random.choice(colors)\n",
    "    for cell in l:\n",
    "        cell_index = int(cell)\n",
    "        roi = rm.select(cell_index)\n",
    "        overlay_command = f\"Overlay.addSelection('{random_color}', 5);\"\n",
    "        ij.py.run_macro(overlay_command)"
   ]
  }
 ],
 "metadata": {
  "kernelspec": {
   "display_name": "Python 3 (ipykernel)",
   "language": "python",
   "name": "python3"
  },
  "language_info": {
   "codemirror_mode": {
    "name": "ipython",
    "version": 3
   },
   "file_extension": ".py",
   "mimetype": "text/x-python",
   "name": "python",
   "nbconvert_exporter": "python",
   "pygments_lexer": "ipython3",
   "version": "3.10.12"
  }
 },
 "nbformat": 4,
 "nbformat_minor": 5
}
