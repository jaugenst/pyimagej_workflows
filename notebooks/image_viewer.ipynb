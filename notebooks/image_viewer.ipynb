{
 "cells": [
  {
   "cell_type": "code",
   "execution_count": 1,
   "id": "85357d53-8b85-44e9-9dbb-c101b7880bf9",
   "metadata": {},
   "outputs": [],
   "source": [
    "import sys\n",
    "import os\n",
    "import glob\n",
    "from PyQt5 import QtCore, QtGui, QtWidgets\n",
    "from PyQt5.QtCore import *\n",
    "from PyQt5.QtGui import *\n",
    "from PyQt5.QtWidgets import *"
   ]
  },
  {
   "cell_type": "code",
   "execution_count": 2,
   "id": "122fc921-f0ea-45ef-a06b-9187b013fd0f",
   "metadata": {},
   "outputs": [],
   "source": [
    "file_pattern = os.path.join(\"/Users/MrWor/Documents/imaging/20230427 thp1lc3 gal3 alix/gal3/measurement\", \"*.tif\")\n",
    "file_list = glob.glob(file_pattern)"
   ]
  },
  {
   "cell_type": "code",
   "execution_count": 3,
   "id": "7796e3d9-ce3f-4f5d-9b19-236e04265bb0",
   "metadata": {},
   "outputs": [
    {
     "ename": "SystemExit",
     "evalue": "0",
     "output_type": "error",
     "traceback": [
      "An exception has occurred, use %tb to see the full traceback.\n",
      "\u001b[1;31mSystemExit\u001b[0m\u001b[1;31m:\u001b[0m 0\n"
     ]
    },
    {
     "name": "stderr",
     "output_type": "stream",
     "text": [
      "C:\\Users\\MrWor\\anaconda3\\envs\\imaging\\lib\\site-packages\\IPython\\core\\interactiveshell.py:3516: UserWarning: To exit: use 'exit', 'quit', or Ctrl-D.\n",
      "  warn(\"To exit: use 'exit', 'quit', or Ctrl-D.\", stacklevel=1)\n"
     ]
    }
   ],
   "source": [
    "class MainWindow(QMainWindow):\n",
    "\n",
    "    def __init__(self):\n",
    "        super().__init__()\n",
    "        self.window()\n",
    "    \n",
    "    def window(self):\n",
    "        self.scroll = QScrollArea()\n",
    "        self.win = QWidget()\n",
    "        self.grid = QGridLayout()\n",
    "\n",
    "        n = 0\n",
    "        for i in range(136): # number of rows\n",
    "            for j in range(5): # number of columns\n",
    "                file = file_list[n] # file_list contains all the image paths\n",
    "                pixmap = QtGui.QPixmap(file)\n",
    "                pixmap2 = pixmap.scaled(400, 400, QtCore.Qt.KeepAspectRatio) # scales the images to a certain size\n",
    "                label = QtWidgets.QLabel(pixmap=pixmap2)\n",
    "                self.grid.addWidget(label, i, j)\n",
    "                n += 1\n",
    "    \n",
    "        self.win.setLayout(self.grid)\n",
    "        self.scroll.setWidgetResizable(True)\n",
    "        self.scroll.setVerticalScrollBarPolicy(Qt.ScrollBarAlwaysOn)\n",
    "        self.scroll.setHorizontalScrollBarPolicy(Qt.ScrollBarAlwaysOn)\n",
    "        self.scroll.setWidget(self.win)\n",
    "        self.setCentralWidget(self.scroll)\n",
    "        self.setGeometry(0, 0, 3000, 2000) # window x position, y position, width, height\n",
    "        self.setWindowTitle('Image Viewer')\n",
    "        self.show()\n",
    "        return\n",
    "\n",
    "def main():\n",
    "    app = QApplication(sys.argv)\n",
    "    main = MainWindow()\n",
    "    sys.exit(app.exec_())\n",
    "\n",
    "if __name__ == '__main__':\n",
    "    main()"
   ]
  },
  {
   "cell_type": "code",
   "execution_count": null,
   "id": "583f7cf4-ca17-4207-ad7d-8093d5767531",
   "metadata": {},
   "outputs": [],
   "source": [
    "class MainWindow(QtWidgets.QMainWindow):\n",
    "    def __init__(self, parent=None):\n",
    "        super(MainWindow, self).__init__(parent)\n",
    "        #url = # ...\n",
    "        #highlight_dir = url + '\\\\highlighted'\n",
    "\n",
    "        self.scrollArea = QtWidgets.QScrollArea(widgetResizable=True)\n",
    "        self.setCentralWidget(self.scrollArea)\n",
    "        content_widget = QtWidgets.QWidget()\n",
    "        self.scrollArea.setWidget(content_widget)\n",
    "        self._lay = QtWidgets.QVBoxLayout(content_widget)\n",
    "\n",
    "        self.files_it = iter([os.path.join(directory_path, file) for file in os.listdir(directory_path)])\n",
    "\n",
    "        self._timer = QtCore.QTimer(self, interval=1)\n",
    "        self._timer.timeout.connect(self.on_timeout)\n",
    "        self._timer.start()\n",
    "\n",
    "    def on_timeout(self):\n",
    "        try:\n",
    "            file = next(self.files_it)\n",
    "            pixmap = QtGui.QPixmap(file)\n",
    "            self.add_pixmap(pixmap)\n",
    "        except StopIteration:\n",
    "            self._timer.stop()\n",
    "\n",
    "    def add_pixmap(self, pixmap):\n",
    "        if not pixmap.isNull():\n",
    "            label = QtWidgets.QLabel(pixmap=pixmap)\n",
    "            self._lay.addWidget(label)\n",
    "\n",
    "if __name__ == '__main__':\n",
    "    import sys\n",
    "    app = QtWidgets.QApplication(sys.argv)\n",
    "    w = MainWindow()\n",
    "    w.show()\n",
    "    sys.exit(app.exec_()) \n"
   ]
  }
 ],
 "metadata": {
  "kernelspec": {
   "display_name": "Python 3 (ipykernel)",
   "language": "python",
   "name": "python3"
  },
  "language_info": {
   "codemirror_mode": {
    "name": "ipython",
    "version": 3
   },
   "file_extension": ".py",
   "mimetype": "text/x-python",
   "name": "python",
   "nbconvert_exporter": "python",
   "pygments_lexer": "ipython3",
   "version": "3.10.12"
  }
 },
 "nbformat": 4,
 "nbformat_minor": 5
}
