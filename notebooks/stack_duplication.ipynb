{
 "cells": [
  {
   "cell_type": "code",
   "execution_count": 1,
   "id": "d83ef80f-2fc1-4cf1-a48a-4db296a77517",
   "metadata": {},
   "outputs": [],
   "source": [
    "from cellpose import models, io\n",
    "from cellpose.io import *\n",
    "from collections import defaultdict\n",
    "import geopandas\n",
    "import glob\n",
    "import imagej\n",
    "from jpype import JArray, JInt\n",
    "import matplotlib.pyplot as plt\n",
    "import multiprocessing as mp\n",
    "import numpy as np\n",
    "import os\n",
    "import re\n",
    "import pandas\n",
    "from pandas import DataFrame\n",
    "from pathlib import Path\n",
    "import scyjava\n",
    "import seaborn\n",
    "import shutil\n",
    "import tkinter as tk\n",
    "from tkinter import filedialog\n",
    "from PIL import Image"
   ]
  },
  {
   "cell_type": "code",
   "execution_count": 2,
   "id": "eb1a468f-fcf2-4f82-974f-1a82280d7813",
   "metadata": {},
   "outputs": [
    {
     "data": {
      "text/plain": [
       "'2.9.0/1.54e'"
      ]
     },
     "execution_count": 2,
     "metadata": {},
     "output_type": "execute_result"
    },
    {
     "name": "stdout",
     "output_type": "stream",
     "text": [
      "Unexpected exception formatting exception. Falling back to standard exception\n",
      "ZeissCZIReader initializing /home/saka/Documents/Lab_stuff/confocal/exp2/Experiment-1647-Split Scenes-01.czi\n",
      "Experiment-1647-Split Scenes-01.czi\n"
     ]
    }
   ],
   "source": [
    "scyjava.config.add_option('-Xmx30g')\n",
    "start_dir = os.getcwd()\n",
    "#ij = imagej.init('sc.fiji:fiji', mode='interactive')\n",
    "ij = imagej.init('/home/saka/sw/local/fiji/2023', mode='interactive')\n",
    "## Something about this init() function changes the current working directory.\n",
    "ij.getApp().getInfo(True)\n",
    "ij.ui().showUI()\n",
    "os.chdir(start_dir)\n",
    "ij.getVersion() #This is to make sure ImageJ/Fiji opened properly. In case of error, it could display '2.9.0/inactive' instead of the full version number"
   ]
  },
  {
   "cell_type": "code",
   "execution_count": 3,
   "id": "d2fa09d1-b6b3-44f2-8c43-f2b3f08359e2",
   "metadata": {},
   "outputs": [],
   "source": [
    "showPolygonRoi = scyjava.jimport('ij.gui.PolygonRoi')\n",
    "Overlay = scyjava.jimport('ij.gui.Overlay')\n",
    "Regions = scyjava.jimport('net.imglib2.roi.Regions')\n",
    "LabelRegions = scyjava.jimport('net.imglib2.roi.labeling.LabelRegions')\n",
    "ZProjector = scyjava.jimport('ij.plugin.ZProjector')()\n",
    "Duplicator = scyjava.jimport('ij.plugin.Duplicator')()\n",
    "TrackMate = scyjava.jimport('fiji.plugin.trackmate.TrackMate')\n",
    "ov = Overlay()\n",
    "rm = ij.RoiManager.getRoiManager()"
   ]
  },
  {
   "cell_type": "code",
   "execution_count": 4,
   "id": "a0f8c465-6a14-4bc7-b516-82cc173aaaa0",
   "metadata": {},
   "outputs": [],
   "source": [
    "directory_path = '/home/saka/Documents/Lab_stuff/confocal/exp2'\n",
    "#directory_path = '/home/saka/Documents/Zhihui/timelapse/images'\n",
    "os.chdir(directory_path)"
   ]
  },
  {
   "cell_type": "code",
   "execution_count": 7,
   "id": "0aefada5-f3a4-4cbe-bdff-5fed5d5fa171",
   "metadata": {},
   "outputs": [],
   "source": [
    "root = tk.Tk()\n",
    "root.withdraw()\n",
    "filepath = filedialog.askopenfilename()"
   ]
  },
  {
   "cell_type": "code",
   "execution_count": 8,
   "id": "3205cf25-215c-4376-96a2-fcd8433b63c7",
   "metadata": {},
   "outputs": [
    {
     "name": "stderr",
     "output_type": "stream",
     "text": [
      "[java.lang.Enum.toString] ZeissCZIReader initializing /home/saka/Documents/Lab_stuff/confocal/exp2/Experiment-1647-Split Scenes-01.czi\n",
      "[WARN] Unknown DetectorType value 'GaAsP-PMT' will be stored as \"Other\"\n",
      "[java.lang.Enum.toString] [WARN] Unknown DetectorType value 'GaAsP-PMT' will be stored as \"Other\"\n",
      "[WARN] Unknown DetectorType value 'GaAsP-PMT' will be stored as \"Other\"\n",
      "[java.lang.Enum.toString] [WARN] Unknown DetectorType value 'GaAsP-PMT' will be stored as \"Other\"\n",
      "[WARN] Unknown DetectorType value 'GaAsP-PMT' will be stored as \"Other\"\n",
      "[java.lang.Enum.toString] [WARN] Unknown DetectorType value 'GaAsP-PMT' will be stored as \"Other\"\n",
      "[WARN] Unknown DetectorType value 'Multialkali-PMT' will be stored as \"Other\"\n",
      "[java.lang.Enum.toString] [WARN] Unknown DetectorType value 'Multialkali-PMT' will be stored as \"Other\"\n"
     ]
    }
   ],
   "source": [
    "image = ij.io().open(filepath)\n",
    "#imp = ij.py.to_imageplus(image)"
   ]
  },
  {
   "cell_type": "code",
   "execution_count": 20,
   "id": "bfbf1c33-a5d7-47e7-b15b-740adfeb846a",
   "metadata": {},
   "outputs": [
    {
     "data": {
      "text/plain": [
       "<java object 'org.scijava.script.ScriptModule'>"
      ]
     },
     "execution_count": 20,
     "metadata": {},
     "output_type": "execute_result"
    }
   ],
   "source": [
    "wanted_channel = 2\n",
    "channel = image[:, :, wanted_channel, :, :]\n",
    "imp = ij.py.to_imageplus(channel)\n",
    "imp.setDimensions(1, 11, 121)\n",
    "ij.ui().show(imp)\n",
    "f_name = os.path.basename(filepath)\n",
    "f_name = os.path.splitext(f_name)[0] + \"_LV.tif\"\n",
    "format = f'Tiff'\n",
    "result_path = f\"{directory_path}/{f_name}\"\n",
    "set_string = f'saveAs(\"{format}\", \"{result_path}\")'\n",
    "ij.py.run_macro(set_string)\n",
    "ij.py.run_macro(\"close();\")"
   ]
  },
  {
   "cell_type": "code",
   "execution_count": 18,
   "id": "b68e5e3f-9043-4e63-8f39-dc2edea1efb3",
   "metadata": {},
   "outputs": [],
   "source": [
    "result = os.path.basename(filepath)\n",
    "print(result)"
   ]
  },
  {
   "cell_type": "code",
   "execution_count": null,
   "id": "c2456807-4c1e-473a-a662-75f4ceeb0c7f",
   "metadata": {},
   "outputs": [],
   "source": [
    "testing = pandas.read_csv('nearest.csv')\n",
    "for row_number in range(len(testing)):\n",
    "    single_row = testing.iloc[row_number]\n",
    "    row_cellids = single_row.child_cell_ids\n",
    "    row_cleaned = row_cellids.strip('[').strip(']')\n",
    "    row_array = row_cleaned.split(', ')\n",
    "    for cell in row_array:\n",
    "        print(f\"This row has cell: {cell}\")\n",
    "        cell_index = int(cell)\n",
    "        roi = rm.select(cell_index)"
   ]
  },
  {
   "cell_type": "code",
   "execution_count": null,
   "id": "ef747ae1-4abc-423d-aa8c-8a366461beec",
   "metadata": {},
   "outputs": [],
   "source": [
    "for i in prout:\n",
    "    roi = rm.select(i)\n",
    "    duplicator_result_f\"{\"i\"}\" = Duplicator.run(imp, 1, 1, 1, 11, 1, 1)\n",
    "    shown = ij.ui().show(duplicator_result)"
   ]
  },
  {
   "cell_type": "code",
   "execution_count": null,
   "id": "a1f43523-cfdf-4750-84db-0d84fca05a58",
   "metadata": {},
   "outputs": [],
   "source": [
    "macro = \"\"\"\n",
    "title = getTitle();\n",
    "a =\n",
    "newArray(17,74,132,185,240,295,347,397,440,488,536,586,645,\n",
    "697,750,804,856,645,697,750,804,856,909,958,1008,1059,1111,\n",
    "1160,1210,1260,1307,1352,1395,1441,1486,1533,1580,1628,1670,\n",
    "1716,1756,1800,1849,1897,1942,1986,2027,2072,2119,2164,2205,\n",
    "2248,2286,2334,2375,2412,2456,2498,2538,2576,2613,2652\n",
    ");\n",
    "for ( i=0; i<a.length; i++ ) {\n",
    "    roiManager( \"Select\", a[i]);\n",
    "    Stack.getPosition(channel, slice, frame);\n",
    "\trun(\"Duplicate...\", \"duplicate frames=\"+frame);\n",
    "    selectWindow(title);\n",
    "}\n",
    "\n",
    "selectWindow(title);\n",
    "close();\n",
    "run(\"Concatenate...\", \"all_open open\");\n",
    "\"\"\"\n",
    "\n",
    "results = ij.py.run_macro(macro)"
   ]
  },
  {
   "cell_type": "code",
   "execution_count": 21,
   "id": "6e5fa98f-e003-491c-971a-d64cebfec85d",
   "metadata": {},
   "outputs": [
    {
     "data": {
      "text/plain": [
       "True"
      ]
     },
     "execution_count": 21,
     "metadata": {},
     "output_type": "execute_result"
    }
   ],
   "source": [
    "#so to fix the virtual stack format, it is required to duplicate it to work from the virtual stack processing menu that is not working. \n",
    "pretreatment = \"\"\"\n",
    "run(\"Duplicate...\", \"duplicate\");\n",
    "run(\"Smooth\", \"stack\");\n",
    "run(\"Smooth\", \"stack\");\n",
    "setAutoThreshold(\"Default dark no-reset\");\n",
    "run(\"Threshold...\");\n",
    "setThreshold(5, 255);\n",
    "setOption(\"BlackBackground\", true);\n",
    "run(\"Convert to Mask\", \"black\");\n",
    "run(\"Set Measurements...\", \"area centroid stack redirect=None decimal=3\");\n",
    "run(\"Analyze Particles...\", \"display add stack\");\n",
    "\"\"\"\n",
    "smoothed = ij.py.run_macro(pretreatment)\n",
    "\n",
    "#saving if the result table\n",
    "measurements = ij.ResultsTable.getResultsTable() \n",
    "measurements_table = ij.convert().convert(measurements, scyjava.jimport('org.scijava.table.Table')) \n",
    "table = ij.py.from_java(measurements_table) \n",
    "results = os.path.basename(filepath)\n",
    "results = os.path.splitext(results)[0]\n",
    "output_path = Path(f\"{directory_path}/{results}.csv\")\n",
    "table.to_csv(output_path)\n",
    "ij.py.run_macro(\"\"\" \n",
    "title = Table.title();\n",
    "selectWindow(title);\n",
    "run(\"Close\");\n",
    "\"\"\")\n",
    "\n",
    "#saving the ROIs\n",
    "f_name = os.path.basename(filepath)\n",
    "f_name = os.path.splitext(f_name)[0]\n",
    "ij.py.run_macro(\"roiManager('Select All');\")\n",
    "rm.runCommand(\"Save\", f\"{directory_path}/\" + f\"{f_name}.zip\")\n",
    "rm.runCommand(\"Delete\")"
   ]
  },
  {
   "cell_type": "code",
   "execution_count": 17,
   "id": "be00fa63-1125-4fd5-85f9-5ef5435324d0",
   "metadata": {},
   "outputs": [],
   "source": [
    "macro = \"\"\"\n",
    "title = getTitle();\n",
    "a =\n",
    "newArray(10, 67, 123, 175, 232, 286, 339, 390, 435, 482, 528, 580, 635, 690, 743, \n",
    "797, 851, 903, 952, 1002, 1052, 1104, 1154, 1205, 1256, 1303, 1348, 1392, 1437, \n",
    "1484, 1528, 1577, 1624, 1667, 1713, 1753, 1796, 1846, 1894, 1938, 1983, 2024, 2070, \n",
    "2116, 2160, 2200, 2245, 2284, 2330, 2373, 2411, 2454, 2495, 2537, 2575, 2612, 2651, 2690, 2730, 2771, 2806, 2841,\n",
    "2875, 2909, 2947, 2983, 3024, 3064, 3106, 3144, 3180, 3221, 3267, 3309, 3341, 3374, 3410, 3442, 3481, 3516, 3549, \n",
    "3578, 3612, 3647, 3680, 3713, 3750, 3780, 3817, 3850, 3882, 3913, 3943, 3973, 4003, 4033, 4062, 4090, 4119, 4149, \n",
    "4180, 4209, 4239, 4262, 4293, 4322, 4356, 4387, 4422, 4450, 4479, 4510, 4538, 4567, 4596, 4624, 4652, 4677, 4704);\n",
    "for ( i=0; i<a.length; i++ ) {\n",
    "    roiManager( \"Select\", a[i]);\n",
    "    Stack.getPosition(channel, slice, frame);\n",
    "\trun(\"Duplicate...\", \"duplicate frames=\"+frame);\n",
    "    selectWindow(title);\n",
    "}\n",
    "\n",
    "selectWindow(title);\n",
    "close();\n",
    "run(\"Concatenate...\", \"all_open open\");\n",
    "\"\"\"\n",
    "\n",
    "results = ij.py.run_macro(macro)"
   ]
  },
  {
   "cell_type": "code",
   "execution_count": null,
   "id": "aa573710-8f23-4eef-b3e1-43632fc278e5",
   "metadata": {},
   "outputs": [],
   "source": []
  }
 ],
 "metadata": {
  "kernelspec": {
   "display_name": "Python 3 (ipykernel)",
   "language": "python",
   "name": "python3"
  },
  "language_info": {
   "codemirror_mode": {
    "name": "ipython",
    "version": 3
   },
   "file_extension": ".py",
   "mimetype": "text/x-python",
   "name": "python",
   "nbconvert_exporter": "python",
   "pygments_lexer": "ipython3",
   "version": "3.10.12"
  }
 },
 "nbformat": 4,
 "nbformat_minor": 5
}
