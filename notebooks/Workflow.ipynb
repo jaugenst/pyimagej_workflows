{
 "cells": [
  {
   "cell_type": "code",
   "execution_count": 1,
   "id": "fe9c9549-ebab-40e5-992a-a7252e6bf3ab",
   "metadata": {},
   "outputs": [],
   "source": [
    "from cellpose import models, io\n",
    "from cellpose.io import *\n",
    "from collections import defaultdict\n",
    "import geopandas\n",
    "import glob\n",
    "import imagej\n",
    "from jpype import JArray, JInt\n",
    "import matplotlib.pyplot as plt\n",
    "import multiprocessing as mp\n",
    "import numpy as np\n",
    "import os\n",
    "import re\n",
    "import pandas\n",
    "from pandas import DataFrame\n",
    "from pathlib import Path\n",
    "import scyjava\n",
    "import seaborn\n",
    "import shutil\n",
    "import tkinter as tk\n",
    "from tkinter import filedialog\n",
    "from PIL import Image\n",
    "import sys\n",
    "import os"
   ]
  },
  {
   "cell_type": "code",
   "execution_count": null,
   "id": "ba0ad07b-b012-4353-95c6-1de81bf34163",
   "metadata": {},
   "outputs": [],
   "source": [
    "scyjava.config.add_option('-Xmx30g')\n",
    "#ij = imagej.init('/home/saka/fiji-linux64/Fiji.app', mode = 'interactive')\n",
    "ij = imagej.init('/home/saka/sw/local/fiji/2023', mode='interactive')\n",
    "ij.ui().showUI()\n",
    "ij.getVersion()"
   ]
  },
  {
   "cell_type": "code",
   "execution_count": 3,
   "id": "00d069e6-dc43-4492-b566-d10350980ec8",
   "metadata": {},
   "outputs": [],
   "source": [
    "showPolygonRoi = scyjava.jimport('ij.gui.PolygonRoi')\n",
    "Overlay = scyjava.jimport('ij.gui.Overlay')\n",
    "Regions = scyjava.jimport('net.imglib2.roi.Regions')\n",
    "LabelRegions = scyjava.jimport('net.imglib2.roi.labeling.LabelRegions')\n",
    "ZProjector = scyjava.jimport('ij.plugin.ZProjector')()\n",
    "Duplicator = scyjava.jimport('ij.plugin.Duplicator')()\n",
    "ov = Overlay()\n",
    "Model =  scyjava.jimport('fiji.plugin.trackmate.Model')\n",
    "Settings= scyjava.jimport('fiji.plugin.trackmate.Settings')\n",
    "TrackMate = scyjava.jimport('fiji.plugin.trackmate.TrackMate')\n",
    "Settings= scyjava.jimport('fiji.plugin.trackmate.Settings')\n",
    "TrackMate = scyjava.jimport('fiji.plugin.trackmate.TrackMate')\n",
    "Logger= scyjava.jimport('fiji.plugin.trackmate.Logger')\n",
    "DetectorKeys= scyjava.jimport('fiji.plugin.trackmate.detection.DetectorKeys') \n",
    "ExportTracksToXML= scyjava.jimport('fiji.plugin.trackmate.action.ExportTracksToXML') \n",
    "TmXmlWriter= scyjava.jimport('fiji.plugin.trackmate.io.TmXmlWriter')\n",
    "LogRecorder = scyjava.jimport('fiji.plugin.trackmate.util.LogRecorder')\n",
    "SparseLAPTrackerFactory= scyjava.jimport('fiji.plugin.trackmate.tracking.jaqaman.SparseLAPTrackerFactory')\n",
    "TMUtils = scyjava.jimport('fiji.plugin.trackmate.util.TMUtils')\n",
    "HyperStackDisplayer = scyjava.jimport('fiji.plugin.trackmate.visualization.hyperstack.HyperStackDisplayer')\n",
    "SelectionModel = scyjava.jimport('fiji.plugin.trackmate.SelectionModel')\n",
    "CellposeDetectorFactory = scyjava.jimport('fiji.plugin.trackmate.cellpose.CellposeDetectorFactory')\n",
    "FeatureFilter = scyjava.jimport('fiji.plugin.trackmate.features.FeatureFilter')\n",
    "DisplaySetting = scyjava.jimport('fiji.plugin.trackmate.gui.displaysettings.DisplaySettings')\n",
    "DisplaySettingsIO = scyjava.jimport('fiji.plugin.trackmate.gui.displaysettings.DisplaySettingsIO')\n",
    "CaptureOverlayAction = scyjava.jimport('fiji.plugin.trackmate.action.CaptureOverlayAction')\n",
    "PretrainedModel= scyjava.jimport('fiji.plugin.trackmate.cellpose.CellposeSettings.PretrainedModel')\n",
    "ThresholdDetectorFactory= scyjava.jimport('fiji.plugin.trackmate.detection.ThresholdDetectorFactory')\n",
    "TrackScheme = scyjava.jimport('fiji.plugin.trackmate.visualization.trackscheme.TrackScheme')\n",
    "TrackTableView = scyjava.jimport('fiji.plugin.trackmate.visualization.table.TrackTableView')\n",
    "AllSpotsTableView = scyjava.jimport('fiji.plugin.trackmate.visualization.table.AllSpotsTableView')\n",
    "\n",
    "rm = ij.RoiManager.getRoiManager()"
   ]
  },
  {
   "cell_type": "markdown",
   "id": "b519eee8-6c86-4097-90a0-00deb1b70687",
   "metadata": {},
   "source": [
    "### Attempt to make functions for the workflow and future package"
   ]
  },
  {
   "cell_type": "code",
   "execution_count": null,
   "id": "4b14ee28-974e-407f-a473-3c7dc481bd7d",
   "metadata": {},
   "outputs": [],
   "source": [
    "def process_images(input_path, output_directory, method='max all', wanted_z=2):\n",
    "    \"\"\"\n",
    "    This function aim to create two images from the raw image, a multi-channel time-lapse of a single z as trackmate-cellpose input, \n",
    "    and a multi-channel z-projection of the time lapse for a better visual base for single cell selection (also lighter for the RAM...)\n",
    "    \"\"\"\n",
    "    \n",
    "    # Load raw image\n",
    "    raw_image = ij.io().open(input_path)\n",
    "    imp = ij.py.to_imageplus(raw_image)\n",
    "    \n",
    "    # Creation of single slice T-stack\n",
    "    channels = raw_image[:, :, :, wanted_z, :]\n",
    "    final_image = ij.py.to_imageplus(channels)\n",
    "    final_image.setDimensions(4, 1, 121)\n",
    "    channels_image = output_directory + \"/channels.tif\"\n",
    "    saved = ij.IJ.save(final_image, ij.py.to_java(channels_image))\n",
    "    \n",
    "    # Creation of 'max' z-projection of raw image for future selection of cells of interest\n",
    "    zproject = ZProjector.run(imp, method)\n",
    "    zproject.setDimensions(4, 1, 121)\n",
    "    max_channels = output_directory + \"/max_channels.tif\"\n",
    "    ij.IJ.saveAs(zproject, \"Tiff\", ij.py.to_java(max_channels))\n",
    "\n",
    "    return channels_image, max_channels\n",
    "\n",
    "\n",
    "def process_channels(LC3_channel = 0, bact_channel = 1, LV_channel = 2, format = \"Tiff\"):\n",
    "    \"\"\"\n",
    "    this function is to isolate the channels into distinct z-stack time lapse\n",
    "    \"\"\"\n",
    "    \n",
    "    channel = raw_image[:, :, LC3_channel, :, :]\n",
    "    lc3 = ij.py.to_imageplus(channel)\n",
    "    lc3.setDimensions(1, 11, 121)\n",
    "    #ij.ui().show(lc3)\n",
    "    LC3_image = f\"{directory_path}/channel_LC3.tif\"\n",
    "    ij.IJ.saveAs(lc3, format, ij.py.to_java(LC3_image))\n",
    "\n",
    "    channel = raw_image[:, :, LV_channel, :, :]\n",
    "    lv = ij.py.to_imageplus(channel)\n",
    "    lv.setDimensions(1, 11, 121)\n",
    "    LV_image = f\"{directory_path}/channel_LV.tif\"\n",
    "    ij.IJ.saveAs(lv, \"Tiff\", ij.py.to_java(LV_image))\n",
    "\n",
    "    channel = raw_image[:, :, bact_channel, :, :]\n",
    "    bact = ij.py.to_imageplus(channel)\n",
    "    bact.setDimensions(1, 11, 121)\n",
    "    #ij.ui().show(bact)\n",
    "    bact_image = f\"{directory_path}/channel_bact.tif\"\n",
    "    ij.IJ.saveAs(bact, \"Tiff\", ij.py.to_java(bact_image))"
   ]
  },
  {
   "cell_type": "markdown",
   "id": "82f3c23d-c320-4115-941a-5d786b9c6c26",
   "metadata": {},
   "source": [
    "## Cellpose to ROI"
   ]
  },
  {
   "cell_type": "code",
   "execution_count": null,
   "id": "56f66cb3-2a61-4f9d-9dae-ff4b445185cf",
   "metadata": {},
   "outputs": [],
   "source": [
    "base_image = Path(f\"/home/saka/Documents/Lab_stuff/confocal/exp2/stack.tif\").as_posix()\n",
    "open_image = f'open(\"{base_image}\")'\n",
    "imp = ij.py.run_macro(open_image)\n",
    "ij.ui().show(imp)"
   ]
  },
  {
   "cell_type": "code",
   "execution_count": null,
   "id": "2f9b86e6-f7dc-4943-b142-b2d8dfbc4fda",
   "metadata": {},
   "outputs": [],
   "source": [
    "data_info = {}\n",
    "for element in range(len(imp.dims)):\n",
    "    name = imp.dims[element]\n",
    "    data_info[name] = imp.shape[element]\n",
    "    print(name)\n",
    "num_frame = data_info['T'] + 1"
   ]
  },
  {
   "cell_type": "code",
   "execution_count": null,
   "id": "8f925100-15c0-4042-a3a9-ebda56a29534",
   "metadata": {},
   "outputs": [],
   "source": [
    "for timepoint in range(1, num_frame):\n",
    "    frame_number = timepoint - 1\n",
    "    input_txt = Path(f\"{directory_path}/outputs/Experiment-1647-Split Scenes-01_z2/cellpose/frame_{frame_number}_cp_outlines.txt\")\n",
    "    txt_fh = open(input_txt, 'r')\n",
    "    for line in txt_fh:\n",
    "            xy = line.rstrip().split(\",\")\n",
    "            xy_coords = [int(element) for element in xy if element not in '']\n",
    "            x_coords = [int(element) for element in xy[::2] if element not in '']\n",
    "            y_coords = [int(element) for element in xy[1::2] if element not in '']\n",
    "            xcoords_jint = JArray(JInt)(x_coords)\n",
    "            ycoords_jint = JArray(JInt)(y_coords)\n",
    "            polygon_roi_instance = scyjava.jimport('ij.gui.PolygonRoi')\n",
    "            roi_instance = scyjava.jimport('ij.gui.Roi')\n",
    "            imported_polygon = polygon_roi_instance(xcoords_jint, ycoords_jint, len(x_coords), int(roi_instance.POLYGON))\n",
    "            imp.setRoi(imported_polygon)\n",
    "            rm.addRoi(imported_polygon)\n",
    "            roi_count = rm.getCount()\n",
    "            rm.select(roi_count - 1)\n",
    "            time_set = imp.setT(timepoint)   \n",
    "            rm.runCommand('Update')\n",
    "ij.py.run_macro(\"roiManager('Select All');\")\n",
    "f_name = os.path.basename(filepath)\n",
    "f_name = os.path.splitext(f_name)[0]\n",
    "rm.runCommand(\"Save\", f\"{directory_path}/\" + f\"{f_name}.zip\")"
   ]
  },
  {
   "cell_type": "markdown",
   "id": "b54ae955-25fa-429a-bfd8-4e8d72bfde8b",
   "metadata": {},
   "source": [
    "# workflow 2.0"
   ]
  },
  {
   "cell_type": "code",
   "execution_count": 4,
   "id": "6831e68c-561e-4196-a76d-f770ea8c7cde",
   "metadata": {},
   "outputs": [],
   "source": [
    "#define your parent directory\n",
    "directory_path = '/home/saka/Documents/Lab_stuff/confocal/exp1ATG7_scene3'\n",
    "bact_path = directory_path + \"/bact/\"\n",
    "if not os.path.exists(bact_path):\n",
    "    os.makedirs(bact_path)\n",
    "other_path = directory_path + \"/other/\"\n",
    "if not os.path.exists(other_path):\n",
    "    os.makedirs(other_path)"
   ]
  },
  {
   "cell_type": "code",
   "execution_count": null,
   "id": "c6334c11-9880-4be6-997c-efcf8c21f82e",
   "metadata": {},
   "outputs": [],
   "source": [
    "# open raw file\n",
    "raw_image = ij.io().open('/home/saka/Documents/Lab_stuff/confocal/exp1ATG7_scene3/Experiment-1647-Split-Scenes-03.czi')"
   ]
  },
  {
   "cell_type": "markdown",
   "id": "4f3f06fa-0991-43a1-a992-fd03bb795863",
   "metadata": {
    "jp-MarkdownHeadingCollapsed": true
   },
   "source": [
    "### Images needed for single cell tracking\n",
    "The T-stack is used for cell detection with trackmate. The 'max' z-projection is used to select cells that would need to be infected but not overloaded for our future single bacteria analysis. "
   ]
  },
  {
   "cell_type": "code",
   "execution_count": null,
   "id": "7cf04af3-1b37-4779-ad13-1af0484977f2",
   "metadata": {},
   "outputs": [],
   "source": [
    "#creation of single slice T-stack\n",
    "wanted_z = 2 # change this number based on your original cellpose training dataset\n",
    "channels = raw_image[:, :, :, wanted_z, :]\n",
    "final_image = ij.py.to_imageplus(channels)\n",
    "final_image.setDimensions(4, 1, 121) # this is to make sure the dimensions are not mixed up\n",
    "channels_image = directory_path + \"/channels.tif\"\n",
    "saved = ij.IJ.save(final_image, ij.py.to_java(channels_image))\n",
    "\n",
    "# creation of 'max' z-projection of raw image for future selection of cells of interest\n",
    "method = 'max all'\n",
    "zproject = ZProjector.run(imp, method)\n",
    "zproject.setDimensions(4, 1, 121)\n",
    "max_channels = directory_path + \"/max_channels.tif\"\n",
    "ij.IJ.saveAs(zproject, \"Tiff\", ij.py.to_java(max_channels))"
   ]
  },
  {
   "cell_type": "code",
   "execution_count": null,
   "id": "4e7df8e6-99f9-4efd-ac26-550c8da880b6",
   "metadata": {},
   "outputs": [],
   "source": [
    "imp = ij.py.to_imageplus(raw_image)\n",
    "method = 'max all'\n",
    "zproject = ZProjector.run(imp, method)\n",
    "zproject.setDimensions(4, 1, 121)\n",
    "max_channels = directory_path + \"/max_channels.tif\"\n",
    "ij.IJ.saveAs(zproject, \"Tiff\", ij.py.to_java(max_channels))"
   ]
  },
  {
   "cell_type": "code",
   "execution_count": null,
   "id": "187d2d59-b8a5-4bca-b1ab-0ad94bad2296",
   "metadata": {},
   "outputs": [],
   "source": [
    "# Usage example of process_image function\n",
    "raw_image_path = '/home/saka/Documents/Lab_stuff/confocal/exp1ATG7_scene3/Experiment-1647-Split-Scenes-03.czi'\n",
    "directory_path = '/home/saka/Documents/Lab_stuff/confocal/exp1ATG7_scene3'\n",
    "\n",
    "channels, max_channels = process_images(raw_image_path, directory_path, method='max all', wanted_z=2)"
   ]
  },
  {
   "cell_type": "markdown",
   "id": "f9755475-d1a0-4e3c-8453-60197d077adb",
   "metadata": {},
   "source": [
    "### single channel z stack isolation and saving"
   ]
  },
  {
   "cell_type": "code",
   "execution_count": null,
   "id": "70568e66-e963-432a-8da0-bd4e90c5e02f",
   "metadata": {},
   "outputs": [],
   "source": [
    "format = f'Tiff'\n",
    "\n",
    "LC3_channel = 0\n",
    "channel = raw_image[:, :, LC3_channel, :, :]\n",
    "lc3 = ij.py.to_imageplus(channel)\n",
    "lc3.setDimensions(1, 11, 121)\n",
    "#ij.ui().show(lc3)\n",
    "result_path = f\"{directory_path}/channel_LC3.tif\"\n",
    "ij.IJ.saveAs(lc3, \"Tiff\", ij.py.to_java(result_path))\n",
    "\n",
    "LV_channel = 2\n",
    "channel = raw_image[:, :, LV_channel, :, :]\n",
    "lv = ij.py.to_imageplus(channel)\n",
    "lv.setDimensions(1, 11, 121)\n",
    "result_path = f\"{directory_path}/channel_LV.tif\"\n",
    "ij.IJ.saveAs(lv, \"Tiff\", ij.py.to_java(result_path))\n",
    "\n",
    "bact_channel = 1\n",
    "channel = raw_image[:, :, bact_channel, :, :]\n",
    "bact = ij.py.to_imageplus(channel)\n",
    "bact.setDimensions(1, 11, 121)\n",
    "#ij.ui().show(bact)\n",
    "result_path = f\"{directory_path}/channel_bact.tif\"\n",
    "ij.IJ.saveAs(bact, \"Tiff\", ij.py.to_java(result_path))"
   ]
  },
  {
   "cell_type": "markdown",
   "id": "6c7e1220-a951-4dd5-9e91-10e0008a6859",
   "metadata": {},
   "source": [
    "### single cell tracking with Trackmate-Cellpose"
   ]
  },
  {
   "cell_type": "code",
   "execution_count": null,
   "id": "037763c3-1113-49e9-b79d-faa1ef7665d6",
   "metadata": {},
   "outputs": [],
   "source": [
    "image = \"/home/saka/Documents/Lab_stuff/confocal/exp1ATG7_scene3/cell_channel.tif\"\n",
    "out = \"/home/saka/Documents/Lab_stuff/confocal/exp1ATG7_scene3/trackmate/\"\n",
    "if not os.path.exists(out):\n",
    "    os.makedirs(out)\n",
    "    \n",
    "# Parameters for Detection\n",
    "# Here, the user can specify parameters for the detection step in Trackmate (Threshold Detector)\n",
    "dsettings = {\n",
    "    'TARGET_CHANNEL' : ij.py.to_java(0),\n",
    "    'SIMPLIFY_CONTOURS' : True,\n",
    "    'CELLPOSE_MODEL' : PretrainedModel.CUSTOM,\n",
    "    'CELLPOSE_MODEL_FILEPATH' : \"/home/saka/Documents/CP_20220523_104016\",\n",
    "    'USE_GPU' : True,\n",
    "    'OPTIONAL_CHANNEL_2' : ij.py.to_java(0),\n",
    "    'CELL_DIAMETER' : 16.38,\n",
    "    'CELLPOSE_PYTHON_FILEPATH' : \"/home/saka/sw/local/fiji/2023/bin/python3.10\",\n",
    "}\n",
    "\n",
    "# Parameters for Tracking\n",
    "# Here, the user can specify parameters for the tracking step in Trackmate (LAP Tracker)\n",
    "frame_gap = 2\n",
    "tsettings = {\n",
    "    'LINKING_MAX_DISTANCE' : 10.0,\n",
    "    'ALLOW_GAP_CLOSING' : True,\n",
    "    'GAP_CLOSING_MAX_DISTANCE' : 15.0,\n",
    "    'MAX_FRAME_GAP' : ij.py.to_java(2),\n",
    "    'ALLOW_TRACK_SPLITTING' : False,\n",
    "    'SPLITTING_MAX_DISTANCE' : 15.0,\n",
    "    'ALLOW_TRACK_MERGING' : False,\n",
    "    'ALTERNATIVE_LINKING_COST_FACTOR' : 1.05,\n",
    "    'MERGING_MAX_DISTANCE' : 15.0,\n",
    "    'CUTOFF_PERCENTILE' : 0.9,\n",
    "}\n",
    "\n",
    "if (image[len(image)-4:] == \".tif\"):\n",
    "\n",
    "    # Open Image\n",
    "    imp = ij.IJ.openImage(image)\n",
    "    imp.show()\n",
    "    ij.py.run_macro('run(\"Set Scale...\", \"distance=2048 known=202.83 unit=µm\");')\n",
    "            \n",
    "    # Create Model\n",
    "    model = Model()\n",
    "    settings = Settings(imp)\n",
    "        \n",
    "    # Detector\n",
    "    settings.detectorFactory = CellposeDetectorFactory()\n",
    "    for parameter, value in dsettings.items():\n",
    "        settings.detectorSettings[parameter] = value\n",
    "        \n",
    "    # Tracker\n",
    "    settings.trackerFactory = SparseLAPTrackerFactory()\n",
    "    settings.trackerSettings = settings.trackerFactory.getDefaultSettings()\n",
    "    for parameter, value in tsettings.items():\n",
    "        settings.trackerSettings[parameter] = value\n",
    "        \n",
    "    # Execute Tracking\n",
    "    trackmate = TrackMate(model, settings)\n",
    "    ok = trackmate.checkInput()\n",
    "    if not ok:\n",
    "        sys.exit(str(trackmate.getErrorMessage()))\n",
    "    ok = trackmate.process()\n",
    "    if not ok:\n",
    "        sys.exit(str(trackmate.getErrorMessage()))\n",
    "    selectionModel = SelectionModel(model)\n",
    "        \n",
    "    # Display\n",
    "    ds = DisplaySettingsIO.readUserDefault()\n",
    "    displayer = HyperStackDisplayer(model, selectionModel, imp, ds)\n",
    "    displayer.render()\n",
    "    displayer.refresh()\n",
    "    trackscheme = TrackScheme(model, selectionModel, ds)\n",
    "    trackscheme.render()\n",
    "        \n",
    "    # Save Data\n",
    "    outFile = Path(out+\"exportModel.xml\")\n",
    "    writer = TmXmlWriter(outFile)\n",
    "    writer.appendModel(model)\n",
    "    writer.appendSettings(settings)\n",
    "    writer.writeToFile()\n",
    "    csvFileTracks = Path(out+\"exportTracks.csv\")\n",
    "    trackTableView = TrackTableView(model, selectionModel, ds)\n",
    "    trackTableView.getSpotTable().exportToCsv(csvFileTracks)\n",
    "    "
   ]
  },
  {
   "cell_type": "markdown",
   "id": "f517ca11-c027-414c-b175-db63c0772124",
   "metadata": {},
   "source": [
    "# sort csv file from trackmate output"
   ]
  },
  {
   "cell_type": "code",
   "execution_count": null,
   "id": "b688e7c4-288f-4557-904b-f1e89cb9e0e2",
   "metadata": {},
   "outputs": [],
   "source": [
    "df = pandas.read_csv(\"/home/saka/Documents/Lab_stuff/confocal/exp1ATG7_scene3/trackmate/exportTracks.csv\")\n",
    "df.drop([0, 1, 2], axis=0, inplace=True)\n",
    "df = df.reset_index(drop=True)\n",
    "\n",
    "for index, row in df.iterrows():\n",
    "    df.at[index, 'TRACK_ID'] = int(row['TRACK_ID'])\n",
    "    df.at[index, 'FRAME'] = int(row['FRAME'])\n",
    "\n",
    "df.sort_values(by=['TRACK_ID', 'FRAME'], inplace=True, ignore_index=True)\n",
    "df.to_csv(\"/home/saka/Documents/Lab_stuff/confocal/exp1ATG7_scene3/trackmate/exportTracks_edited.csv\", index=False)"
   ]
  },
  {
   "cell_type": "markdown",
   "id": "9df509ca-ef8b-4f6d-a043-d54edde581dd",
   "metadata": {},
   "source": [
    "# obtain ROI set"
   ]
  },
  {
   "cell_type": "code",
   "execution_count": null,
   "id": "0ca7e39e-e731-4545-abcc-dd853a310c1b",
   "metadata": {},
   "outputs": [],
   "source": [
    "IJRoiExporter = scyjava.jimport('fiji.plugin.trackmate.action.IJRoiExporter')\n",
    "model.setLogger(Logger.IJ_LOGGER)\n",
    "logger = Logger.IJ_LOGGER\n",
    "exporter = IJRoiExporter(imp, logger)\n",
    "exporter.export(model.getSpots().iterable(True))\n",
    "rm = ij.RoiManager.getRoiManager()\n",
    "rm.save(\"/home/saka/Documents/Lab_stuff/confocal/exp1ATG7_scene3/RoiSet_cells.zip\");\n",
    "rm.runCommand(imp,\"Delete\");"
   ]
  },
  {
   "cell_type": "code",
   "execution_count": null,
   "id": "a509c277-b981-45ba-b36a-263b0327d0d1",
   "metadata": {},
   "outputs": [],
   "source": [
    "from zipfile import ZipFile\n",
    "with ZipFile(\"/home/saka/Documents/Lab_stuff/confocal/exp1ATG7_scene3/RoiSet_cells.zip\", 'r') as zip: \n",
    "    zip.extractall(path=\"/home/saka/Documents/Lab_stuff/confocal/exp1ATG7_scene3/rois\")"
   ]
  },
  {
   "cell_type": "markdown",
   "id": "018c9874-0087-4b3b-a9e3-3ba22654600b",
   "metadata": {},
   "source": [
    "# create csv of tracks by row"
   ]
  },
  {
   "cell_type": "code",
   "execution_count": null,
   "id": "f65267a4-fce5-48ca-b5c1-3c3b127a9cfa",
   "metadata": {},
   "outputs": [],
   "source": [
    "data = pandas.read_csv(\"/home/saka/Documents/Lab_stuff/confocal/exp1ATG7_scene3/trackmate/exportTracks_edited.csv\")\n",
    "print(data)\n",
    "\n",
    "import csv\n",
    "file = open('/home/saka/Documents/Lab_stuff/confocal/exp1ATG7_scene3/trackmate/da_Tracks.csv', 'w', newline='')\n",
    "csv_writer = csv.writer(file)\n",
    "\n",
    "current_track = 0\n",
    "first = True\n",
    "string = ''\n",
    "for index, row in data.iterrows():\n",
    "    if int(row['TRACK_ID']) == current_track:\n",
    "        if first:\n",
    "            string = f'{index+1}'\n",
    "            first = False\n",
    "        else:\n",
    "            string = string + \", \" + f'{index+1}'\n",
    "    else:\n",
    "        csv_writer.writerow([string])\n",
    "        print(string)\n",
    "        print(current_track)\n",
    "\n",
    "        string = f'{index+1}'\n",
    "        current_track += 1\n",
    "file.close()"
   ]
  },
  {
   "cell_type": "markdown",
   "id": "fe926b5d-0abd-4192-9f10-526d7ce1f06c",
   "metadata": {},
   "source": [
    "# add ROIs to ROI Manager"
   ]
  },
  {
   "cell_type": "code",
   "execution_count": 10,
   "id": "f4223fd3-5fb0-43a8-bb46-db408aaf7f3a",
   "metadata": {},
   "outputs": [],
   "source": [
    "df = pandas.read_csv(\"/home/saka/Documents/Lab_stuff/confocal/exp1ATG7_scene3/trackmate/exportTracks_edited.csv\")\n",
    "roiset = \"/home/saka/Documents/Lab_stuff/confocal/exp1ATG7_scene3/rois/\"\n",
    "for index, row in df.iterrows():\n",
    "    file = row['LABEL'] + '.roi'\n",
    "    #imp2 = ij.IJ.openImage(roiset+file)\n",
    "    rm.open(roiset+file)"
   ]
  },
  {
   "cell_type": "markdown",
   "id": "e415e408-c2a0-4a52-8921-3886e294e263",
   "metadata": {},
   "source": [
    "# add color overlay for each track"
   ]
  },
  {
   "cell_type": "code",
   "execution_count": null,
   "id": "89db5026-9544-4836-81f7-cc3ddce4b0e9",
   "metadata": {},
   "outputs": [],
   "source": [
    "max_channels = directory_path + \"/max_channels.tif\"\n",
    "imp = ij.IJ.openImage(max_channels)\n",
    "imp.show()"
   ]
  },
  {
   "cell_type": "code",
   "execution_count": null,
   "id": "16f46127-b0dc-4e03-93f1-ada11e686b67",
   "metadata": {},
   "outputs": [],
   "source": [
    "data_info = {}\n",
    "for element in range(len(imp.dims)):\n",
    "    name = imp.dims[element]\n",
    "    data_info[name] = imp.shape[element]\n",
    "    print(name)\n",
    "num_channel = data_info['C'] + 1"
   ]
  },
  {
   "cell_type": "code",
   "execution_count": null,
   "id": "b13bf5dc-0269-4810-94a1-ae55f4e1c6ca",
   "metadata": {},
   "outputs": [],
   "source": [
    "for n in range (1, num_channel):\n",
    "    imp.setC(n)\n",
    "    ij.IJ.resetMinAndMax(imp)\n",
    "imp.setC(1)\n",
    "ij.IJ.run(imp, \"Green\", \"\");\n",
    "imp.setC(2)\n",
    "ij.IJ.run(imp, \"Red\", \"\");"
   ]
  },
  {
   "cell_type": "code",
   "execution_count": null,
   "id": "f1db3eb4-fc2a-4e38-9abd-b1ed306cdefd",
   "metadata": {},
   "outputs": [],
   "source": [
    "df2 = pandas.read_csv(\"/home/saka/Documents/Lab_stuff/confocal/exp1ATG7_scene3/trackmate/da_Tracks.csv\", header=None)\n",
    "\n",
    "#nearest_path = \"C:/Users/volkenlab/Documents/Anushka/nearest.csv\"\n",
    "#testing = pandas.read_csv(nearest_path)\n",
    "rm = ij.RoiManager.getRoiManager()\n",
    "\n",
    "import random\n",
    "colors = [\"black\", \"blue\", \"cyan\", \"green\", \"magenta\", \"orange\", \"red\", \"white\", \"yellow\"]\n",
    "\n",
    "for index, row in df2.iterrows():\n",
    "    l = row[0].split(\", \")\n",
    "    print(l)\n",
    "    random_color = random.choice(colors)\n",
    "    for cell in l:\n",
    "        cell_index = int(cell)\n",
    "        roi = rm.select(cell_index -1)\n",
    "        overlay_command = f\"Overlay.addSelection('{random_color}', 5);\"\n",
    "        ij.py.run_macro(overlay_command)"
   ]
  },
  {
   "cell_type": "markdown",
   "id": "cc951c20-a926-4d20-99f1-d4b8b9817396",
   "metadata": {},
   "source": [
    "### selection of single cells and quality control"
   ]
  },
  {
   "cell_type": "code",
   "execution_count": null,
   "id": "0b7100cf-101c-4ef5-ba9f-469ca66acad8",
   "metadata": {},
   "outputs": [],
   "source": [
    "cell1 = [91, 3]\n",
    "cell2 = [9]\n",
    "cell3 = [10]"
   ]
  },
  {
   "cell_type": "code",
   "execution_count": null,
   "id": "fda7eade-c3e9-487b-a202-ae8213fa9132",
   "metadata": {},
   "outputs": [],
   "source": [
    "# testing the merging of 2 tracks\n",
    "part1 = df2.iloc[91]\n",
    "part1 = part1[0].split(\", \")\n",
    "part2 = df2.iloc[3]\n",
    "part2 = part2[0].split(\", \")\n",
    "final_part = part1 + part2\n",
    "#print(final_part)\n",
    "\n",
    "for roi in final_part: #just for quality control to overlay the cell with a single color\n",
    "    cellid = int(roi)\n",
    "    rm.select(cellid - 1)\n",
    "    overlay_command = f\"Overlay.addSelection('Red', 20);\"\n",
    "    ij.py.run_macro(overlay_command)"
   ]
  },
  {
   "cell_type": "code",
   "execution_count": null,
   "id": "7e4fc613-ca9e-4875-ad9d-a332233a30e6",
   "metadata": {},
   "outputs": [],
   "source": [
    "cell = df2.iloc[10]\n",
    "cell2 = cell[0].split(\", \")\n",
    "for roi in cell2: \n",
    "    cellid = int(roi)\n",
    "    rm.select(cellid - 1)\n",
    "    overlay_command = f\"Overlay.addSelection('Green', 20);\"\n",
    "    ij.py.run_macro(overlay_command)"
   ]
  },
  {
   "cell_type": "markdown",
   "id": "9a04d677-bfa9-4f2d-8695-1e3709850155",
   "metadata": {},
   "source": [
    "## Test Area"
   ]
  },
  {
   "cell_type": "code",
   "execution_count": null,
   "id": "7733674c-0fe2-4778-8006-abdf45388c47",
   "metadata": {},
   "outputs": [],
   "source": [
    "rm = ij.RoiManager.getRoiManager()\n",
    "directory_path = '/home/saka/Documents/Lab_stuff/confocal/exp1ATG7_scene3'"
   ]
  },
  {
   "cell_type": "markdown",
   "id": "8123a09f-88dc-40b4-905a-aeb69d72a747",
   "metadata": {},
   "source": [
    "### Duplication of single cell signal "
   ]
  },
  {
   "cell_type": "code",
   "execution_count": null,
   "id": "39f748dc-4b32-4cc2-999c-edde1c6285e9",
   "metadata": {},
   "outputs": [],
   "source": [
    "cells_desired = [19, 14, 113, 45, 5, [32, 3], [18, 68], [16, 128], [40, 14]]"
   ]
  },
  {
   "cell_type": "code",
   "execution_count": 13,
   "id": "619af6ea-c286-455f-8cf8-0793dc1d9386",
   "metadata": {},
   "outputs": [],
   "source": [
    "# assumes that \"add ROIs to ROI Manager\" has already been run\n",
    "\n",
    "cells_desired = [19, 14, 113, 45, 5, [32, 3], [18, 68], [16, 128], [40, 14]] ## here the user can specify which row of Da_Tracks they want to obtain a single cell video for (from excel)\n",
    "signal_list = [\"bact\", \"LC3\", \"LV\"] ## here the user can specify which signal videos they want to isolate the cell from\n",
    "for signal in signal_list:\n",
    "    image_path = Path(f\"{directory_path}/channel_{signal}.tif\").as_posix()\n",
    "    imp = ij.IJ.openImage(image_path)\n",
    "    ij.ui().show(imp)\n",
    "    w = scyjava.jimport('ij.WindowManager')\n",
    "    df = pandas.read_csv(directory_path + \"/trackmate/da_Tracks.csv\", header=None)\n",
    "    for cell_desired in cells_desired:\n",
    "        nums = []\n",
    "        if isinstance(cell_desired, int):\n",
    "            row = df.iloc[cell_desired-1]\n",
    "            nums = row[0].split(\", \")\n",
    "        elif isinstance(cell_desired, list):\n",
    "            for c in cell_desired:\n",
    "                row = df.iloc[c-1]\n",
    "                nums += row[0].split(\", \")\n",
    "        arr = []\n",
    "        for x in nums:\n",
    "            arr.append(int(x))\n",
    "        rm = ij.RoiManager.getRoiManager()\n",
    "        for i in range(len(arr)):\n",
    "            cell = arr[i]\n",
    "            roi = rm.getRoi(cell-1)\n",
    "            roi2 = rm.select(cell-1)\n",
    "            frame = roi.getTPosition()\n",
    "            if i == 0:\n",
    "                ij.IJ.run(\"Duplicate...\", \"title=Stack_reg_image duplicate frames=\"+str(frame))\n",
    "                ij.IJ.run(\"Clear Outside\", \"stack\")\n",
    "                ij.IJ.selectWindow(imp.getTitle())\n",
    "            elif i > 0:\n",
    "                ij.IJ.run(\"Duplicate...\", \"title=channels duplicate frames=\"+str(frame))\n",
    "                ij.IJ.run(\"Clear Outside\", \"stack\")\n",
    "                ij.IJ.run(\"Concatenate...\", \"title=Stack_reg_image open image1=Stack_reg_image image2=channels image3=[-- None --]\")\n",
    "                ij.IJ.selectWindow(imp.getTitle())\n",
    "        new_vid =  w.getImage(\"Stack_reg_image\")\n",
    "        if signal == \"bact\":\n",
    "            ij.IJ.save(new_vid, directory_path+\"/bact/\"+\"cell_\"+str(cell_desired)+\".tif\")\n",
    "        else:\n",
    "            ij.IJ.save(new_vid, directory_path+\"/other/\"+signal+\"_cell_\"+str(cell_desired)+\".tif\")\n",
    "        w.getImage(\"Stack_reg_image\").close()\n",
    "        ij.IJ.selectWindow(imp.getTitle())\n",
    "    ij.py.run_macro('close(\"*\")')"
   ]
  },
  {
   "cell_type": "code",
   "execution_count": null,
   "id": "48b48ad3-6bbb-4d69-9dfe-11ae96ea4787",
   "metadata": {},
   "outputs": [],
   "source": [
    "import tkinter as tk\n",
    "from tkinter import filedialog\n",
    "root = tk.Tk()\n",
    "root.withdraw()\n",
    "directory_path = filedialog.askdirectory()"
   ]
  },
  {
   "cell_type": "markdown",
   "id": "6a271112-4bab-4d27-8367-b4dfa0afefd5",
   "metadata": {},
   "source": [
    "### Bacterial ROI collection and coordinates measurement"
   ]
  },
  {
   "cell_type": "code",
   "execution_count": null,
   "id": "759af46c-752f-4fa4-8063-8fa7ee78ea7a",
   "metadata": {
    "editable": true,
    "slideshow": {
     "slide_type": ""
    },
    "tags": []
   },
   "outputs": [],
   "source": [
    "rm = ij.RoiManager.getRoiManager()\n",
    "file_pattern = os.path.join(bact_path, \"*.tif\")\n",
    "file_list = glob.glob(file_pattern)\n",
    "for file_path in file_list :\n",
    "    image = ij.io().open(file_path)\n",
    "    shown = ij.ui().show(image)\n",
    "    roi_collection = \"\"\"\n",
    "    run(\"Duplicate...\", \"duplicate\");\n",
    "    run(\"Smooth\", \"stack\");\n",
    "    run(\"Smooth\", \"stack\");\n",
    "    setAutoThreshold(\"Default dark no-reset\");\n",
    "    run(\"Threshold...\");\n",
    "    setThreshold(5, 255);\n",
    "    setOption(\"BlackBackground\", true);\n",
    "    run(\"Convert to Mask\", \"black\");  \n",
    "    run(\"Analyze Particles...\", \"size=1-Infinity add stack\");\n",
    "    run(\"Set Measurements...\", \"area centroid stack redirect=None decimal=2\");\n",
    "    nbArea=roiManager(\"count\")\n",
    "    for (i=0; i<nbArea; i++) {\n",
    "\t\troiManager(\"Select\", i);\n",
    "\t\trun(\"Measure\");\t\n",
    "    }\n",
    "    close();\n",
    "    close();\n",
    "    \"\"\"\n",
    "    rois = ij.py.run_macro(roi_collection)\n",
    "    f_name = os.path.basename(file_path)\n",
    "    f_name = os.path.splitext(f_name)[0]\n",
    "    rm.runCommand(\"Select All\")\n",
    "    rm.runCommand(\"Save\", f\"{bact_path}/\" + f\"{f_name}.zip\") # this saves the ROIs as a zip file\n",
    "    rm.runCommand(\"Delete\")\n",
    "    measurements = ij.ResultsTable.getResultsTable() # call of the table\n",
    "    measurements_table = ij.convert().convert(measurements, scyjava.jimport('org.scijava.table.Table')) # conversion to a java table object\n",
    "    table = ij.py.from_java(measurements_table) # Conversion into a python dataframe from Java\n",
    "    output_path = Path(f\"{bact_path}/{f_name}.csv\") # save giving a name matching the opened image\n",
    "    table.to_csv(output_path)\n",
    "    ij.py.run_macro(\"\"\" \n",
    "        title = Table.title();\n",
    "        selectWindow(title);\n",
    "        run(\"Close\");\n",
    "    \"\"\")    "
   ]
  },
  {
   "cell_type": "code",
   "execution_count": null,
   "id": "a3193d04-b74a-4f16-9466-3dafa804f597",
   "metadata": {},
   "outputs": [],
   "source": [
    "bact_path = directory_path + \"/bact/\"\n",
    "file_pattern = os.path.join(bact_path, \"*.tif\")\n",
    "file_list = glob.glob(file_pattern)"
   ]
  },
  {
   "cell_type": "code",
   "execution_count": null,
   "id": "b23b447d-9230-4378-86eb-37165a76d0cd",
   "metadata": {},
   "outputs": [],
   "source": [
    "print(file_list)"
   ]
  },
  {
   "cell_type": "markdown",
   "id": "ed1efa45-cf28-4669-b1a7-9959e1372b7a",
   "metadata": {},
   "source": [
    "### running trackmate on bacteria channel"
   ]
  },
  {
   "cell_type": "code",
   "execution_count": null,
   "id": "6c9d6c9b-a32d-4a8a-84a6-361629d59772",
   "metadata": {},
   "outputs": [],
   "source": [
    "import sys\n",
    "import os\n",
    "\n",
    "Model =  scyjava.jimport('fiji.plugin.trackmate.Model')\n",
    "Settings= scyjava.jimport('fiji.plugin.trackmate.Settings')\n",
    "TrackMate = scyjava.jimport('fiji.plugin.trackmate.TrackMate')\n",
    "Logger= scyjava.jimport('fiji.plugin.trackmate.Logger')\n",
    "DetectorKeys= scyjava.jimport('fiji.plugin.trackmate.detection.DetectorKeys') \n",
    "ExportTracksToXML= scyjava.jimport('fiji.plugin.trackmate.action.ExportTracksToXML') \n",
    "TmXmlWriter= scyjava.jimport('fiji.plugin.trackmate.io.TmXmlWriter')\n",
    "LogRecorder = scyjava.jimport('fiji.plugin.trackmate.util.LogRecorder')\n",
    "SparseLAPTrackerFactory= scyjava.jimport('fiji.plugin.trackmate.tracking.jaqaman.SparseLAPTrackerFactory')\n",
    "TMUtils = scyjava.jimport('fiji.plugin.trackmate.util.TMUtils')\n",
    "HyperStackDisplayer = scyjava.jimport('fiji.plugin.trackmate.visualization.hyperstack.HyperStackDisplayer')\n",
    "SelectionModel = scyjava.jimport('fiji.plugin.trackmate.SelectionModel')\n",
    "CellposeDetectorFactory = scyjava.jimport('fiji.plugin.trackmate.cellpose.CellposeDetectorFactory')\n",
    "FeatureFilter = scyjava.jimport('fiji.plugin.trackmate.features.FeatureFilter')\n",
    "DisplaySetting = scyjava.jimport('fiji.plugin.trackmate.gui.displaysettings.DisplaySettings')\n",
    "DisplaySettingsIO = scyjava.jimport('fiji.plugin.trackmate.gui.displaysettings.DisplaySettingsIO')\n",
    "CaptureOverlayAction = scyjava.jimport('fiji.plugin.trackmate.action.CaptureOverlayAction')\n",
    "PretrainedModel= scyjava.jimport('fiji.plugin.trackmate.cellpose.CellposeSettings.PretrainedModel')\n",
    "ThresholdDetectorFactory= scyjava.jimport('fiji.plugin.trackmate.detection.ThresholdDetectorFactory')\n",
    "TrackScheme = scyjava.jimport('fiji.plugin.trackmate.visualization.trackscheme.TrackScheme')\n",
    "TrackTableView = scyjava.jimport('fiji.plugin.trackmate.visualization.table.TrackTableView')\n",
    "AllSpotsTableView = scyjava.jimport('fiji.plugin.trackmate.visualization.table.AllSpotsTableView')\n",
    "\n",
    "#reload(sys)\n",
    "#sys.setdefaultencoding(\"utf-8\")\n",
    "\n",
    "# Directory\n",
    "# Here, the user can specify the directory where the cell images are located\n",
    "src = bact_path\n",
    "out = src+\"Output/\"\n",
    "if not os.path.exists(out):\n",
    "    os.makedirs(out)\n",
    "\n",
    "# Parameters for Detection\n",
    "# Here, the user can specify parameters for the detection step in Trackmate (Threshold Detector)\n",
    "dsettings = {\n",
    "    'TARGET_CHANNEL' : ij.py.to_java(1),\n",
    "    'SIMPLIFY_CONTOURS' : False,\n",
    "    'INTENSITY_THRESHOLD' : 5.0,\n",
    "}\n",
    "\n",
    "# Parameters for Tracking\n",
    "# Here, the user can specify parameters for the tracking step in Trackmate (LAP Tracker)\n",
    "frame_gap = 2\n",
    "tsettings = {\n",
    "    'LINKING_MAX_DISTANCE' : 45.0,\n",
    "    'ALLOW_GAP_CLOSING' : True,\n",
    "    'GAP_CLOSING_MAX_DISTANCE' : 45.0,\n",
    "    'MAX_FRAME_GAP' : ij.py.to_java(2),\n",
    "    'ALLOW_TRACK_SPLITTING' : False,\n",
    "    'SPLITTING_MAX_DISTANCE' : 15.0,\n",
    "    'ALLOW_TRACK_MERGING' : False,\n",
    "}\n",
    "\n",
    "for image in os.listdir(src):\n",
    "    if (image[len(image)-4:] == \".tif\"):\n",
    "\n",
    "        # Open Image\n",
    "        imp = ij.IJ.openImage(src + image)\n",
    "        imp.show()\n",
    "        ij.IJ.run(\"Smooth\", \"stack\")\n",
    "                \n",
    "        # Create Model\n",
    "        model = Model()\n",
    "        settings = Settings(imp)\n",
    "        \n",
    "        # Detector\n",
    "        settings.detectorFactory = ThresholdDetectorFactory()\n",
    "        for parameter, value in dsettings.items():\n",
    "            #settings.detectorSettings.update({parameter:value})\n",
    "            settings.detectorSettings[parameter] = value\n",
    "        filter1 = FeatureFilter('QUALITY', 50, True)\n",
    "        settings.addSpotFilter(filter1)\n",
    "        print(settings.detectorSettings)\n",
    "        \n",
    "        # Tracker\n",
    "        settings.trackerFactory = SparseLAPTrackerFactory()\n",
    "        settings.trackerSettings = settings.trackerFactory.getDefaultSettings()\n",
    "        for parameter, value in tsettings.items():\n",
    "            #settings.trackerSettings.update({parameter:value})\n",
    "            settings.trackerSettings[parameter] = value\n",
    "        \n",
    "        # Execute Tracking\n",
    "        trackmate = TrackMate(model, settings)\n",
    "        ok = trackmate.checkInput()\n",
    "        if not ok:\n",
    "            sys.exit(str(trackmate.getErrorMessage()))\n",
    "        ok = trackmate.process()\n",
    "        if not ok:\n",
    "            sys.exit(str(trackmate.getErrorMessage()))\n",
    "        selectionModel = SelectionModel(model)\n",
    "        \n",
    "        # Display\n",
    "        ds = DisplaySettingsIO.readUserDefault()\n",
    "        displayer = HyperStackDisplayer(model, selectionModel, imp, ds)\n",
    "        displayer.render()\n",
    "        displayer.refresh()\n",
    "        trackscheme = TrackScheme(model, selectionModel, ds)\n",
    "        #trackscheme.render()\n",
    "        \n",
    "        # Save Data\n",
    "        outFile = Path(out+image+\"_exportModel.xml\")\n",
    "        writer = TmXmlWriter(outFile)\n",
    "        writer.appendModel(model)\n",
    "        writer.appendSettings(settings)\n",
    "        writer.writeToFile()\n",
    "        csvFileTracks = Path(out+image+\"_exportTracks.csv\")\n",
    "        trackTableView = TrackTableView(model, selectionModel, ds)\n",
    "        trackTableView.getSpotTable().exportToCsv(csvFileTracks)"
   ]
  },
  {
   "cell_type": "code",
   "execution_count": 15,
   "id": "3b623208-6755-4e9e-a51e-180bc92436ab",
   "metadata": {},
   "outputs": [
    {
     "data": {
      "text/plain": [
       "<java object 'org.scijava.script.ScriptModule'>"
      ]
     },
     "execution_count": 15,
     "metadata": {},
     "output_type": "execute_result"
    }
   ],
   "source": [
    "ij.py.run_macro('close(\"*\")')"
   ]
  },
  {
   "cell_type": "markdown",
   "id": "d1b098f1-3c77-4640-8b7b-20ac49a6640c",
   "metadata": {},
   "source": [
    "### Joining of trackmate output and ROI coordinates from fiji"
   ]
  },
  {
   "cell_type": "code",
   "execution_count": 19,
   "id": "90c8bce7-107e-4cbe-ad50-ffc54a575fd6",
   "metadata": {
    "editable": true,
    "slideshow": {
     "slide_type": ""
    },
    "tags": []
   },
   "outputs": [],
   "source": [
    "from math import isnan\n",
    "\n",
    "\n",
    "def xref_locations(first, second, first_x='POSITION_X', first_y='POSITION_Y', first_z='POSITION_Z',\n",
    "                   second_x='X', second_y='Y', second_z='Slice',\n",
    "                   max_dist=20, verbose=False):\n",
    "    pairwise_elements = pandas.DataFrame()\n",
    "    first_measurements = pandas.read_csv(first)\n",
    "    first_measurements = first_measurements.drop([0,1,2])\n",
    "    second_measurements = pandas.read_csv(second)\n",
    "    first_gdf = geopandas.GeoDataFrame(\n",
    "        first_measurements,\n",
    "        geometry=geopandas.points_from_xy(first_measurements[first_x],\n",
    "                                          first_measurements[first_y],\n",
    "                                          first_measurements[first_z]))\n",
    "    second_gdf = geopandas.GeoDataFrame(\n",
    "        second_measurements,\n",
    "        geometry=geopandas.points_from_xy(second_measurements[second_x],\n",
    "                                          second_measurements[second_y],\n",
    "                                          second_measurements[second_z]))\n",
    "    ti_rows = first_gdf.shape[0]\n",
    "    tj_rows = second_gdf.shape[0]\n",
    "    for ti_row in range(0, ti_rows):\n",
    "        if verbose:\n",
    "            print(f\"On row: {ti_row}\")\n",
    "        ti_element = first_gdf.iloc[[ti_row, ]]\n",
    "        # Get the frame of the current element\n",
    "        ti_frame = int(ti_element['FRAME'].values[0])  # Convert to integer values in 'FRAME' column\n",
    "        # Filter second_gdf to only include elements with the same frame\n",
    "        same_frame_elements = second_gdf[second_gdf['Frame'] == (ti_frame + 1)]\n",
    "        \n",
    "        titj = geopandas.sjoin_nearest(ti_element, same_frame_elements,\n",
    "                                       distance_col=\"pairwise_dist\",\n",
    "                                       max_distance=max_dist)\n",
    "        chosen_closest_dist = titj.pairwise_dist.min()\n",
    "        if (isnan(chosen_closest_dist)):\n",
    "            print(f\"This element has no neighbor within {max_dist}.\")\n",
    "        else:\n",
    "            chosen_closest_cell = titj.pairwise_dist == chosen_closest_dist\n",
    "            chosen_closest_row = titj[chosen_closest_cell]\n",
    "            pairwise_tmp = pandas.concat([pairwise_elements, chosen_closest_row])\n",
    "            pairwise_elements = pairwise_tmp\n",
    "    return pairwise_elements\n"
   ]
  },
  {
   "cell_type": "code",
   "execution_count": 20,
   "id": "929c7256-3700-4eff-8ba4-3265ff2a7247",
   "metadata": {
    "editable": true,
    "slideshow": {
     "slide_type": ""
    },
    "tags": []
   },
   "outputs": [],
   "source": [
    "import matplotlib.pyplot as plt\n",
    "file_pattern = os.path.join(bact_path, \"*.tif\")\n",
    "file_list = glob.glob(file_pattern)\n",
    "\n",
    "for file_path in file_list:\n",
    "    filename = os.path.basename(file_path)\n",
    "    filename2 = os.path.splitext(filename)[0]\n",
    "    first = Path(f\"{bact_path}/Output/{filename}_exportTracks.csv\")\n",
    "    second = Path(f\"{bact_path}/{filename2}.csv\")\n",
    "    #first = '/home/saka/Documents/Lab_stuff/confocal/exp2/tracks_from_script.csv'\n",
    "    #second = '/home/saka/Documents/Lab_stuff/confocal/exp2/results_bacteria.csv'\n",
    "    pairwise = xref_locations(first, second, \n",
    "                          first_x='POSITION_X', \n",
    "                          first_y='POSITION_Y', \n",
    "                          first_z='POSITION_Z', \n",
    "                          second_x='X', \n",
    "                          second_y='Y', \n",
    "                          second_z='Slice', \n",
    "                          verbose=False)\n",
    "    #pairwise.head()\n",
    "    grouped = pairwise.groupby('TRACK_ID')['Unnamed: 0'].apply(list).reset_index()\n",
    "    grouped.rename(columns={'Unnamed: 0': 'object_ID_list'}, inplace=True)\n",
    "    final_csv = Path(f\"{directory_path}/{filename2}_grouped.csv\")\n",
    "    grouped.to_csv(final_csv)"
   ]
  },
  {
   "cell_type": "code",
   "execution_count": null,
   "id": "559ab0f5-b7a8-4139-8e36-6778b97e4ebf",
   "metadata": {},
   "outputs": [],
   "source": [
    "print(len(file_list))"
   ]
  },
  {
   "cell_type": "markdown",
   "id": "14edb42d-539e-4c9b-9fcf-c2e322d8e6a4",
   "metadata": {},
   "source": [
    "### Quality control of bacterial tracking"
   ]
  },
  {
   "cell_type": "code",
   "execution_count": null,
   "id": "d6be8e82-632d-4aca-adf0-a16a2be1e553",
   "metadata": {},
   "outputs": [],
   "source": [
    "directory_path = '/home/saka/Documents/Lab_stuff/confocal/test_script_trackmate/'\n",
    "rm = ij.RoiManager.getRoiManager()"
   ]
  },
  {
   "cell_type": "code",
   "execution_count": 21,
   "id": "e1fecdc1-16b7-465c-b194-28977869e378",
   "metadata": {},
   "outputs": [],
   "source": [
    "import random\n",
    "file_pattern = os.path.join(bact_path, \"*.tif\")\n",
    "file_list = glob.glob(file_pattern)\n",
    "colors = [\"blue\", \"cyan\", \"green\", \"magenta\", \"orange\", \"red\", \"yellow\"]\n",
    "for file_path in file_list: # cycle through images, open them and open the matching \"grouped' csv file\n",
    "    imp = ij.IJ.openImage(file_path)\n",
    "    ij.ui().show(imp)\n",
    "    f_name = os.path.basename(file_path)\n",
    "    f_name = os.path.splitext(f_name)[0]\n",
    "    input_csv = Path(f\"{directory_path}/{f_name}_grouped.csv\")\n",
    "    df = pandas.read_csv(input_csv)\n",
    "    pouet = df['object_ID_list']\n",
    "    input_ROI = Path(f\"{bact_path}/{f_name}.zip\")\n",
    "    rm.open(f\"{input_ROI}\")\n",
    "    for i in range(len(pouet)):\n",
    "        single_row = df.iloc[i]\n",
    "        random_color = random.choice(colors)\n",
    "        row_cellids = single_row.object_ID_list\n",
    "        row_cleaned = row_cellids.strip('[').strip(']')\n",
    "        row_array = row_cleaned.split(', ')\n",
    "        for cell in row_array:\n",
    "            cell_index = int(cell)\n",
    "            roi = rm.select(cell_index)\n",
    "            overlay_command = f\"Overlay.addSelection('{random_color}',2);\"\n",
    "            ij.py.run_macro(overlay_command)\n",
    "    ij.py.run_macro(\"setMinAndMax(0, 50);\")\n",
    "    ij.py.run_macro(\"run('Flatten', 'stack');\")\n",
    "    method = 'max all'\n",
    "    z_projector_result = ZProjector.run(imp, method)\n",
    "    z_collapsed_image = ij.py.from_java(z_projector_result)\n",
    "    z_collapsed_dataset = ij.py.to_dataset(z_projector_result)\n",
    "    result_path = os.path.splitext(file_path)[0] + \"_overlay.tif\"\n",
    "    ij.io().save(z_collapsed_dataset, result_path)\n",
    "    ij.py.run_macro(\"close();\")\n",
    "    ij.py.run_macro(\"roiManager('Select All');\")\n",
    "    rm.runCommand(\"Delete\")\n",
    "    "
   ]
  },
  {
   "cell_type": "markdown",
   "id": "a074bc53-6286-4add-a6cd-9062d8ecc7c2",
   "metadata": {},
   "source": [
    "### Quantification on single MCV"
   ]
  },
  {
   "cell_type": "code",
   "execution_count": 23,
   "id": "06276f95-db35-4cce-8dfe-8f4185d114d5",
   "metadata": {},
   "outputs": [],
   "source": [
    "channel_path = Path(f\"{directory_path}/other\")\n",
    "file_pattern = os.path.join(channel_path, \"*.tif\")\n",
    "file_list = glob.glob(file_pattern)"
   ]
  },
  {
   "cell_type": "code",
   "execution_count": null,
   "id": "c6a873fb-5d69-470d-8839-efdd7a90d2f4",
   "metadata": {},
   "outputs": [],
   "source": [
    "len_list = int(len(file_list)/2)\n",
    "print(len_list)"
   ]
  },
  {
   "cell_type": "code",
   "execution_count": null,
   "id": "38568552-82bf-45a7-8f93-ba9e757d296c",
   "metadata": {},
   "outputs": [],
   "source": [
    "print(file_list)"
   ]
  },
  {
   "cell_type": "code",
   "execution_count": 12,
   "id": "49e15ad8-2dac-452e-a93a-00ee7e71be7f",
   "metadata": {},
   "outputs": [],
   "source": [
    "file_path = '/home/saka/Documents/Lab_stuff/confocal/exp1ATG7_scene3/other/LC3_single_cell_13.tif'\n",
    "prefix_lc3 = 'LC3_'\n",
    "basename = os.path.basename(file_path)\n",
    "f_name = os.path.splitext(basename)[0]\n",
    "f_name2 = f_name.strip(prefix_lc3)\n",
    "if basename.startswith(prefix_lc3):\n",
    "    print(basename)"
   ]
  },
  {
   "cell_type": "code",
   "execution_count": 24,
   "id": "d1d54e0f-d01e-4722-924a-d166d5af9eb6",
   "metadata": {},
   "outputs": [],
   "source": [
    "#set measurement \n",
    "set_string = f'Set Measurements...'\n",
    "measure_string = f'mean stack redirect=None decimal=2'\n",
    "ij.IJ.run(set_string, measure_string)\n",
    "cois = ['LC3', 'LV']\n",
    "prefix_bact = 'bact'\n",
    "\n",
    "# preparation of variables for file name call automation\n",
    "for file_path in file_list:\n",
    "    f_name = os.path.basename(file_path)\n",
    "    basename = os.path.splitext(f_name)[0]\n",
    "\n",
    "    if basename.startswith(cois[0]):\n",
    "        corename = basename.split(\"_\", maxsplit=1)[1]\n",
    "        input_csv = Path(f\"{directory_path}/{corename}_grouped.csv\")\n",
    "        input_roi = Path(f\"{directory_path}/bact/{corename}.zip\")\n",
    "        df0 = pandas.read_csv(input_csv)\n",
    "        rm.open(f\"{input_roi}\")\n",
    "\n",
    "        for channel in cois:\n",
    "            c_path = Path(f\"{directory_path}/other/{channel}_{corename}.tif\").as_posix()\n",
    "            image_c = ij.io().open(c_path)\n",
    "            ij.ui().show(image_c)\n",
    "            for n in range(len(df0)):\n",
    "                single_row = df0['object_ID_list'][n] #testing.iloc[10] #row number -2\n",
    "                row_cleaned = single_row.strip('[').strip(']')\n",
    "                terms = row_cleaned.split(\", \")\n",
    "                nums = []\n",
    "                for term in terms:\n",
    "                    nums.append(int(term))\n",
    "                nums.sort()\n",
    "                for bact in nums:\n",
    "                    roi = rm.select(bact)\n",
    "                    ij.IJ.run('Measure')\n",
    "            output = Path(f\"{directory_path}/{channel}_{corename}.csv\").as_posix()\n",
    "            saving = ij.IJ.saveAs(\"Results\", output)\n",
    "            ij.IJ.run(\"Clear Results\")\n",
    "            ij.IJ.selectWindow(f\"{channel}_{corename}.tif\")\n",
    "            ij.IJ.run('Close')"
   ]
  },
  {
   "cell_type": "code",
   "execution_count": null,
   "id": "a91f2683-e57a-452a-a573-32648792cec5",
   "metadata": {},
   "outputs": [],
   "source": [
    "file_pattern = os.path.join(directory_path, \"*.tif.csv\")\n",
    "file_list = glob.glob(file_pattern)\n",
    "len_list = int(len(file_list)/2)\n",
    "print(len_list)"
   ]
  },
  {
   "cell_type": "code",
   "execution_count": 1,
   "id": "20587cef-56a3-49ce-8d13-53bc5eb70667",
   "metadata": {},
   "outputs": [
    {
     "ename": "NameError",
     "evalue": "name 'os' is not defined",
     "output_type": "error",
     "traceback": [
      "\u001b[0;31m---------------------------------------------------------------------------\u001b[0m",
      "\u001b[0;31mNameError\u001b[0m                                 Traceback (most recent call last)",
      "Cell \u001b[0;32mIn[1], line 2\u001b[0m\n\u001b[1;32m      1\u001b[0m cell_list \u001b[38;5;241m=\u001b[39m []\n\u001b[0;32m----> 2\u001b[0m \u001b[38;5;28;01mfor\u001b[39;00m filename \u001b[38;5;129;01min\u001b[39;00m \u001b[43mos\u001b[49m\u001b[38;5;241m.\u001b[39mlistdir(directory_path\u001b[38;5;241m+\u001b[39m\u001b[38;5;124m\"\u001b[39m\u001b[38;5;124m/measurement\u001b[39m\u001b[38;5;124m\"\u001b[39m):\n\u001b[1;32m      3\u001b[0m     \u001b[38;5;28;01mif\u001b[39;00m filename\u001b[38;5;241m.\u001b[39mstartswith(cois[\u001b[38;5;241m0\u001b[39m]):\n\u001b[1;32m      4\u001b[0m         basename \u001b[38;5;241m=\u001b[39m filename[\u001b[38;5;28mlen\u001b[39m(cois[\u001b[38;5;241m0\u001b[39m])\u001b[38;5;241m+\u001b[39m\u001b[38;5;241m1\u001b[39m:]\n",
      "\u001b[0;31mNameError\u001b[0m: name 'os' is not defined"
     ]
    }
   ],
   "source": [
    "cell_list = []\n",
    "for filename in os.listdir(directory_path+\"/measurement\"):\n",
    "    if filename.startswith(cois[0]):\n",
    "        basename = filename[len(cois[0])+1:]\n",
    "        corename = os.path.splitext(basename)[0]\n",
    "        cell_list.append(corename)\n",
    "\n",
    "for cell in cell_list:\n",
    "    input_csv_lc3 = Path(f\"{directory_path}/measurement/LC3_{cell}.csv\")\n",
    "    input_csv_lv = Path(f\"{directory_path}/measurement/LV_{cell}.csv\")\n",
    "    \n",
    "    #first marker csv\n",
    "    df1 = pandas.read_csv(input_csv_lc3)\n",
    "    df1.rename(columns={'Mean': 'Mean_LC3'}, inplace=True)\n",
    "    df1 = df1.drop(columns = [df1.columns[0],df1.columns[2]], axis =1)\n",
    "\n",
    "    #second marker csv\n",
    "    df2 = pandas.read_csv(input_csv_lv)\n",
    "    df2.rename(columns={'Mean': 'Mean_LV'}, inplace=True)\n",
    "    df2 = df2.drop(columns =[df2.columns[0],df2.columns[2], df2.columns[3]], axis =1)\n",
    "\n",
    "    #create new merged dataframe:\n",
    "    final_results = pandas.concat([df1, df2], axis = 1)\n",
    "    final_results = final_results.iloc[:, [1, 0, 2]]\n",
    "\n",
    "    # add a column for track_ids (based on grouped.csv)\n",
    "    input_csv = Path(f\"{directory_path}/grouped/{cell}_grouped.csv\")\n",
    "    df0 = pandas.read_csv(input_csv)\n",
    "    track_ids = []\n",
    "    for index, row in df0.iterrows():\n",
    "        cellnums = row['object_ID_list'].strip('[').strip(']').split(\", \")\n",
    "        for cellnum in cellnums:\n",
    "            track_ids.append(index)\n",
    "    final_results['track_id'] = track_ids\n",
    "    \n",
    "    out = directory_path +\"/final_output/\"\n",
    "    if not os.path.exists(out):\n",
    "        os.makedirs(out)\n",
    "    output_path = Path(f\"{out}/{cell}_final_result.csv\")\n",
    "    final_results.to_csv(output_path)"
   ]
  },
  {
   "cell_type": "code",
   "execution_count": null,
   "id": "4a1085c8-0128-444a-a300-9c2c10551d0b",
   "metadata": {},
   "outputs": [],
   "source": []
  }
 ],
 "metadata": {
  "kernelspec": {
   "display_name": "Python 3 (ipykernel)",
   "language": "python",
   "name": "python3"
  },
  "language_info": {
   "codemirror_mode": {
    "name": "ipython",
    "version": 3
   },
   "file_extension": ".py",
   "mimetype": "text/x-python",
   "name": "python",
   "nbconvert_exporter": "python",
   "pygments_lexer": "ipython3",
   "version": "3.10.12"
  }
 },
 "nbformat": 4,
 "nbformat_minor": 5
}
