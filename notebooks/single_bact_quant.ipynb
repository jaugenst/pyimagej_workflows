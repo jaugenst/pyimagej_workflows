{
 "cells": [
  {
   "cell_type": "markdown",
   "id": "506b9c74-1e77-4fb6-bd16-cd61f2b3ead6",
   "metadata": {},
   "source": [
    "# Modules and libraries"
   ]
  },
  {
   "cell_type": "code",
   "execution_count": null,
   "id": "ba863cd9-eeb5-455a-8618-2392204e4bb4",
   "metadata": {},
   "outputs": [],
   "source": [
    "from cellpose import models, io\n",
    "from cellpose.io import *\n",
    "import glob\n",
    "import imagej\n",
    "from jpype import JArray, JInt\n",
    "import matplotlib.pyplot as plt\n",
    "import os\n",
    "import re\n",
    "import pandas\n",
    "from pandas import DataFrame\n",
    "from pathlib import Path\n",
    "import scyjava\n",
    "import shutil\n",
    "import tkinter as tk\n",
    "from tkinter import filedialog\n",
    "from PIL import Image\n",
    "import sys\n",
    "import os"
   ]
  },
  {
   "cell_type": "markdown",
   "id": "d52e8f5b-70c4-4c0e-9015-248368e60504",
   "metadata": {},
   "source": [
    "# Fiji initialization"
   ]
  },
  {
   "cell_type": "code",
   "execution_count": null,
   "id": "58cf9c58-5b93-40b3-ac78-7a58f3356d17",
   "metadata": {},
   "outputs": [],
   "source": [
    "scyjava.config.add_option('-Xmx30g')\n",
    "#ij = imagej.init('/home/saka/fiji-linux64/Fiji.app', mode = 'interactive')\n",
    "ij = imagej.init('/home/saka/sw/local/fiji/2023', mode='interactive')\n",
    "ij.ui().showUI()\n",
    "ij.getVersion()"
   ]
  },
  {
   "cell_type": "markdown",
   "id": "8917b730-e205-49cc-97eb-175bba99fcc0",
   "metadata": {},
   "source": [
    "# Import of Fiji plugins and Trackmate settings"
   ]
  },
  {
   "cell_type": "code",
   "execution_count": null,
   "id": "2340289e-5ab8-48d5-b5ae-752618252d27",
   "metadata": {},
   "outputs": [],
   "source": [
    "showPolygonRoi = scyjava.jimport('ij.gui.PolygonRoi')\n",
    "Overlay = scyjava.jimport('ij.gui.Overlay')\n",
    "Regions = scyjava.jimport('net.imglib2.roi.Regions')\n",
    "LabelRegions = scyjava.jimport('net.imglib2.roi.labeling.LabelRegions')\n",
    "ZProjector = scyjava.jimport('ij.plugin.ZProjector')()\n",
    "Duplicator = scyjava.jimport('ij.plugin.Duplicator')()\n",
    "ov = Overlay()\n",
    "Model =  scyjava.jimport('fiji.plugin.trackmate.Model')\n",
    "Settings= scyjava.jimport('fiji.plugin.trackmate.Settings')\n",
    "TrackMate = scyjava.jimport('fiji.plugin.trackmate.TrackMate')\n",
    "Settings= scyjava.jimport('fiji.plugin.trackmate.Settings')\n",
    "TrackMate = scyjava.jimport('fiji.plugin.trackmate.TrackMate')\n",
    "Logger= scyjava.jimport('fiji.plugin.trackmate.Logger')\n",
    "DetectorKeys= scyjava.jimport('fiji.plugin.trackmate.detection.DetectorKeys') \n",
    "ExportTracksToXML= scyjava.jimport('fiji.plugin.trackmate.action.ExportTracksToXML') \n",
    "TmXmlWriter= scyjava.jimport('fiji.plugin.trackmate.io.TmXmlWriter')\n",
    "LogRecorder = scyjava.jimport('fiji.plugin.trackmate.util.LogRecorder')\n",
    "SparseLAPTrackerFactory= scyjava.jimport('fiji.plugin.trackmate.tracking.jaqaman.SparseLAPTrackerFactory')\n",
    "TMUtils = scyjava.jimport('fiji.plugin.trackmate.util.TMUtils')\n",
    "HyperStackDisplayer = scyjava.jimport('fiji.plugin.trackmate.visualization.hyperstack.HyperStackDisplayer')\n",
    "SelectionModel = scyjava.jimport('fiji.plugin.trackmate.SelectionModel')\n",
    "CellposeDetectorFactory = scyjava.jimport('fiji.plugin.trackmate.cellpose.CellposeDetectorFactory')\n",
    "FeatureFilter = scyjava.jimport('fiji.plugin.trackmate.features.FeatureFilter')\n",
    "DisplaySetting = scyjava.jimport('fiji.plugin.trackmate.gui.displaysettings.DisplaySettings')\n",
    "DisplaySettingsIO = scyjava.jimport('fiji.plugin.trackmate.gui.displaysettings.DisplaySettingsIO')\n",
    "CaptureOverlayAction = scyjava.jimport('fiji.plugin.trackmate.action.CaptureOverlayAction')\n",
    "PretrainedModel= scyjava.jimport('fiji.plugin.trackmate.cellpose.CellposeSettings.PretrainedModel')\n",
    "ThresholdDetectorFactory= scyjava.jimport('fiji.plugin.trackmate.detection.ThresholdDetectorFactory')\n",
    "TrackScheme = scyjava.jimport('fiji.plugin.trackmate.visualization.trackscheme.TrackScheme')\n",
    "TrackTableView = scyjava.jimport('fiji.plugin.trackmate.visualization.table.TrackTableView')\n",
    "AllSpotsTableView = scyjava.jimport('fiji.plugin.trackmate.visualization.table.AllSpotsTableView')\n",
    "\n",
    "rm = ij.RoiManager.getRoiManager()"
   ]
  },
  {
   "cell_type": "markdown",
   "id": "9292af72-d2fd-4dab-b213-de874df54601",
   "metadata": {},
   "source": [
    "# Main directory choice and create of future sub-directories containing different outputs"
   ]
  },
  {
   "cell_type": "code",
   "execution_count": null,
   "id": "37fb126e-d07b-49df-aa85-ff1008e9c45f",
   "metadata": {},
   "outputs": [],
   "source": [
    "#define your parent directory\n",
    "base_path = '/home/saka/Documents/Lab_stuff/confocal/ATG7/exp1ATG7_scene1/'\n",
    "\n",
    "# define time point of interest by its frame number\n",
    "wanted_frame = 37\n",
    "\n",
    "#Creation of different directory for outputs\n",
    "directory_path = f\"{base_path}/frame{wanted_frame}\"\n",
    "if not os.path.exists(directory_path):\n",
    "    os.makedirs(directory_path)\n",
    "frame_path = directory_path + \"/frame\"\n",
    "if not os.path.exists(frame_path):\n",
    "    os.makedirs(frame_path)\n",
    "measurement_path = directory_path + \"/measurement/\"\n",
    "if not os.path.exists(measurement_path):\n",
    "    os.makedirs(measurement_path)"
   ]
  },
  {
   "cell_type": "code",
   "execution_count": null,
   "id": "c36b63b6-6524-4d16-b9a1-ae0360d7c25a",
   "metadata": {},
   "outputs": [],
   "source": [
    "# open raw file\n",
    "raw_image = ij.io().open('/home/saka/Documents/Lab_stuff/confocal/INFg/exp583/scene8/Scene8.czi')"
   ]
  },
  {
   "cell_type": "markdown",
   "id": "a7d6d940-b07d-4d4b-8d0d-b3f24a96a8d5",
   "metadata": {},
   "source": [
    "# generation of single z multi-channel image and single channel z-stacks images"
   ]
  },
  {
   "cell_type": "code",
   "execution_count": null,
   "id": "346797a4-4110-49fe-82ba-bf240204adae",
   "metadata": {},
   "outputs": [],
   "source": [
    "format = f'Tiff'\n",
    "wanted_channel = 3\n",
    "wanted_z = 3\n",
    "image = raw_image[:, :, wanted_channel, wanted_z, wanted_frame]\n",
    "frame = ij.py.to_imageplus(image)\n",
    "frame.setDimensions(1, 1, 121)\n",
    "#ij.ui().show(lc3)\n",
    "result_path = f\"{frame_path}/frame.tif\"\n",
    "ij.IJ.saveAs(frame, \"Tiff\", ij.py.to_java(result_path))"
   ]
  },
  {
   "cell_type": "code",
   "execution_count": null,
   "id": "8449b723-8539-46bd-92ac-4e3e908f2f7f",
   "metadata": {},
   "outputs": [],
   "source": [
    "bact_channel = 1\n",
    "channel = raw_image[:, :, bact_channel, :, wanted_frame]\n",
    "bact = ij.py.to_imageplus(channel)\n",
    "bact.setDimensions(1, 11, 1)\n",
    "#ij.ui().show(bact)\n",
    "result_path = f\"{frame_path}/channel_bact.tif\"\n",
    "ij.IJ.saveAs(bact, \"Tiff\", ij.py.to_java(result_path))"
   ]
  },
  {
   "cell_type": "code",
   "execution_count": null,
   "id": "cf1e2f1f-bc0f-46e3-8190-441f50d89091",
   "metadata": {},
   "outputs": [],
   "source": [
    "format = f'Tiff'\n",
    "\n",
    "LC3_channel = 0\n",
    "channel = raw_image[:, :, LC3_channel, :, wanted_frame]\n",
    "lc3 = ij.py.to_imageplus(channel)\n",
    "lc3.setDimensions(1, 11, 1)\n",
    "#ij.ui().show(lc3)\n",
    "result_path = f\"{directory_path}/LC3_channel.tif\"\n",
    "ij.IJ.saveAs(lc3, \"Tiff\", ij.py.to_java(result_path))\n",
    "\n",
    "LV_channel = 2\n",
    "channel = raw_image[:, :, LV_channel, :, wanted_frame]\n",
    "lv = ij.py.to_imageplus(channel)\n",
    "lv.setDimensions(1, 11, 1)\n",
    "result_path = f\"{directory_path}/LV_channel.tif\"\n",
    "ij.IJ.saveAs(lv, \"Tiff\", ij.py.to_java(result_path))\n"
   ]
  },
  {
   "cell_type": "markdown",
   "id": "ec7b7850-ed15-4549-88e1-b9945ec96ee4",
   "metadata": {},
   "source": [
    "# cellpose segmentation on single z image - gray channel and collection of ROIs"
   ]
  },
  {
   "cell_type": "code",
   "execution_count": null,
   "id": "0600c149-bc6a-4914-8d8f-e75c76b07b01",
   "metadata": {},
   "outputs": [],
   "source": [
    "image_cp = f\"{frame_path}/frame.tif\"\n",
    "model = models.CellposeModel(gpu=True, model_type='CP_20220523_104016')\n",
    "imgs = io.imread(image_cp)\n",
    "channels = [[0,0]]\n",
    "masks, flows, styles = model.eval(imgs, diameter=None, channels=channels)\n",
    "io.save_to_png(imgs, masks, flows, image_cp)"
   ]
  },
  {
   "cell_type": "code",
   "execution_count": null,
   "id": "514632e0-5b26-4742-880b-64eaff961dac",
   "metadata": {},
   "outputs": [],
   "source": [
    "image_path = f\"{frame_path}/frame.tif\"\n",
    "image = ij.io().open(image_path)\n",
    "imp = ij.py.to_imageplus(image)\n",
    "input_txt = Path(f\"{frame_path}/frame_cp_outlines.txt\")\n",
    "txt_fh = open(input_txt, 'r')\n",
    "for line in txt_fh:\n",
    "    xy = line.rstrip().split(\",\")\n",
    "    xy_coords = [int(element) for element in xy if element not in '']\n",
    "    x_coords = [int(element) for element in xy[::2] if element not in '']\n",
    "    y_coords = [int(element) for element in xy[1::2] if element not in '']\n",
    "    xcoords_jint = JArray(JInt)(x_coords)\n",
    "    ycoords_jint = JArray(JInt)(y_coords)\n",
    "    polygon_roi_instance = scyjava.jimport('ij.gui.PolygonRoi')\n",
    "    roi_instance = scyjava.jimport('ij.gui.Roi')\n",
    "    imported_polygon = polygon_roi_instance(xcoords_jint, ycoords_jint, len(x_coords), int(roi_instance.POLYGON))\n",
    "    imp.setRoi(imported_polygon)\n",
    "    rm.addRoi(imported_polygon)\n",
    "ij.py.run_macro(\"roiManager('Select All');\")\n",
    "rm.runCommand(\"Save\", f\"{frame_path}/\" + f\"frame.zip\")\n"
   ]
  },
  {
   "cell_type": "markdown",
   "id": "5108c85e-185a-4260-8cb1-0ca56c4c9d51",
   "metadata": {},
   "source": [
    "# Display the segmentation result and selection of dead for signal cleaning"
   ]
  },
  {
   "cell_type": "code",
   "execution_count": null,
   "id": "356d96ca-b7fd-4424-a5e9-0500f486abc9",
   "metadata": {},
   "outputs": [],
   "source": [
    "# show the result of the segmentation\n",
    "imp.show()\n",
    "ij.IJ.resetMinAndMax(imp)\n",
    "rm.runCommand(\"Show All with labels\")\n",
    "ij.IJ.run(\"Brightness/Contrast...\")"
   ]
  },
  {
   "cell_type": "code",
   "execution_count": null,
   "id": "a5a00783-d022-4b86-a555-2e7ada4156da",
   "metadata": {},
   "outputs": [],
   "source": [
    "# enter label of the dead cells between the brackets\n",
    "dead_cells = [1, 9]"
   ]
  },
  {
   "cell_type": "code",
   "execution_count": null,
   "id": "47b0b9a0-6720-490b-9504-8eeffb972478",
   "metadata": {},
   "outputs": [],
   "source": [
    "# close all the images and clear the ROI manager\n",
    "rm.runCommand(\"Select All\")\n",
    "rm.runCommand(\"Delete\")\n",
    "ij.py.run_macro('close(\"*\")')"
   ]
  },
  {
   "cell_type": "code",
   "execution_count": null,
   "id": "b1a2db73-65fe-4889-b11a-b1fff1393a69",
   "metadata": {},
   "outputs": [],
   "source": [
    "# open the isolated bacteria channel and clear the signal outside the cells and inside the dead cells\n",
    "image_path = f\"{frame_path}/channel_bact.tif\"\n",
    "imp = ij.IJ.openImage(image_path)\n",
    "imp.show()\n",
    "input_ROI = f\"{frame_path}/frame.zip\"\n",
    "rm.open(input_ROI)\n",
    "rm.runCommand(\"Select All\")\n",
    "rm.runCommand(\"XOR\")\n",
    "ij.IJ.run(\"Clear Outside\", \"stack\")\n",
    "ij.IJ.run(\"Select None\")\n",
    "ij.IJ.run(\"Smooth\", \"stack\")\n",
    "ij.IJ.run(\"Smooth\", \"stack\")\n",
    "for cells in dead_cells:\n",
    "    rm.select(cells-1)\n",
    "    ij.IJ.run(\"Clear\", \"stack\")\n",
    "rm.runCommand(\"Select All\")\n",
    "rm.runCommand(\"Delete\")\n",
    "ij.IJ.run(\"Select None\")"
   ]
  },
  {
   "cell_type": "markdown",
   "id": "163e299b-fa82-45b1-90a1-25264f4ab288",
   "metadata": {},
   "source": [
    "# MCV centroid detection with Trackmate"
   ]
  },
  {
   "cell_type": "code",
   "execution_count": null,
   "id": "6ecf98e7-a37a-442a-b4d0-f1244812cdde",
   "metadata": {},
   "outputs": [],
   "source": [
    "import sys\n",
    "import os\n",
    "\n",
    "# Creation of output directory\n",
    "out = frame_path+\"Output/\"\n",
    "if not os.path.exists(out):\n",
    "    os.makedirs(out)\n",
    "\n",
    "# Parameters for Detection\n",
    "# Here, the user can specify parameters for the detection step in Trackmate (Threshold Detector)\n",
    "dsettings = {\n",
    "    'TARGET_CHANNEL' : ij.py.to_java(2),\n",
    "    'SIMPLIFY_CONTOURS' : False,\n",
    "    'INTENSITY_THRESHOLD' : 20.0,\n",
    "}\n",
    "\n",
    "# Parameters for Tracking\n",
    "# Here, the user can specify parameters for the tracking step in Trackmate (LAP Tracker)\n",
    "frame_gap = 2\n",
    "tsettings = {\n",
    "    'LINKING_MAX_DISTANCE' : 40.0,\n",
    "    'ALLOW_GAP_CLOSING' : True,\n",
    "    'GAP_CLOSING_MAX_DISTANCE' : 40.0,\n",
    "    'MAX_FRAME_GAP' : ij.py.to_java(2),\n",
    "    'ALLOW_TRACK_SPLITTING' : False,\n",
    "    'SPLITTING_MAX_DISTANCE' : 15.0,\n",
    "    'ALLOW_TRACK_MERGING' : False,\n",
    "}\n",
    "\n",
    "# Create Model\n",
    "model = Model()\n",
    "settings = Settings(imp)\n",
    "        \n",
    "# Detector\n",
    "settings.detectorFactory = ThresholdDetectorFactory()\n",
    "for parameter, value in dsettings.items():\n",
    "    #settings.detectorSettings.update({parameter:value})\n",
    "    settings.detectorSettings[parameter] = value\n",
    "filter1 = FeatureFilter('QUALITY', 45, True)\n",
    "settings.addSpotFilter(filter1)\n",
    "print(settings.detectorSettings)\n",
    "        \n",
    "# Tracker\n",
    "settings.trackerFactory = SparseLAPTrackerFactory()\n",
    "settings.trackerSettings = settings.trackerFactory.getDefaultSettings()\n",
    "for parameter, value in tsettings.items():\n",
    "    #settings.trackerSettings.update({parameter:value})\n",
    "    settings.trackerSettings[parameter] = value\n",
    "        \n",
    "# Execute Tracking\n",
    "trackmate = TrackMate(model, settings)\n",
    "ok = trackmate.checkInput()\n",
    "if not ok:\n",
    "    sys.exit(str(trackmate.getErrorMessage()))\n",
    "ok = trackmate.process()\n",
    "if not ok:\n",
    "    sys.exit(str(trackmate.getErrorMessage()))\n",
    "selectionModel = SelectionModel(model)\n",
    "        \n",
    "    # Display\n",
    "ds = DisplaySettingsIO.readUserDefault()\n",
    "#displayer = HyperStackDisplayer(model, selectionModel, imp, ds)\n",
    "#displayer.render()\n",
    "#displayer.refresh()\n",
    "#trackscheme = TrackScheme(model, selectionModel, ds)\n",
    "#trackscheme.render()\n",
    "\n",
    "# Save Data\n",
    "outFile = Path(out+\"bact_exportModel.xml\")\n",
    "writer = TmXmlWriter(outFile)\n",
    "writer.appendModel(model)\n",
    "writer.appendSettings(settings)\n",
    "writer.writeToFile()\n",
    "csvFileTracks = Path(out+\"bact_exportTracks.csv\")\n",
    "csvFileSpots = out+\"bact_exportspots.csv\"\n",
    "#trackTableView = TrackTableView(model, selectionModel, ds)\n",
    "#trackTableView.getTrackTable().exportToCsv(csvFileTracks)\n",
    "#trackTableView.getSpotTable().exportToCsv(csvFileSpots)\n",
    "\n",
    "spotsTableView = AllSpotsTableView(model, selectionModel, ds)\n",
    "spotsTableView.exportToCsv(csvFileSpots)"
   ]
  },
  {
   "cell_type": "markdown",
   "id": "9a53336b-0278-440d-88eb-38f9282659ad",
   "metadata": {},
   "source": [
    "# ROI collection with Fiji and measurement of centroid coordinates"
   ]
  },
  {
   "cell_type": "code",
   "execution_count": null,
   "id": "9009d289-9c06-42d8-975e-9910caac4500",
   "metadata": {},
   "outputs": [],
   "source": [
    "roi_collection = \"\"\"\n",
    "setAutoThreshold(\"Default dark no-reset\");\n",
    "run(\"Threshold...\");\n",
    "setThreshold(20, 255);\n",
    "setOption(\"BlackBackground\", true);\n",
    "run(\"Convert to Mask\", \"black\");  \n",
    "run(\"Analyze Particles...\", \"size=10-Infinity add stack\");\n",
    "run(\"Set Measurements...\", \"area centroid stack redirect=None decimal=2\");\n",
    "nbArea=roiManager(\"count\")\n",
    "for (i=0; i<nbArea; i++) {\n",
    "\troiManager(\"Select\", i);\n",
    "\trun(\"Measure\");\t\n",
    "}\n",
    "close();\n",
    "//close();\n",
    "\"\"\"\n",
    "rois = ij.py.run_macro(roi_collection)\n",
    "f_name = os.path.basename(image_path)\n",
    "f_name = os.path.splitext(f_name)[0]\n",
    "rm.runCommand(\"Select All\")\n",
    "rm.runCommand(\"Save\", f\"{frame_path}/\" + f\"{f_name}.zip\") # this saves the ROIs as a zip file\n",
    "rm.runCommand(\"Delete\")\n",
    "measurements = ij.ResultsTable.getResultsTable() # call of the table\n",
    "measurements_table = ij.convert().convert(measurements, scyjava.jimport('org.scijava.table.Table')) # conversion to a java table object\n",
    "table = ij.py.from_java(measurements_table) # Conversion into a python dataframe from Java\n",
    "output_path = Path(f\"{frame_path}/{f_name}.csv\") # save giving a name matching the opened image\n",
    "table.to_csv(output_path)\n",
    "ij.py.run_macro(\"\"\" \n",
    "    title = Table.title();\n",
    "    selectWindow(title);\n",
    "    run(\"Close\");\n",
    "\"\"\")\n",
    "\n"
   ]
  },
  {
   "cell_type": "markdown",
   "id": "eaf166a0-843c-4f60-9814-a4299ca2c64c",
   "metadata": {},
   "source": [
    "# Matching of Trackmate spots results with with particles detection result"
   ]
  },
  {
   "cell_type": "code",
   "execution_count": null,
   "id": "92a46580-6f1f-46b1-9ccf-745fac60d5f4",
   "metadata": {},
   "outputs": [],
   "source": [
    "# Function for distance calculation between Trackmate spots centroids and Fiji ROIs centroids\n",
    "from math import isnan\n",
    "def xref_locations(first, second, first_x='POSITION_X', first_y='POSITION_Y', first_z='POSITION_Z',\n",
    "                   second_x='X', second_y='Y', second_z='Slice',\n",
    "                   max_dist=20, verbose=False):\n",
    "    pairwise_elements = pandas.DataFrame()\n",
    "    first_measurements = pandas.read_csv(first)\n",
    "    first_measurements = first_measurements.drop([0,1,2])\n",
    "    second_measurements = pandas.read_csv(second)\n",
    "    first_gdf = geopandas.GeoDataFrame(\n",
    "        first_measurements,\n",
    "        geometry=geopandas.points_from_xy(first_measurements[first_x],\n",
    "                                          first_measurements[first_y],\n",
    "                                          first_measurements[first_z]))\n",
    "    second_gdf = geopandas.GeoDataFrame(\n",
    "        second_measurements,\n",
    "        geometry=geopandas.points_from_xy(second_measurements[second_x],\n",
    "                                          second_measurements[second_y],\n",
    "                                          second_measurements[second_z]))\n",
    "    ti_rows = first_gdf.shape[0]\n",
    "    tj_rows = second_gdf.shape[0]\n",
    "    for ti_row in range(0, ti_rows):\n",
    "        if verbose:\n",
    "            print(f\"On row: {ti_row}\")\n",
    "        ti_element = first_gdf.iloc[[ti_row, ]]\n",
    "        \n",
    "        titj = geopandas.sjoin_nearest(ti_element, second_gdf,\n",
    "                                       distance_col=\"pairwise_dist\",\n",
    "                                       max_distance=max_dist)\n",
    "        chosen_closest_dist = titj.pairwise_dist.min()\n",
    "        if (isnan(chosen_closest_dist)):\n",
    "            print(f\"This element has no neighbor within {max_dist}.\")\n",
    "        else:\n",
    "            chosen_closest_cell = titj.pairwise_dist == chosen_closest_dist\n",
    "            chosen_closest_row = titj[chosen_closest_cell]\n",
    "            pairwise_tmp = pandas.concat([pairwise_elements, chosen_closest_row])\n",
    "            pairwise_elements = pairwise_tmp\n",
    "    return pairwise_elements\n"
   ]
  },
  {
   "cell_type": "code",
   "execution_count": null,
   "id": "50a91476-ddbe-4e5d-bd76-58d40d55349f",
   "metadata": {},
   "outputs": [],
   "source": [
    "#Running the function\n",
    "import matplotlib.pyplot as plt\n",
    "first = Path(f\"{directory_path}/frameOutput/bact_exportspots.csv\")\n",
    "second = Path(f\"{frame_path}/channel_bact.csv\")\n",
    "pairwise = xref_locations(first, second, \n",
    "                          first_x='POSITION_X', \n",
    "                          first_y='POSITION_Y', \n",
    "                          first_z='POSITION_Z', \n",
    "                          second_x='X', \n",
    "                          second_y='Y', \n",
    "                          second_z='Slice', \n",
    "                          verbose=False)\n",
    "#pairwise.head()\n",
    "grouped = pairwise.groupby('ID')['Unnamed: 0'].apply(list).reset_index()\n",
    "grouped.rename(columns={'Unnamed: 0': 'object_ID_list'}, inplace=True)\n",
    "final_csv = Path(f\"{frame_path}/channel_bact_grouped.csv\")\n",
    "grouped.to_csv(final_csv)"
   ]
  },
  {
   "cell_type": "markdown",
   "id": "5cc9ffe1-00c9-46db-af22-ed8397362fe1",
   "metadata": {},
   "source": [
    "# quality control of ROIs retained by nearest neighbor calculation"
   ]
  },
  {
   "cell_type": "code",
   "execution_count": null,
   "id": "08dcb2e2-eeaa-4b62-9864-ee6f19eb9540",
   "metadata": {},
   "outputs": [],
   "source": [
    "# This is to make the number of each lane of the \"_grouped csv file\" to be usable for the ROI manager later\n",
    "grouped_path = Path(f\"{frame_path}/channel_bact_grouped.csv\")\n",
    "df = pandas.read_csv(grouped_path)\n",
    "ROI_ID = []\n",
    "for i in range(len(df)):\n",
    "    roi = df['object_ID_list'][i]\n",
    "    nums = roi.strip('[').strip(']')\n",
    "    ROI_ID.append(int(nums))\n",
    "print(ROI_ID)\n",
    "print(len(ROI_ID))"
   ]
  },
  {
   "cell_type": "code",
   "execution_count": null,
   "id": "6bb385ab-ebe5-48b1-b329-9b8db1d5ab00",
   "metadata": {},
   "outputs": [],
   "source": [
    "# opening of the bacterial channel and the Fiji ROIs\n",
    "bact_channel = f\"{frame_path}/channel_bact.tif\"\n",
    "image = ij.io().open(bact_channel)\n",
    "shown = ij.ui().show(image)\n",
    "roi_input = f\"{frame_path}/channel_bact.zip\"\n",
    "rm.open(roi_input)"
   ]
  },
  {
   "cell_type": "code",
   "execution_count": null,
   "id": "307d7370-74e1-4b6e-82ee-89bea193e69d",
   "metadata": {},
   "outputs": [],
   "source": [
    "# For each line of the grouped CSV file, a color is randomly picked and the ROIs of the lines are overlayed on the image with the color. \n",
    "import random\n",
    "colors = [\"blue\", \"cyan\", \"green\", \"magenta\", \"orange\", \"red\", \"white\", \"yellow\"]\n",
    "for i in ROI_ID:\n",
    "    random_color = random.choice(colors)\n",
    "    rm.select(i)\n",
    "    overlay_command = f\"Overlay.addSelection('{random_color}', 2);\"\n",
    "    ij.py.run_macro(overlay_command)\n",
    "    "
   ]
  },
  {
   "cell_type": "code",
   "execution_count": null,
   "id": "1f88aa43-6dda-4e0d-9946-01f236065573",
   "metadata": {},
   "outputs": [],
   "source": [
    "# when done checking the quality of the tracking, this will close everything and clears the ROI manager\n",
    "rm.runCommand(\"Select All\")\n",
    "rm.runCommand(\"Delete\")\n",
    "ij.py.run_macro('close(\"*\")')"
   ]
  },
  {
   "cell_type": "markdown",
   "id": "b8ed8a61-bc13-4fba-a2b2-92bbf3cf6cae",
   "metadata": {},
   "source": [
    "# Fluorescence measurement on bacteria ROI in the other channels"
   ]
  },
  {
   "cell_type": "code",
   "execution_count": null,
   "id": "82ee7896-84db-42a6-b419-51ccf14534e6",
   "metadata": {},
   "outputs": [],
   "source": [
    "# get the files list\n",
    "file_pattern = os.path.join(directory_path, \"*.tif\")\n",
    "file_list = glob.glob(file_pattern)\n",
    "\n",
    "#set measurement \n",
    "set_string = f'Set Measurements...'\n",
    "measure_string = f'mean stack redirect=None decimal=2'\n",
    "ij.IJ.run(set_string, measure_string)\n",
    "cois = ['LC3', 'LV'] \n",
    "\n",
    "# preparation of variables for file name call automation\n",
    "for file_path in file_list:\n",
    "    f_name = os.path.basename(file_path)\n",
    "    basename = os.path.splitext(f_name)[0]\n",
    "\n",
    "    if basename.startswith(cois[0]):\n",
    "        corename = basename.split(\"_\", maxsplit=1)[1]\n",
    "        input_roi = Path(f\"{frame_path}/channel_bact.zip\")\n",
    "        rm.open(f\"{input_roi}\")\n",
    "\n",
    "        for channel in cois:\n",
    "            c_path = Path(f\"{directory_path}/{channel}_{corename}.tif\").as_posix()\n",
    "            image_c = ij.io().open(c_path)\n",
    "            ij.ui().show(image_c)\n",
    "            for i in ROI_ID:\n",
    "                rm.select(i)\n",
    "                ij.IJ.run('Measure')\n",
    "            output = Path(f\"{directory_path}/measurement/{channel}_{corename}.csv\").as_posix()\n",
    "            saving = ij.IJ.saveAs(\"Results\", output)\n",
    "            ij.IJ.run(\"Clear Results\")\n",
    "            ij.py.run_macro('close(\"*\")')\n",
    "rm.runCommand(\"Select All\")\n",
    "rm.runCommand(\"Delete\")"
   ]
  },
  {
   "cell_type": "code",
   "execution_count": null,
   "id": "51f37bec-a91c-4ced-bf2a-fe3940e73b4a",
   "metadata": {},
   "outputs": [],
   "source": [
    "# this whole block is to merge the CSV files from the measurement part\n",
    "\n",
    "cell_list = []\n",
    "for filename in os.listdir(directory_path+\"/measurement\"):\n",
    "    if filename.startswith(cois[0]):\n",
    "        basename = filename[len(cois[0])+1:]\n",
    "        corename = os.path.splitext(basename)[0]\n",
    "        cell_list.append(corename)\n",
    "\n",
    "for cell in cell_list:\n",
    "    input_csv_lc3 = Path(f\"{directory_path}/measurement/LC3_{cell}.csv\")\n",
    "    input_csv_lv = Path(f\"{directory_path}/measurement/LV_{cell}.csv\")\n",
    "    \n",
    "    #first marker csv\n",
    "    df1 = pandas.read_csv(input_csv_lc3)\n",
    "    df1.rename(columns={'Mean': 'Mean_LC3'}, inplace=True)\n",
    "    df1 = df1.drop(columns = [df1.columns[0]], axis =1)\n",
    "\n",
    "    #second marker csv\n",
    "    df2 = pandas.read_csv(input_csv_lv)\n",
    "    df2.rename(columns={'Mean': 'Mean_LV'}, inplace=True)\n",
    "    df2 = df2.drop(columns =[df2.columns[0],df2.columns[2]], axis =1)\n",
    "\n",
    "    #create new merged dataframe:\n",
    "    final_results = pandas.concat([df1, df2], axis = 1)\n",
    "    final_results = final_results.iloc[:, [1, 0, 2]]\n",
    "\n",
    "    out = directory_path +\"/final_output/\"\n",
    "    if not os.path.exists(out):\n",
    "        os.makedirs(out)\n",
    "    output_path = Path(f\"{out}/{cell}_final_result.csv\")\n",
    "    final_results.to_csv(output_path)"
   ]
  },
  {
   "cell_type": "code",
   "execution_count": null,
   "id": "f87195b4-0f76-4ecb-a925-d2e7bbdb3643",
   "metadata": {},
   "outputs": [],
   "source": [
    "            ij.IJ.setAutoThreshold(imp, \"Default dark\")\n",
    "            ij.IJ.setRawThreshold(imp, threshold_low, threshold_high)"
   ]
  },
  {
   "cell_type": "code",
   "execution_count": null,
   "id": "d0103a8c-17f0-4c8a-8ba8-62062fa8f2ec",
   "metadata": {},
   "outputs": [],
   "source": [
    "threshold_low_LC3 = 15\n",
    "threshold_low_LV = 30\n",
    "threshold_high = 255\n",
    "threshold_size = 0\n",
    "distance = 2048\n",
    "known = 319.45\n",
    "unit = \"µm\""
   ]
  },
  {
   "cell_type": "code",
   "execution_count": null,
   "id": "f2dc3613-14c5-431f-ac91-1e94a3673fbd",
   "metadata": {},
   "outputs": [],
   "source": [
    "def roi_numbers(frame_path):\n",
    "    grouped_path = Path(f\"{frame_path}/channel_bact_grouped.csv\")\n",
    "    df = pandas.read_csv(grouped_path)\n",
    "    ROI_ID = []\n",
    "    for i in range(len(df)):\n",
    "        roi = df['object_ID_list'][i]\n",
    "        nums = roi.strip('[').strip(']')\n",
    "        ROI_ID.append(int(nums))\n",
    "    print(ROI_ID)\n",
    "    print(len(ROI_ID))\n",
    "    return ROI_ID"
   ]
  },
  {
   "cell_type": "code",
   "execution_count": null,
   "id": "455a2c52-e902-43f1-b5e5-86162a8f3784",
   "metadata": {},
   "outputs": [],
   "source": [
    "# get the files list\n",
    "file_pattern = os.path.join(directory_path, \"*.tif\")\n",
    "file_list = glob.glob(file_pattern)\n",
    "\n",
    "#set measurement \n",
    "set_string = f'Set Measurements...'\n",
    "measure_string = f'mean limit integrated stack redirect=None decimal=2'\n",
    "ij.IJ.run(set_string, measure_string)\n",
    "cois = ['LC3', 'LV'] \n",
    "\n",
    "# preparation of variables for file name call automation\n",
    "for file_path in file_list:\n",
    "    f_name = os.path.basename(file_path)\n",
    "    basename = os.path.splitext(f_name)[0]\n",
    "\n",
    "    if basename.startswith(cois[0]):\n",
    "        corename = basename.split(\"_\", maxsplit=1)[1]\n",
    "        input_roi = Path(f\"{frame_path}/channel_bact.zip\")\n",
    "        rm.open(f\"{input_roi}\")\n",
    "        for channel in cois:\n",
    "            c_path = Path(f\"{directory_path}/{channel}_{corename}.tif\").as_posix()\n",
    "            fesse = os.path.basename(c_path)\n",
    "            imp = ij.IJ.openImage(c_path)\n",
    "            imp.show()\n",
    "            if fesse.startswith(\"LC3\"):\n",
    "                ij.IJ.setAutoThreshold(imp, \"Default dark\")\n",
    "                ij.IJ.setRawThreshold(imp, threshold_low_LC3, threshold_high)\n",
    "            else:\n",
    "                ij.IJ.setAutoThreshold(imp, \"Default dark\")\n",
    "                ij.IJ.setRawThreshold(imp, threshold_low_LV, threshold_high)\n",
    "                \n",
    "            for i in ROI_ID:\n",
    "                rm.select(i)\n",
    "                ij.IJ.run('Measure')\n",
    "            output = Path(f\"{directory_path}/measurement/{channel}_{corename}_bis.csv\").as_posix()\n",
    "            saving = ij.IJ.saveAs(\"Results\", output)\n",
    "            ij.IJ.run(\"Clear Results\")\n",
    "            ij.py.run_macro('close(\"*\")')\n",
    "rm.runCommand(\"Select All\")\n",
    "rm.runCommand(\"Delete\")"
   ]
  },
  {
   "cell_type": "code",
   "execution_count": null,
   "id": "45b2b248-56ef-4a20-b7d8-ed00e61e04ee",
   "metadata": {},
   "outputs": [],
   "source": []
  }
 ],
 "metadata": {
  "kernelspec": {
   "display_name": "Python 3 (ipykernel)",
   "language": "python",
   "name": "python3"
  },
  "language_info": {
   "codemirror_mode": {
    "name": "ipython",
    "version": 3
   },
   "file_extension": ".py",
   "mimetype": "text/x-python",
   "name": "python",
   "nbconvert_exporter": "python",
   "pygments_lexer": "ipython3",
   "version": "3.10.12"
  }
 },
 "nbformat": 4,
 "nbformat_minor": 5
}
